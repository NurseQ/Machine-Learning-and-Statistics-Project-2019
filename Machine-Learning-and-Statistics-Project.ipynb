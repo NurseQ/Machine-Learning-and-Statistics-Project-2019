{
 "cells": [
  {
   "cell_type": "code",
   "execution_count": 1,
   "metadata": {},
   "outputs": [],
   "source": [
    "# import numerical packages\n",
    "import numpy as np\n",
    "import pandas as pd"
   ]
  },
  {
   "cell_type": "code",
   "execution_count": 2,
   "metadata": {},
   "outputs": [],
   "source": [
    "#import data visualization packages\n",
    "import matplotlib.pyplot as plt\n",
    "import seaborn as sns"
   ]
  },
  {
   "cell_type": "code",
   "execution_count": 3,
   "metadata": {},
   "outputs": [],
   "source": [
    "#magic command to display plots in jupyter\n",
    "%matplotlib inline"
   ]
  },
  {
   "cell_type": "markdown",
   "metadata": {},
   "source": [
    "### Importing and preparing the dataset\n",
    "***"
   ]
  },
  {
   "cell_type": "code",
   "execution_count": 4,
   "metadata": {},
   "outputs": [],
   "source": [
    "# load the dataset from scikit-learn library \n",
    "from sklearn.datasets import load_boston"
   ]
  },
  {
   "cell_type": "code",
   "execution_count": 5,
   "metadata": {},
   "outputs": [],
   "source": [
    "boston = load_boston()"
   ]
  },
  {
   "cell_type": "code",
   "execution_count": 6,
   "metadata": {},
   "outputs": [
    {
     "data": {
      "text/plain": [
       "dict_keys(['data', 'target', 'feature_names', 'DESCR', 'filename'])"
      ]
     },
     "execution_count": 6,
     "metadata": {},
     "output_type": "execute_result"
    }
   ],
   "source": [
    "# check info axis of the object\n",
    "boston.keys()"
   ]
  },
  {
   "cell_type": "code",
   "execution_count": 7,
   "metadata": {},
   "outputs": [
    {
     "data": {
      "text/plain": [
       "(506, 13)"
      ]
     },
     "execution_count": 7,
     "metadata": {},
     "output_type": "execute_result"
    }
   ],
   "source": [
    "# check the size and number of columns\n",
    "boston.data.shape"
   ]
  },
  {
   "cell_type": "code",
   "execution_count": 8,
   "metadata": {},
   "outputs": [
    {
     "name": "stdout",
     "output_type": "stream",
     "text": [
      "['CRIM' 'ZN' 'INDUS' 'CHAS' 'NOX' 'RM' 'AGE' 'DIS' 'RAD' 'TAX' 'PTRATIO'\n",
      " 'B' 'LSTAT']\n"
     ]
    }
   ],
   "source": [
    "# print the column names\n",
    "print(boston.feature_names)"
   ]
  },
  {
   "cell_type": "code",
   "execution_count": 9,
   "metadata": {
    "scrolled": true
   },
   "outputs": [
    {
     "name": "stdout",
     "output_type": "stream",
     "text": [
      ".. _boston_dataset:\n",
      "\n",
      "Boston house prices dataset\n",
      "---------------------------\n",
      "\n",
      "**Data Set Characteristics:**  \n",
      "\n",
      "    :Number of Instances: 506 \n",
      "\n",
      "    :Number of Attributes: 13 numeric/categorical predictive. Median Value (attribute 14) is usually the target.\n",
      "\n",
      "    :Attribute Information (in order):\n",
      "        - CRIM     per capita crime rate by town\n",
      "        - ZN       proportion of residential land zoned for lots over 25,000 sq.ft.\n",
      "        - INDUS    proportion of non-retail business acres per town\n",
      "        - CHAS     Charles River dummy variable (= 1 if tract bounds river; 0 otherwise)\n",
      "        - NOX      nitric oxides concentration (parts per 10 million)\n",
      "        - RM       average number of rooms per dwelling\n",
      "        - AGE      proportion of owner-occupied units built prior to 1940\n",
      "        - DIS      weighted distances to five Boston employment centres\n",
      "        - RAD      index of accessibility to radial highways\n",
      "        - TAX      full-value property-tax rate per $10,000\n",
      "        - PTRATIO  pupil-teacher ratio by town\n",
      "        - B        1000(Bk - 0.63)^2 where Bk is the proportion of blacks by town\n",
      "        - LSTAT    % lower status of the population\n",
      "        - MEDV     Median value of owner-occupied homes in $1000's\n",
      "\n",
      "    :Missing Attribute Values: None\n",
      "\n",
      "    :Creator: Harrison, D. and Rubinfeld, D.L.\n",
      "\n",
      "This is a copy of UCI ML housing dataset.\n",
      "https://archive.ics.uci.edu/ml/machine-learning-databases/housing/\n",
      "\n",
      "\n",
      "This dataset was taken from the StatLib library which is maintained at Carnegie Mellon University.\n",
      "\n",
      "The Boston house-price data of Harrison, D. and Rubinfeld, D.L. 'Hedonic\n",
      "prices and the demand for clean air', J. Environ. Economics & Management,\n",
      "vol.5, 81-102, 1978.   Used in Belsley, Kuh & Welsch, 'Regression diagnostics\n",
      "...', Wiley, 1980.   N.B. Various transformations are used in the table on\n",
      "pages 244-261 of the latter.\n",
      "\n",
      "The Boston house-price data has been used in many machine learning papers that address regression\n",
      "problems.   \n",
      "     \n",
      ".. topic:: References\n",
      "\n",
      "   - Belsley, Kuh & Welsch, 'Regression diagnostics: Identifying Influential Data and Sources of Collinearity', Wiley, 1980. 244-261.\n",
      "   - Quinlan,R. (1993). Combining Instance-Based and Model-Based Learning. In Proceedings on the Tenth International Conference of Machine Learning, 236-243, University of Massachusetts, Amherst. Morgan Kaufmann.\n",
      "\n"
     ]
    }
   ],
   "source": [
    "# read the description of the dataset\n",
    "print(boston.DESCR)"
   ]
  },
  {
   "cell_type": "markdown",
   "metadata": {},
   "source": [
    "***\n",
    "#### Build the dataframe using the boston data and place the feature names as the rows"
   ]
  },
  {
   "cell_type": "code",
   "execution_count": 10,
   "metadata": {},
   "outputs": [],
   "source": [
    "# Place the feature names as the name of the columns\n",
    "bdf = pd.DataFrame(boston.data, columns=boston.feature_names)"
   ]
  },
  {
   "cell_type": "code",
   "execution_count": 11,
   "metadata": {
    "scrolled": true
   },
   "outputs": [
    {
     "data": {
      "text/html": [
       "<div>\n",
       "<style scoped>\n",
       "    .dataframe tbody tr th:only-of-type {\n",
       "        vertical-align: middle;\n",
       "    }\n",
       "\n",
       "    .dataframe tbody tr th {\n",
       "        vertical-align: top;\n",
       "    }\n",
       "\n",
       "    .dataframe thead th {\n",
       "        text-align: right;\n",
       "    }\n",
       "</style>\n",
       "<table border=\"1\" class=\"dataframe\">\n",
       "  <thead>\n",
       "    <tr style=\"text-align: right;\">\n",
       "      <th></th>\n",
       "      <th>CRIM</th>\n",
       "      <th>ZN</th>\n",
       "      <th>INDUS</th>\n",
       "      <th>CHAS</th>\n",
       "      <th>NOX</th>\n",
       "      <th>RM</th>\n",
       "      <th>AGE</th>\n",
       "      <th>DIS</th>\n",
       "      <th>RAD</th>\n",
       "      <th>TAX</th>\n",
       "      <th>PTRATIO</th>\n",
       "      <th>B</th>\n",
       "      <th>LSTAT</th>\n",
       "    </tr>\n",
       "  </thead>\n",
       "  <tbody>\n",
       "    <tr>\n",
       "      <th>0</th>\n",
       "      <td>0.00632</td>\n",
       "      <td>18.0</td>\n",
       "      <td>2.31</td>\n",
       "      <td>0.0</td>\n",
       "      <td>0.538</td>\n",
       "      <td>6.575</td>\n",
       "      <td>65.2</td>\n",
       "      <td>4.0900</td>\n",
       "      <td>1.0</td>\n",
       "      <td>296.0</td>\n",
       "      <td>15.3</td>\n",
       "      <td>396.90</td>\n",
       "      <td>4.98</td>\n",
       "    </tr>\n",
       "    <tr>\n",
       "      <th>1</th>\n",
       "      <td>0.02731</td>\n",
       "      <td>0.0</td>\n",
       "      <td>7.07</td>\n",
       "      <td>0.0</td>\n",
       "      <td>0.469</td>\n",
       "      <td>6.421</td>\n",
       "      <td>78.9</td>\n",
       "      <td>4.9671</td>\n",
       "      <td>2.0</td>\n",
       "      <td>242.0</td>\n",
       "      <td>17.8</td>\n",
       "      <td>396.90</td>\n",
       "      <td>9.14</td>\n",
       "    </tr>\n",
       "    <tr>\n",
       "      <th>2</th>\n",
       "      <td>0.02729</td>\n",
       "      <td>0.0</td>\n",
       "      <td>7.07</td>\n",
       "      <td>0.0</td>\n",
       "      <td>0.469</td>\n",
       "      <td>7.185</td>\n",
       "      <td>61.1</td>\n",
       "      <td>4.9671</td>\n",
       "      <td>2.0</td>\n",
       "      <td>242.0</td>\n",
       "      <td>17.8</td>\n",
       "      <td>392.83</td>\n",
       "      <td>4.03</td>\n",
       "    </tr>\n",
       "    <tr>\n",
       "      <th>3</th>\n",
       "      <td>0.03237</td>\n",
       "      <td>0.0</td>\n",
       "      <td>2.18</td>\n",
       "      <td>0.0</td>\n",
       "      <td>0.458</td>\n",
       "      <td>6.998</td>\n",
       "      <td>45.8</td>\n",
       "      <td>6.0622</td>\n",
       "      <td>3.0</td>\n",
       "      <td>222.0</td>\n",
       "      <td>18.7</td>\n",
       "      <td>394.63</td>\n",
       "      <td>2.94</td>\n",
       "    </tr>\n",
       "    <tr>\n",
       "      <th>4</th>\n",
       "      <td>0.06905</td>\n",
       "      <td>0.0</td>\n",
       "      <td>2.18</td>\n",
       "      <td>0.0</td>\n",
       "      <td>0.458</td>\n",
       "      <td>7.147</td>\n",
       "      <td>54.2</td>\n",
       "      <td>6.0622</td>\n",
       "      <td>3.0</td>\n",
       "      <td>222.0</td>\n",
       "      <td>18.7</td>\n",
       "      <td>396.90</td>\n",
       "      <td>5.33</td>\n",
       "    </tr>\n",
       "  </tbody>\n",
       "</table>\n",
       "</div>"
      ],
      "text/plain": [
       "      CRIM    ZN  INDUS  CHAS    NOX     RM   AGE     DIS  RAD    TAX  \\\n",
       "0  0.00632  18.0   2.31   0.0  0.538  6.575  65.2  4.0900  1.0  296.0   \n",
       "1  0.02731   0.0   7.07   0.0  0.469  6.421  78.9  4.9671  2.0  242.0   \n",
       "2  0.02729   0.0   7.07   0.0  0.469  7.185  61.1  4.9671  2.0  242.0   \n",
       "3  0.03237   0.0   2.18   0.0  0.458  6.998  45.8  6.0622  3.0  222.0   \n",
       "4  0.06905   0.0   2.18   0.0  0.458  7.147  54.2  6.0622  3.0  222.0   \n",
       "\n",
       "   PTRATIO       B  LSTAT  \n",
       "0     15.3  396.90   4.98  \n",
       "1     17.8  396.90   9.14  \n",
       "2     17.8  392.83   4.03  \n",
       "3     18.7  394.63   2.94  \n",
       "4     18.7  396.90   5.33  "
      ]
     },
     "execution_count": 11,
     "metadata": {},
     "output_type": "execute_result"
    }
   ],
   "source": [
    "# check the first 5 rows of the dataframe\n",
    "bdf.head()"
   ]
  },
  {
   "cell_type": "markdown",
   "metadata": {},
   "source": [
    "#### The 'medv' which is usually the target variable is not included in the dataframe. It is the Median value of owner-occupied homes in $1000's. \n",
    "***"
   ]
  },
  {
   "cell_type": "code",
   "execution_count": 12,
   "metadata": {},
   "outputs": [],
   "source": [
    "# add the target 'medv' as Price column\n",
    "bdf['Price'] = boston.target"
   ]
  },
  {
   "cell_type": "code",
   "execution_count": 13,
   "metadata": {
    "scrolled": true
   },
   "outputs": [
    {
     "data": {
      "text/plain": [
       "CRIM       0\n",
       "ZN         0\n",
       "INDUS      0\n",
       "CHAS       0\n",
       "NOX        0\n",
       "RM         0\n",
       "AGE        0\n",
       "DIS        0\n",
       "RAD        0\n",
       "TAX        0\n",
       "PTRATIO    0\n",
       "B          0\n",
       "LSTAT      0\n",
       "Price      0\n",
       "dtype: int64"
      ]
     },
     "execution_count": 13,
     "metadata": {},
     "output_type": "execute_result"
    }
   ],
   "source": [
    "# check for any missing data. isnull() gives back a boolean if there is missing information and sum willadd it all up. \n",
    "bdf.isnull().sum()"
   ]
  },
  {
   "cell_type": "code",
   "execution_count": 14,
   "metadata": {
    "scrolled": false
   },
   "outputs": [
    {
     "data": {
      "text/html": [
       "<div>\n",
       "<style scoped>\n",
       "    .dataframe tbody tr th:only-of-type {\n",
       "        vertical-align: middle;\n",
       "    }\n",
       "\n",
       "    .dataframe tbody tr th {\n",
       "        vertical-align: top;\n",
       "    }\n",
       "\n",
       "    .dataframe thead th {\n",
       "        text-align: right;\n",
       "    }\n",
       "</style>\n",
       "<table border=\"1\" class=\"dataframe\">\n",
       "  <thead>\n",
       "    <tr style=\"text-align: right;\">\n",
       "      <th></th>\n",
       "      <th>CRIM</th>\n",
       "      <th>ZN</th>\n",
       "      <th>INDUS</th>\n",
       "      <th>CHAS</th>\n",
       "      <th>NOX</th>\n",
       "      <th>RM</th>\n",
       "      <th>AGE</th>\n",
       "      <th>DIS</th>\n",
       "      <th>RAD</th>\n",
       "      <th>TAX</th>\n",
       "      <th>PTRATIO</th>\n",
       "      <th>B</th>\n",
       "      <th>LSTAT</th>\n",
       "      <th>Price</th>\n",
       "    </tr>\n",
       "  </thead>\n",
       "  <tbody>\n",
       "    <tr>\n",
       "      <th>0</th>\n",
       "      <td>0.00632</td>\n",
       "      <td>18.0</td>\n",
       "      <td>2.31</td>\n",
       "      <td>0.0</td>\n",
       "      <td>0.538</td>\n",
       "      <td>6.575</td>\n",
       "      <td>65.2</td>\n",
       "      <td>4.0900</td>\n",
       "      <td>1.0</td>\n",
       "      <td>296.0</td>\n",
       "      <td>15.3</td>\n",
       "      <td>396.90</td>\n",
       "      <td>4.98</td>\n",
       "      <td>24.0</td>\n",
       "    </tr>\n",
       "    <tr>\n",
       "      <th>1</th>\n",
       "      <td>0.02731</td>\n",
       "      <td>0.0</td>\n",
       "      <td>7.07</td>\n",
       "      <td>0.0</td>\n",
       "      <td>0.469</td>\n",
       "      <td>6.421</td>\n",
       "      <td>78.9</td>\n",
       "      <td>4.9671</td>\n",
       "      <td>2.0</td>\n",
       "      <td>242.0</td>\n",
       "      <td>17.8</td>\n",
       "      <td>396.90</td>\n",
       "      <td>9.14</td>\n",
       "      <td>21.6</td>\n",
       "    </tr>\n",
       "    <tr>\n",
       "      <th>2</th>\n",
       "      <td>0.02729</td>\n",
       "      <td>0.0</td>\n",
       "      <td>7.07</td>\n",
       "      <td>0.0</td>\n",
       "      <td>0.469</td>\n",
       "      <td>7.185</td>\n",
       "      <td>61.1</td>\n",
       "      <td>4.9671</td>\n",
       "      <td>2.0</td>\n",
       "      <td>242.0</td>\n",
       "      <td>17.8</td>\n",
       "      <td>392.83</td>\n",
       "      <td>4.03</td>\n",
       "      <td>34.7</td>\n",
       "    </tr>\n",
       "    <tr>\n",
       "      <th>3</th>\n",
       "      <td>0.03237</td>\n",
       "      <td>0.0</td>\n",
       "      <td>2.18</td>\n",
       "      <td>0.0</td>\n",
       "      <td>0.458</td>\n",
       "      <td>6.998</td>\n",
       "      <td>45.8</td>\n",
       "      <td>6.0622</td>\n",
       "      <td>3.0</td>\n",
       "      <td>222.0</td>\n",
       "      <td>18.7</td>\n",
       "      <td>394.63</td>\n",
       "      <td>2.94</td>\n",
       "      <td>33.4</td>\n",
       "    </tr>\n",
       "    <tr>\n",
       "      <th>4</th>\n",
       "      <td>0.06905</td>\n",
       "      <td>0.0</td>\n",
       "      <td>2.18</td>\n",
       "      <td>0.0</td>\n",
       "      <td>0.458</td>\n",
       "      <td>7.147</td>\n",
       "      <td>54.2</td>\n",
       "      <td>6.0622</td>\n",
       "      <td>3.0</td>\n",
       "      <td>222.0</td>\n",
       "      <td>18.7</td>\n",
       "      <td>396.90</td>\n",
       "      <td>5.33</td>\n",
       "      <td>36.2</td>\n",
       "    </tr>\n",
       "  </tbody>\n",
       "</table>\n",
       "</div>"
      ],
      "text/plain": [
       "      CRIM    ZN  INDUS  CHAS    NOX     RM   AGE     DIS  RAD    TAX  \\\n",
       "0  0.00632  18.0   2.31   0.0  0.538  6.575  65.2  4.0900  1.0  296.0   \n",
       "1  0.02731   0.0   7.07   0.0  0.469  6.421  78.9  4.9671  2.0  242.0   \n",
       "2  0.02729   0.0   7.07   0.0  0.469  7.185  61.1  4.9671  2.0  242.0   \n",
       "3  0.03237   0.0   2.18   0.0  0.458  6.998  45.8  6.0622  3.0  222.0   \n",
       "4  0.06905   0.0   2.18   0.0  0.458  7.147  54.2  6.0622  3.0  222.0   \n",
       "\n",
       "   PTRATIO       B  LSTAT  Price  \n",
       "0     15.3  396.90   4.98   24.0  \n",
       "1     17.8  396.90   9.14   21.6  \n",
       "2     17.8  392.83   4.03   34.7  \n",
       "3     18.7  394.63   2.94   33.4  \n",
       "4     18.7  396.90   5.33   36.2  "
      ]
     },
     "execution_count": 14,
     "metadata": {},
     "output_type": "execute_result"
    }
   ],
   "source": [
    "# get the first 5 rows of the dataframe\n",
    "bdf.head()"
   ]
  },
  {
   "cell_type": "markdown",
   "metadata": {},
   "source": [
    "### Descriptive Statistics\n",
    "***"
   ]
  },
  {
   "cell_type": "code",
   "execution_count": 15,
   "metadata": {
    "scrolled": true
   },
   "outputs": [
    {
     "data": {
      "text/html": [
       "<div>\n",
       "<style scoped>\n",
       "    .dataframe tbody tr th:only-of-type {\n",
       "        vertical-align: middle;\n",
       "    }\n",
       "\n",
       "    .dataframe tbody tr th {\n",
       "        vertical-align: top;\n",
       "    }\n",
       "\n",
       "    .dataframe thead th {\n",
       "        text-align: right;\n",
       "    }\n",
       "</style>\n",
       "<table border=\"1\" class=\"dataframe\">\n",
       "  <thead>\n",
       "    <tr style=\"text-align: right;\">\n",
       "      <th></th>\n",
       "      <th>CRIM</th>\n",
       "      <th>ZN</th>\n",
       "      <th>INDUS</th>\n",
       "      <th>CHAS</th>\n",
       "      <th>NOX</th>\n",
       "      <th>RM</th>\n",
       "      <th>AGE</th>\n",
       "      <th>DIS</th>\n",
       "      <th>RAD</th>\n",
       "      <th>TAX</th>\n",
       "      <th>PTRATIO</th>\n",
       "      <th>B</th>\n",
       "      <th>LSTAT</th>\n",
       "      <th>Price</th>\n",
       "    </tr>\n",
       "  </thead>\n",
       "  <tbody>\n",
       "    <tr>\n",
       "      <th>count</th>\n",
       "      <td>506.000000</td>\n",
       "      <td>506.000000</td>\n",
       "      <td>506.000000</td>\n",
       "      <td>506.000000</td>\n",
       "      <td>506.000000</td>\n",
       "      <td>506.000000</td>\n",
       "      <td>506.000000</td>\n",
       "      <td>506.000000</td>\n",
       "      <td>506.000000</td>\n",
       "      <td>506.000000</td>\n",
       "      <td>506.000000</td>\n",
       "      <td>506.000000</td>\n",
       "      <td>506.000000</td>\n",
       "      <td>506.000000</td>\n",
       "    </tr>\n",
       "    <tr>\n",
       "      <th>mean</th>\n",
       "      <td>3.613524</td>\n",
       "      <td>11.363636</td>\n",
       "      <td>11.136779</td>\n",
       "      <td>0.069170</td>\n",
       "      <td>0.554695</td>\n",
       "      <td>6.284634</td>\n",
       "      <td>68.574901</td>\n",
       "      <td>3.795043</td>\n",
       "      <td>9.549407</td>\n",
       "      <td>408.237154</td>\n",
       "      <td>18.455534</td>\n",
       "      <td>356.674032</td>\n",
       "      <td>12.653063</td>\n",
       "      <td>22.532806</td>\n",
       "    </tr>\n",
       "    <tr>\n",
       "      <th>std</th>\n",
       "      <td>8.601545</td>\n",
       "      <td>23.322453</td>\n",
       "      <td>6.860353</td>\n",
       "      <td>0.253994</td>\n",
       "      <td>0.115878</td>\n",
       "      <td>0.702617</td>\n",
       "      <td>28.148861</td>\n",
       "      <td>2.105710</td>\n",
       "      <td>8.707259</td>\n",
       "      <td>168.537116</td>\n",
       "      <td>2.164946</td>\n",
       "      <td>91.294864</td>\n",
       "      <td>7.141062</td>\n",
       "      <td>9.197104</td>\n",
       "    </tr>\n",
       "    <tr>\n",
       "      <th>min</th>\n",
       "      <td>0.006320</td>\n",
       "      <td>0.000000</td>\n",
       "      <td>0.460000</td>\n",
       "      <td>0.000000</td>\n",
       "      <td>0.385000</td>\n",
       "      <td>3.561000</td>\n",
       "      <td>2.900000</td>\n",
       "      <td>1.129600</td>\n",
       "      <td>1.000000</td>\n",
       "      <td>187.000000</td>\n",
       "      <td>12.600000</td>\n",
       "      <td>0.320000</td>\n",
       "      <td>1.730000</td>\n",
       "      <td>5.000000</td>\n",
       "    </tr>\n",
       "    <tr>\n",
       "      <th>25%</th>\n",
       "      <td>0.082045</td>\n",
       "      <td>0.000000</td>\n",
       "      <td>5.190000</td>\n",
       "      <td>0.000000</td>\n",
       "      <td>0.449000</td>\n",
       "      <td>5.885500</td>\n",
       "      <td>45.025000</td>\n",
       "      <td>2.100175</td>\n",
       "      <td>4.000000</td>\n",
       "      <td>279.000000</td>\n",
       "      <td>17.400000</td>\n",
       "      <td>375.377500</td>\n",
       "      <td>6.950000</td>\n",
       "      <td>17.025000</td>\n",
       "    </tr>\n",
       "    <tr>\n",
       "      <th>50%</th>\n",
       "      <td>0.256510</td>\n",
       "      <td>0.000000</td>\n",
       "      <td>9.690000</td>\n",
       "      <td>0.000000</td>\n",
       "      <td>0.538000</td>\n",
       "      <td>6.208500</td>\n",
       "      <td>77.500000</td>\n",
       "      <td>3.207450</td>\n",
       "      <td>5.000000</td>\n",
       "      <td>330.000000</td>\n",
       "      <td>19.050000</td>\n",
       "      <td>391.440000</td>\n",
       "      <td>11.360000</td>\n",
       "      <td>21.200000</td>\n",
       "    </tr>\n",
       "    <tr>\n",
       "      <th>75%</th>\n",
       "      <td>3.677083</td>\n",
       "      <td>12.500000</td>\n",
       "      <td>18.100000</td>\n",
       "      <td>0.000000</td>\n",
       "      <td>0.624000</td>\n",
       "      <td>6.623500</td>\n",
       "      <td>94.075000</td>\n",
       "      <td>5.188425</td>\n",
       "      <td>24.000000</td>\n",
       "      <td>666.000000</td>\n",
       "      <td>20.200000</td>\n",
       "      <td>396.225000</td>\n",
       "      <td>16.955000</td>\n",
       "      <td>25.000000</td>\n",
       "    </tr>\n",
       "    <tr>\n",
       "      <th>max</th>\n",
       "      <td>88.976200</td>\n",
       "      <td>100.000000</td>\n",
       "      <td>27.740000</td>\n",
       "      <td>1.000000</td>\n",
       "      <td>0.871000</td>\n",
       "      <td>8.780000</td>\n",
       "      <td>100.000000</td>\n",
       "      <td>12.126500</td>\n",
       "      <td>24.000000</td>\n",
       "      <td>711.000000</td>\n",
       "      <td>22.000000</td>\n",
       "      <td>396.900000</td>\n",
       "      <td>37.970000</td>\n",
       "      <td>50.000000</td>\n",
       "    </tr>\n",
       "  </tbody>\n",
       "</table>\n",
       "</div>"
      ],
      "text/plain": [
       "             CRIM          ZN       INDUS        CHAS         NOX          RM  \\\n",
       "count  506.000000  506.000000  506.000000  506.000000  506.000000  506.000000   \n",
       "mean     3.613524   11.363636   11.136779    0.069170    0.554695    6.284634   \n",
       "std      8.601545   23.322453    6.860353    0.253994    0.115878    0.702617   \n",
       "min      0.006320    0.000000    0.460000    0.000000    0.385000    3.561000   \n",
       "25%      0.082045    0.000000    5.190000    0.000000    0.449000    5.885500   \n",
       "50%      0.256510    0.000000    9.690000    0.000000    0.538000    6.208500   \n",
       "75%      3.677083   12.500000   18.100000    0.000000    0.624000    6.623500   \n",
       "max     88.976200  100.000000   27.740000    1.000000    0.871000    8.780000   \n",
       "\n",
       "              AGE         DIS         RAD         TAX     PTRATIO           B  \\\n",
       "count  506.000000  506.000000  506.000000  506.000000  506.000000  506.000000   \n",
       "mean    68.574901    3.795043    9.549407  408.237154   18.455534  356.674032   \n",
       "std     28.148861    2.105710    8.707259  168.537116    2.164946   91.294864   \n",
       "min      2.900000    1.129600    1.000000  187.000000   12.600000    0.320000   \n",
       "25%     45.025000    2.100175    4.000000  279.000000   17.400000  375.377500   \n",
       "50%     77.500000    3.207450    5.000000  330.000000   19.050000  391.440000   \n",
       "75%     94.075000    5.188425   24.000000  666.000000   20.200000  396.225000   \n",
       "max    100.000000   12.126500   24.000000  711.000000   22.000000  396.900000   \n",
       "\n",
       "            LSTAT       Price  \n",
       "count  506.000000  506.000000  \n",
       "mean    12.653063   22.532806  \n",
       "std      7.141062    9.197104  \n",
       "min      1.730000    5.000000  \n",
       "25%      6.950000   17.025000  \n",
       "50%     11.360000   21.200000  \n",
       "75%     16.955000   25.000000  \n",
       "max     37.970000   50.000000  "
      ]
     },
     "execution_count": 15,
     "metadata": {},
     "output_type": "execute_result"
    }
   ],
   "source": [
    "# get the summary statistics of the dataset\n",
    "bdf.describe()"
   ]
  },
  {
   "cell_type": "code",
   "execution_count": 16,
   "metadata": {},
   "outputs": [
    {
     "name": "stdout",
     "output_type": "stream",
     "text": [
      "<class 'pandas.core.frame.DataFrame'>\n",
      "RangeIndex: 506 entries, 0 to 505\n",
      "Data columns (total 14 columns):\n",
      "CRIM       506 non-null float64\n",
      "ZN         506 non-null float64\n",
      "INDUS      506 non-null float64\n",
      "CHAS       506 non-null float64\n",
      "NOX        506 non-null float64\n",
      "RM         506 non-null float64\n",
      "AGE        506 non-null float64\n",
      "DIS        506 non-null float64\n",
      "RAD        506 non-null float64\n",
      "TAX        506 non-null float64\n",
      "PTRATIO    506 non-null float64\n",
      "B          506 non-null float64\n",
      "LSTAT      506 non-null float64\n",
      "Price      506 non-null float64\n",
      "dtypes: float64(14)\n",
      "memory usage: 55.5 KB\n"
     ]
    }
   ],
   "source": [
    "# list all columns with their data types and the number of non-null values in each column\n",
    "bdf.info()"
   ]
  },
  {
   "cell_type": "code",
   "execution_count": 17,
   "metadata": {
    "scrolled": true
   },
   "outputs": [],
   "source": [
    "# sns.pairplot(bdf)"
   ]
  },
  {
   "cell_type": "markdown",
   "metadata": {},
   "source": [
    "#### The pairplot shows data plotted against each other. We can see correlation with our Price to LSTAT and RM. RAD and TAX appear to be correlated as well. \n",
    "***\n"
   ]
  },
  {
   "cell_type": "code",
   "execution_count": 18,
   "metadata": {},
   "outputs": [
    {
     "data": {
      "text/plain": [
       "<matplotlib.axes._subplots.AxesSubplot at 0x23b520278c8>"
      ]
     },
     "execution_count": 18,
     "metadata": {},
     "output_type": "execute_result"
    },
    {
     "data": {
      "image/png": "[encoded data removed]",
      "text/plain": [
       "<Figure size 864x576 with 2 Axes>"
      ]
     },
     "metadata": {},
     "output_type": "display_data"
    }
   ],
   "source": [
    "sns.set(rc={'figure.figsize':(12,8)})\n",
    "sns.heatmap(bdf.corr())"
   ]
  },
  {
   "cell_type": "code",
   "execution_count": 19,
   "metadata": {},
   "outputs": [
    {
     "data": {
      "text/plain": [
       "<matplotlib.axes._subplots.AxesSubplot at 0x23b525b3ec8>"
      ]
     },
     "execution_count": 19,
     "metadata": {},
     "output_type": "execute_result"
    },
    {
     "data": {
      "image/png": "[encoded data removed]",
      "text/plain": [
       "<Figure size 864x576 with 2 Axes>"
      ]
     },
     "metadata": {},
     "output_type": "display_data"
    }
   ],
   "source": [
    "correlation_matrix=bdf.corr().round(2)\n",
    "sns.heatmap(data=correlation_matrix, annot=True)\n",
    "# annot=True parameter prints the values inside the square\n",
    "# values closer to 1 means a strong positive correlation\n",
    "# values closer to -1 means a strong negative correlation"
   ]
  },
  {
   "cell_type": "markdown",
   "metadata": {},
   "source": [
    "#### The heatmap appear to show a high correlation between the target variable of Price and two other variables, the percentage of lower status (LSTAT) and average number of rooms per dwelling (Rooms). \n",
    "***\n"
   ]
  },
  {
   "cell_type": "code",
   "execution_count": 20,
   "metadata": {
    "scrolled": true
   },
   "outputs": [
    {
     "data": {
      "text/plain": [
       "<seaborn.axisgrid.FacetGrid at 0x23b529afb88>"
      ]
     },
     "execution_count": 20,
     "metadata": {},
     "output_type": "execute_result"
    },
    {
     "data": {
      "image/png": "[encoded data removed]",
      "text/plain": [
       "<Figure size 360x360 with 1 Axes>"
      ]
     },
     "metadata": {},
     "output_type": "display_data"
    }
   ],
   "source": [
    "# negative correlation of percentage of lower status (LSTAT) and Price\n",
    "sns.lmplot(x = 'LSTAT', y = 'Price', data = bdf)"
   ]
  },
  {
   "cell_type": "code",
   "execution_count": 21,
   "metadata": {
    "scrolled": true
   },
   "outputs": [
    {
     "data": {
      "text/plain": [
       "<seaborn.axisgrid.FacetGrid at 0x23b52788fc8>"
      ]
     },
     "execution_count": 21,
     "metadata": {},
     "output_type": "execute_result"
    },
    {
     "data": {
      "image/png": "[encoded data removed]",
      "text/plain": [
       "<Figure size 360x360 with 1 Axes>"
      ]
     },
     "metadata": {},
     "output_type": "display_data"
    }
   ],
   "source": [
    "# positive correlation between average number of rooms per dwelling (Rooms) and price. \n",
    "sns.lmplot(x = 'RM', y = 'Price', data = bdf)"
   ]
  },
  {
   "cell_type": "code",
   "execution_count": 22,
   "metadata": {},
   "outputs": [
    {
     "data": {
      "text/plain": [
       "<seaborn.axisgrid.PairGrid at 0x23b527e2e48>"
      ]
     },
     "execution_count": 22,
     "metadata": {},
     "output_type": "execute_result"
    },
    {
     "data": {
      "image/png": "[encoded data removed]",
      "text/plain": [
       "<Figure size 630.975x576 with 1 Axes>"
      ]
     },
     "metadata": {},
     "output_type": "display_data"
    }
   ],
   "source": [
    "sns.pairplot(data= bdf, hue = 'CHAS',x_vars = 'LSTAT', y_vars = 'Price',height = 8, aspect = 1)"
   ]
  },
  {
   "cell_type": "code",
   "execution_count": 23,
   "metadata": {
    "scrolled": false
   },
   "outputs": [
    {
     "data": {
      "text/plain": [
       "<seaborn.axisgrid.PairGrid at 0x23b5284aec8>"
      ]
     },
     "execution_count": 23,
     "metadata": {},
     "output_type": "execute_result"
    },
    {
     "data": {
      "image/png": "[encoded data removed]",
      "text/plain": [
       "<Figure size 630.975x576 with 1 Axes>"
      ]
     },
     "metadata": {},
     "output_type": "display_data"
    }
   ],
   "source": [
    "sns.pairplot(data= bdf, hue = 'CHAS',x_vars = 'RM', y_vars = 'Price',height = 8, aspect = 1)"
   ]
  },
  {
   "cell_type": "markdown",
   "metadata": {},
   "source": [
    "### Inferential Statistics\n",
    "***"
   ]
  },
  {
   "cell_type": "code",
   "execution_count": 24,
   "metadata": {
    "scrolled": false
   },
   "outputs": [
    {
     "data": {
      "text/plain": [
       "<matplotlib.axes._subplots.AxesSubplot at 0x23b528f0708>"
      ]
     },
     "execution_count": 24,
     "metadata": {},
     "output_type": "execute_result"
    },
    {
     "data": {
      "image/png": "[encoded data removed]",
      "text/plain": [
       "<Figure size 864x576 with 1 Axes>"
      ]
     },
     "metadata": {},
     "output_type": "display_data"
    }
   ],
   "source": [
    "# plot the distribution of Price \n",
    "sns.set_style('whitegrid')\n",
    "sns.distplot(bdf['Price'], bins = 30)"
   ]
  },
  {
   "cell_type": "markdown",
   "metadata": {},
   "source": [
    "#### The median value or price of houses appear to follow a normal distribution. Some outliers in the 48-50 mark.\n",
    "***"
   ]
  },
  {
   "cell_type": "code",
   "execution_count": 25,
   "metadata": {},
   "outputs": [
    {
     "data": {
      "text/plain": [
       "<matplotlib.axes._subplots.AxesSubplot at 0x23b52f908c8>"
      ]
     },
     "execution_count": 25,
     "metadata": {},
     "output_type": "execute_result"
    },
    {
     "data": {
      "image/png": "[encoded data removed]",
      "text/plain": [
       "<Figure size 864x576 with 1 Axes>"
      ]
     },
     "metadata": {},
     "output_type": "display_data"
    }
   ],
   "source": [
    "# Another plot similar to above but to get the count on the y-axis rather than the kde. \n",
    "bdf['Price'].plot.hist(bins = 30)"
   ]
  },
  {
   "cell_type": "code",
   "execution_count": 26,
   "metadata": {},
   "outputs": [
    {
     "data": {
      "text/plain": [
       "<matplotlib.axes._subplots.AxesSubplot at 0x23b530b4488>"
      ]
     },
     "execution_count": 26,
     "metadata": {},
     "output_type": "execute_result"
    },
    {
     "data": {
      "image/png": "[encoded data removed]",
      "text/plain": [
       "<Figure size 864x576 with 1 Axes>"
      ]
     },
     "metadata": {},
     "output_type": "display_data"
    }
   ],
   "source": [
    "# Plot the houses that do not tract river and those that tract the river. \n",
    "\n",
    "sns.countplot(x = 'CHAS', data = bdf)"
   ]
  },
  {
   "cell_type": "markdown",
   "metadata": {},
   "source": [
    "#### CHAS variable in a countplot. We can see that there are more houses that do not tract the Charles river in our dataset than those that tract the river. \n",
    "***"
   ]
  },
  {
   "cell_type": "code",
   "execution_count": 27,
   "metadata": {},
   "outputs": [
    {
     "data": {
      "text/plain": [
       "<matplotlib.axes._subplots.AxesSubplot at 0x23b53109a48>"
      ]
     },
     "execution_count": 27,
     "metadata": {},
     "output_type": "execute_result"
    },
    {
     "data": {
      "image/png": "[encoded data removed]",
      "text/plain": [
       "<Figure size 864x576 with 1 Axes>"
      ]
     },
     "metadata": {},
     "output_type": "display_data"
    }
   ],
   "source": [
    "# Boxplot to show means \n",
    "sns.boxplot(x = 'CHAS', y= 'Price', data=bdf)"
   ]
  },
  {
   "cell_type": "markdown",
   "metadata": {},
   "source": [
    "#### The boxplot suggest that in general house prices are higher for houses that tract the river and those that do not. This boxplot shows  that the median house price is higher for those that tract the river. There is some outliers for the houses that do not tract the river, house prices that are unusual relative to the mean highest house price recorded. It also shows that there is some overlap of the house prices. \n",
    "***"
   ]
  },
  {
   "cell_type": "code",
   "execution_count": 28,
   "metadata": {
    "scrolled": true
   },
   "outputs": [],
   "source": [
    "# sns.pairplot(bdf, hue = 'CHAS')"
   ]
  },
  {
   "cell_type": "code",
   "execution_count": 29,
   "metadata": {},
   "outputs": [],
   "source": [
    "# slice the dataframe\n",
    "nr = bdf[bdf['CHAS']== 0.0]\n",
    "r = bdf[bdf['CHAS']== 1.0]"
   ]
  },
  {
   "cell_type": "markdown",
   "metadata": {},
   "source": [
    "#### The code above slices the dataframe into nr and r where nr is the dataframe for all data that do not track the river and r is for those that tract the river.\n",
    "***"
   ]
  },
  {
   "cell_type": "code",
   "execution_count": 30,
   "metadata": {},
   "outputs": [
    {
     "data": {
      "text/plain": [
       "CRIM       471\n",
       "ZN         471\n",
       "INDUS      471\n",
       "CHAS       471\n",
       "NOX        471\n",
       "RM         471\n",
       "AGE        471\n",
       "DIS        471\n",
       "RAD        471\n",
       "TAX        471\n",
       "PTRATIO    471\n",
       "B          471\n",
       "LSTAT      471\n",
       "Price      471\n",
       "dtype: int64"
      ]
     },
     "execution_count": 30,
     "metadata": {},
     "output_type": "execute_result"
    }
   ],
   "source": [
    "# count the variables\n",
    "nr.count()"
   ]
  },
  {
   "cell_type": "code",
   "execution_count": 31,
   "metadata": {},
   "outputs": [
    {
     "data": {
      "text/plain": [
       "CRIM       35\n",
       "ZN         35\n",
       "INDUS      35\n",
       "CHAS       35\n",
       "NOX        35\n",
       "RM         35\n",
       "AGE        35\n",
       "DIS        35\n",
       "RAD        35\n",
       "TAX        35\n",
       "PTRATIO    35\n",
       "B          35\n",
       "LSTAT      35\n",
       "Price      35\n",
       "dtype: int64"
      ]
     },
     "execution_count": 31,
     "metadata": {},
     "output_type": "execute_result"
    }
   ],
   "source": [
    "r.count()"
   ]
  },
  {
   "cell_type": "code",
   "execution_count": 32,
   "metadata": {
    "scrolled": true
   },
   "outputs": [
    {
     "data": {
      "text/html": [
       "<div>\n",
       "<style scoped>\n",
       "    .dataframe tbody tr th:only-of-type {\n",
       "        vertical-align: middle;\n",
       "    }\n",
       "\n",
       "    .dataframe tbody tr th {\n",
       "        vertical-align: top;\n",
       "    }\n",
       "\n",
       "    .dataframe thead th {\n",
       "        text-align: right;\n",
       "    }\n",
       "</style>\n",
       "<table border=\"1\" class=\"dataframe\">\n",
       "  <thead>\n",
       "    <tr style=\"text-align: right;\">\n",
       "      <th></th>\n",
       "      <th>CRIM</th>\n",
       "      <th>ZN</th>\n",
       "      <th>INDUS</th>\n",
       "      <th>CHAS</th>\n",
       "      <th>NOX</th>\n",
       "      <th>RM</th>\n",
       "      <th>AGE</th>\n",
       "      <th>DIS</th>\n",
       "      <th>RAD</th>\n",
       "      <th>TAX</th>\n",
       "      <th>PTRATIO</th>\n",
       "      <th>B</th>\n",
       "      <th>LSTAT</th>\n",
       "      <th>Price</th>\n",
       "    </tr>\n",
       "  </thead>\n",
       "  <tbody>\n",
       "    <tr>\n",
       "      <th>142</th>\n",
       "      <td>3.32105</td>\n",
       "      <td>0.0</td>\n",
       "      <td>19.58</td>\n",
       "      <td>1.0</td>\n",
       "      <td>0.8710</td>\n",
       "      <td>5.403</td>\n",
       "      <td>100.0</td>\n",
       "      <td>1.3216</td>\n",
       "      <td>5.0</td>\n",
       "      <td>403.0</td>\n",
       "      <td>14.7</td>\n",
       "      <td>396.90</td>\n",
       "      <td>26.82</td>\n",
       "      <td>13.4</td>\n",
       "    </tr>\n",
       "    <tr>\n",
       "      <th>152</th>\n",
       "      <td>1.12658</td>\n",
       "      <td>0.0</td>\n",
       "      <td>19.58</td>\n",
       "      <td>1.0</td>\n",
       "      <td>0.8710</td>\n",
       "      <td>5.012</td>\n",
       "      <td>88.0</td>\n",
       "      <td>1.6102</td>\n",
       "      <td>5.0</td>\n",
       "      <td>403.0</td>\n",
       "      <td>14.7</td>\n",
       "      <td>343.28</td>\n",
       "      <td>12.12</td>\n",
       "      <td>15.3</td>\n",
       "    </tr>\n",
       "    <tr>\n",
       "      <th>154</th>\n",
       "      <td>1.41385</td>\n",
       "      <td>0.0</td>\n",
       "      <td>19.58</td>\n",
       "      <td>1.0</td>\n",
       "      <td>0.8710</td>\n",
       "      <td>6.129</td>\n",
       "      <td>96.0</td>\n",
       "      <td>1.7494</td>\n",
       "      <td>5.0</td>\n",
       "      <td>403.0</td>\n",
       "      <td>14.7</td>\n",
       "      <td>321.02</td>\n",
       "      <td>15.12</td>\n",
       "      <td>17.0</td>\n",
       "    </tr>\n",
       "    <tr>\n",
       "      <th>155</th>\n",
       "      <td>3.53501</td>\n",
       "      <td>0.0</td>\n",
       "      <td>19.58</td>\n",
       "      <td>1.0</td>\n",
       "      <td>0.8710</td>\n",
       "      <td>6.152</td>\n",
       "      <td>82.6</td>\n",
       "      <td>1.7455</td>\n",
       "      <td>5.0</td>\n",
       "      <td>403.0</td>\n",
       "      <td>14.7</td>\n",
       "      <td>88.01</td>\n",
       "      <td>15.02</td>\n",
       "      <td>15.6</td>\n",
       "    </tr>\n",
       "    <tr>\n",
       "      <th>160</th>\n",
       "      <td>1.27346</td>\n",
       "      <td>0.0</td>\n",
       "      <td>19.58</td>\n",
       "      <td>1.0</td>\n",
       "      <td>0.6050</td>\n",
       "      <td>6.250</td>\n",
       "      <td>92.6</td>\n",
       "      <td>1.7984</td>\n",
       "      <td>5.0</td>\n",
       "      <td>403.0</td>\n",
       "      <td>14.7</td>\n",
       "      <td>338.92</td>\n",
       "      <td>5.50</td>\n",
       "      <td>27.0</td>\n",
       "    </tr>\n",
       "    <tr>\n",
       "      <th>162</th>\n",
       "      <td>1.83377</td>\n",
       "      <td>0.0</td>\n",
       "      <td>19.58</td>\n",
       "      <td>1.0</td>\n",
       "      <td>0.6050</td>\n",
       "      <td>7.802</td>\n",
       "      <td>98.2</td>\n",
       "      <td>2.0407</td>\n",
       "      <td>5.0</td>\n",
       "      <td>403.0</td>\n",
       "      <td>14.7</td>\n",
       "      <td>389.61</td>\n",
       "      <td>1.92</td>\n",
       "      <td>50.0</td>\n",
       "    </tr>\n",
       "    <tr>\n",
       "      <th>163</th>\n",
       "      <td>1.51902</td>\n",
       "      <td>0.0</td>\n",
       "      <td>19.58</td>\n",
       "      <td>1.0</td>\n",
       "      <td>0.6050</td>\n",
       "      <td>8.375</td>\n",
       "      <td>93.9</td>\n",
       "      <td>2.1620</td>\n",
       "      <td>5.0</td>\n",
       "      <td>403.0</td>\n",
       "      <td>14.7</td>\n",
       "      <td>388.45</td>\n",
       "      <td>3.32</td>\n",
       "      <td>50.0</td>\n",
       "    </tr>\n",
       "    <tr>\n",
       "      <th>208</th>\n",
       "      <td>0.13587</td>\n",
       "      <td>0.0</td>\n",
       "      <td>10.59</td>\n",
       "      <td>1.0</td>\n",
       "      <td>0.4890</td>\n",
       "      <td>6.064</td>\n",
       "      <td>59.1</td>\n",
       "      <td>4.2392</td>\n",
       "      <td>4.0</td>\n",
       "      <td>277.0</td>\n",
       "      <td>18.6</td>\n",
       "      <td>381.32</td>\n",
       "      <td>14.66</td>\n",
       "      <td>24.4</td>\n",
       "    </tr>\n",
       "    <tr>\n",
       "      <th>209</th>\n",
       "      <td>0.43571</td>\n",
       "      <td>0.0</td>\n",
       "      <td>10.59</td>\n",
       "      <td>1.0</td>\n",
       "      <td>0.4890</td>\n",
       "      <td>5.344</td>\n",
       "      <td>100.0</td>\n",
       "      <td>3.8750</td>\n",
       "      <td>4.0</td>\n",
       "      <td>277.0</td>\n",
       "      <td>18.6</td>\n",
       "      <td>396.90</td>\n",
       "      <td>23.09</td>\n",
       "      <td>20.0</td>\n",
       "    </tr>\n",
       "    <tr>\n",
       "      <th>210</th>\n",
       "      <td>0.17446</td>\n",
       "      <td>0.0</td>\n",
       "      <td>10.59</td>\n",
       "      <td>1.0</td>\n",
       "      <td>0.4890</td>\n",
       "      <td>5.960</td>\n",
       "      <td>92.1</td>\n",
       "      <td>3.8771</td>\n",
       "      <td>4.0</td>\n",
       "      <td>277.0</td>\n",
       "      <td>18.6</td>\n",
       "      <td>393.25</td>\n",
       "      <td>17.27</td>\n",
       "      <td>21.7</td>\n",
       "    </tr>\n",
       "    <tr>\n",
       "      <th>211</th>\n",
       "      <td>0.37578</td>\n",
       "      <td>0.0</td>\n",
       "      <td>10.59</td>\n",
       "      <td>1.0</td>\n",
       "      <td>0.4890</td>\n",
       "      <td>5.404</td>\n",
       "      <td>88.6</td>\n",
       "      <td>3.6650</td>\n",
       "      <td>4.0</td>\n",
       "      <td>277.0</td>\n",
       "      <td>18.6</td>\n",
       "      <td>395.24</td>\n",
       "      <td>23.98</td>\n",
       "      <td>19.3</td>\n",
       "    </tr>\n",
       "    <tr>\n",
       "      <th>212</th>\n",
       "      <td>0.21719</td>\n",
       "      <td>0.0</td>\n",
       "      <td>10.59</td>\n",
       "      <td>1.0</td>\n",
       "      <td>0.4890</td>\n",
       "      <td>5.807</td>\n",
       "      <td>53.8</td>\n",
       "      <td>3.6526</td>\n",
       "      <td>4.0</td>\n",
       "      <td>277.0</td>\n",
       "      <td>18.6</td>\n",
       "      <td>390.94</td>\n",
       "      <td>16.03</td>\n",
       "      <td>22.4</td>\n",
       "    </tr>\n",
       "    <tr>\n",
       "      <th>216</th>\n",
       "      <td>0.04560</td>\n",
       "      <td>0.0</td>\n",
       "      <td>13.89</td>\n",
       "      <td>1.0</td>\n",
       "      <td>0.5500</td>\n",
       "      <td>5.888</td>\n",
       "      <td>56.0</td>\n",
       "      <td>3.1121</td>\n",
       "      <td>5.0</td>\n",
       "      <td>276.0</td>\n",
       "      <td>16.4</td>\n",
       "      <td>392.80</td>\n",
       "      <td>13.51</td>\n",
       "      <td>23.3</td>\n",
       "    </tr>\n",
       "    <tr>\n",
       "      <th>218</th>\n",
       "      <td>0.11069</td>\n",
       "      <td>0.0</td>\n",
       "      <td>13.89</td>\n",
       "      <td>1.0</td>\n",
       "      <td>0.5500</td>\n",
       "      <td>5.951</td>\n",
       "      <td>93.8</td>\n",
       "      <td>2.8893</td>\n",
       "      <td>5.0</td>\n",
       "      <td>276.0</td>\n",
       "      <td>16.4</td>\n",
       "      <td>396.90</td>\n",
       "      <td>17.92</td>\n",
       "      <td>21.5</td>\n",
       "    </tr>\n",
       "    <tr>\n",
       "      <th>219</th>\n",
       "      <td>0.11425</td>\n",
       "      <td>0.0</td>\n",
       "      <td>13.89</td>\n",
       "      <td>1.0</td>\n",
       "      <td>0.5500</td>\n",
       "      <td>6.373</td>\n",
       "      <td>92.4</td>\n",
       "      <td>3.3633</td>\n",
       "      <td>5.0</td>\n",
       "      <td>276.0</td>\n",
       "      <td>16.4</td>\n",
       "      <td>393.74</td>\n",
       "      <td>10.50</td>\n",
       "      <td>23.0</td>\n",
       "    </tr>\n",
       "    <tr>\n",
       "      <th>220</th>\n",
       "      <td>0.35809</td>\n",
       "      <td>0.0</td>\n",
       "      <td>6.20</td>\n",
       "      <td>1.0</td>\n",
       "      <td>0.5070</td>\n",
       "      <td>6.951</td>\n",
       "      <td>88.5</td>\n",
       "      <td>2.8617</td>\n",
       "      <td>8.0</td>\n",
       "      <td>307.0</td>\n",
       "      <td>17.4</td>\n",
       "      <td>391.70</td>\n",
       "      <td>9.71</td>\n",
       "      <td>26.7</td>\n",
       "    </tr>\n",
       "    <tr>\n",
       "      <th>221</th>\n",
       "      <td>0.40771</td>\n",
       "      <td>0.0</td>\n",
       "      <td>6.20</td>\n",
       "      <td>1.0</td>\n",
       "      <td>0.5070</td>\n",
       "      <td>6.164</td>\n",
       "      <td>91.3</td>\n",
       "      <td>3.0480</td>\n",
       "      <td>8.0</td>\n",
       "      <td>307.0</td>\n",
       "      <td>17.4</td>\n",
       "      <td>395.24</td>\n",
       "      <td>21.46</td>\n",
       "      <td>21.7</td>\n",
       "    </tr>\n",
       "    <tr>\n",
       "      <th>222</th>\n",
       "      <td>0.62356</td>\n",
       "      <td>0.0</td>\n",
       "      <td>6.20</td>\n",
       "      <td>1.0</td>\n",
       "      <td>0.5070</td>\n",
       "      <td>6.879</td>\n",
       "      <td>77.7</td>\n",
       "      <td>3.2721</td>\n",
       "      <td>8.0</td>\n",
       "      <td>307.0</td>\n",
       "      <td>17.4</td>\n",
       "      <td>390.39</td>\n",
       "      <td>9.93</td>\n",
       "      <td>27.5</td>\n",
       "    </tr>\n",
       "    <tr>\n",
       "      <th>234</th>\n",
       "      <td>0.44791</td>\n",
       "      <td>0.0</td>\n",
       "      <td>6.20</td>\n",
       "      <td>1.0</td>\n",
       "      <td>0.5070</td>\n",
       "      <td>6.726</td>\n",
       "      <td>66.5</td>\n",
       "      <td>3.6519</td>\n",
       "      <td>8.0</td>\n",
       "      <td>307.0</td>\n",
       "      <td>17.4</td>\n",
       "      <td>360.20</td>\n",
       "      <td>8.05</td>\n",
       "      <td>29.0</td>\n",
       "    </tr>\n",
       "    <tr>\n",
       "      <th>236</th>\n",
       "      <td>0.52058</td>\n",
       "      <td>0.0</td>\n",
       "      <td>6.20</td>\n",
       "      <td>1.0</td>\n",
       "      <td>0.5070</td>\n",
       "      <td>6.631</td>\n",
       "      <td>76.5</td>\n",
       "      <td>4.1480</td>\n",
       "      <td>8.0</td>\n",
       "      <td>307.0</td>\n",
       "      <td>17.4</td>\n",
       "      <td>388.45</td>\n",
       "      <td>9.54</td>\n",
       "      <td>25.1</td>\n",
       "    </tr>\n",
       "    <tr>\n",
       "      <th>269</th>\n",
       "      <td>0.09065</td>\n",
       "      <td>20.0</td>\n",
       "      <td>6.96</td>\n",
       "      <td>1.0</td>\n",
       "      <td>0.4640</td>\n",
       "      <td>5.920</td>\n",
       "      <td>61.5</td>\n",
       "      <td>3.9175</td>\n",
       "      <td>3.0</td>\n",
       "      <td>223.0</td>\n",
       "      <td>18.6</td>\n",
       "      <td>391.34</td>\n",
       "      <td>13.65</td>\n",
       "      <td>20.7</td>\n",
       "    </tr>\n",
       "    <tr>\n",
       "      <th>273</th>\n",
       "      <td>0.22188</td>\n",
       "      <td>20.0</td>\n",
       "      <td>6.96</td>\n",
       "      <td>1.0</td>\n",
       "      <td>0.4640</td>\n",
       "      <td>7.691</td>\n",
       "      <td>51.8</td>\n",
       "      <td>4.3665</td>\n",
       "      <td>3.0</td>\n",
       "      <td>223.0</td>\n",
       "      <td>18.6</td>\n",
       "      <td>390.77</td>\n",
       "      <td>6.58</td>\n",
       "      <td>35.2</td>\n",
       "    </tr>\n",
       "    <tr>\n",
       "      <th>274</th>\n",
       "      <td>0.05644</td>\n",
       "      <td>40.0</td>\n",
       "      <td>6.41</td>\n",
       "      <td>1.0</td>\n",
       "      <td>0.4470</td>\n",
       "      <td>6.758</td>\n",
       "      <td>32.9</td>\n",
       "      <td>4.0776</td>\n",
       "      <td>4.0</td>\n",
       "      <td>254.0</td>\n",
       "      <td>17.6</td>\n",
       "      <td>396.90</td>\n",
       "      <td>3.53</td>\n",
       "      <td>32.4</td>\n",
       "    </tr>\n",
       "    <tr>\n",
       "      <th>276</th>\n",
       "      <td>0.10469</td>\n",
       "      <td>40.0</td>\n",
       "      <td>6.41</td>\n",
       "      <td>1.0</td>\n",
       "      <td>0.4470</td>\n",
       "      <td>7.267</td>\n",
       "      <td>49.0</td>\n",
       "      <td>4.7872</td>\n",
       "      <td>4.0</td>\n",
       "      <td>254.0</td>\n",
       "      <td>17.6</td>\n",
       "      <td>389.25</td>\n",
       "      <td>6.05</td>\n",
       "      <td>33.2</td>\n",
       "    </tr>\n",
       "    <tr>\n",
       "      <th>277</th>\n",
       "      <td>0.06127</td>\n",
       "      <td>40.0</td>\n",
       "      <td>6.41</td>\n",
       "      <td>1.0</td>\n",
       "      <td>0.4470</td>\n",
       "      <td>6.826</td>\n",
       "      <td>27.6</td>\n",
       "      <td>4.8628</td>\n",
       "      <td>4.0</td>\n",
       "      <td>254.0</td>\n",
       "      <td>17.6</td>\n",
       "      <td>393.45</td>\n",
       "      <td>4.16</td>\n",
       "      <td>33.1</td>\n",
       "    </tr>\n",
       "    <tr>\n",
       "      <th>282</th>\n",
       "      <td>0.06129</td>\n",
       "      <td>20.0</td>\n",
       "      <td>3.33</td>\n",
       "      <td>1.0</td>\n",
       "      <td>0.4429</td>\n",
       "      <td>7.645</td>\n",
       "      <td>49.7</td>\n",
       "      <td>5.2119</td>\n",
       "      <td>5.0</td>\n",
       "      <td>216.0</td>\n",
       "      <td>14.9</td>\n",
       "      <td>377.07</td>\n",
       "      <td>3.01</td>\n",
       "      <td>46.0</td>\n",
       "    </tr>\n",
       "    <tr>\n",
       "      <th>283</th>\n",
       "      <td>0.01501</td>\n",
       "      <td>90.0</td>\n",
       "      <td>1.21</td>\n",
       "      <td>1.0</td>\n",
       "      <td>0.4010</td>\n",
       "      <td>7.923</td>\n",
       "      <td>24.8</td>\n",
       "      <td>5.8850</td>\n",
       "      <td>1.0</td>\n",
       "      <td>198.0</td>\n",
       "      <td>13.6</td>\n",
       "      <td>395.52</td>\n",
       "      <td>3.16</td>\n",
       "      <td>50.0</td>\n",
       "    </tr>\n",
       "    <tr>\n",
       "      <th>356</th>\n",
       "      <td>8.98296</td>\n",
       "      <td>0.0</td>\n",
       "      <td>18.10</td>\n",
       "      <td>1.0</td>\n",
       "      <td>0.7700</td>\n",
       "      <td>6.212</td>\n",
       "      <td>97.4</td>\n",
       "      <td>2.1222</td>\n",
       "      <td>24.0</td>\n",
       "      <td>666.0</td>\n",
       "      <td>20.2</td>\n",
       "      <td>377.73</td>\n",
       "      <td>17.60</td>\n",
       "      <td>17.8</td>\n",
       "    </tr>\n",
       "    <tr>\n",
       "      <th>357</th>\n",
       "      <td>3.84970</td>\n",
       "      <td>0.0</td>\n",
       "      <td>18.10</td>\n",
       "      <td>1.0</td>\n",
       "      <td>0.7700</td>\n",
       "      <td>6.395</td>\n",
       "      <td>91.0</td>\n",
       "      <td>2.5052</td>\n",
       "      <td>24.0</td>\n",
       "      <td>666.0</td>\n",
       "      <td>20.2</td>\n",
       "      <td>391.34</td>\n",
       "      <td>13.27</td>\n",
       "      <td>21.7</td>\n",
       "    </tr>\n",
       "    <tr>\n",
       "      <th>358</th>\n",
       "      <td>5.20177</td>\n",
       "      <td>0.0</td>\n",
       "      <td>18.10</td>\n",
       "      <td>1.0</td>\n",
       "      <td>0.7700</td>\n",
       "      <td>6.127</td>\n",
       "      <td>83.4</td>\n",
       "      <td>2.7227</td>\n",
       "      <td>24.0</td>\n",
       "      <td>666.0</td>\n",
       "      <td>20.2</td>\n",
       "      <td>395.43</td>\n",
       "      <td>11.48</td>\n",
       "      <td>22.7</td>\n",
       "    </tr>\n",
       "    <tr>\n",
       "      <th>363</th>\n",
       "      <td>4.22239</td>\n",
       "      <td>0.0</td>\n",
       "      <td>18.10</td>\n",
       "      <td>1.0</td>\n",
       "      <td>0.7700</td>\n",
       "      <td>5.803</td>\n",
       "      <td>89.0</td>\n",
       "      <td>1.9047</td>\n",
       "      <td>24.0</td>\n",
       "      <td>666.0</td>\n",
       "      <td>20.2</td>\n",
       "      <td>353.04</td>\n",
       "      <td>14.64</td>\n",
       "      <td>16.8</td>\n",
       "    </tr>\n",
       "    <tr>\n",
       "      <th>364</th>\n",
       "      <td>3.47428</td>\n",
       "      <td>0.0</td>\n",
       "      <td>18.10</td>\n",
       "      <td>1.0</td>\n",
       "      <td>0.7180</td>\n",
       "      <td>8.780</td>\n",
       "      <td>82.9</td>\n",
       "      <td>1.9047</td>\n",
       "      <td>24.0</td>\n",
       "      <td>666.0</td>\n",
       "      <td>20.2</td>\n",
       "      <td>354.55</td>\n",
       "      <td>5.29</td>\n",
       "      <td>21.9</td>\n",
       "    </tr>\n",
       "    <tr>\n",
       "      <th>369</th>\n",
       "      <td>5.66998</td>\n",
       "      <td>0.0</td>\n",
       "      <td>18.10</td>\n",
       "      <td>1.0</td>\n",
       "      <td>0.6310</td>\n",
       "      <td>6.683</td>\n",
       "      <td>96.8</td>\n",
       "      <td>1.3567</td>\n",
       "      <td>24.0</td>\n",
       "      <td>666.0</td>\n",
       "      <td>20.2</td>\n",
       "      <td>375.33</td>\n",
       "      <td>3.73</td>\n",
       "      <td>50.0</td>\n",
       "    </tr>\n",
       "    <tr>\n",
       "      <th>370</th>\n",
       "      <td>6.53876</td>\n",
       "      <td>0.0</td>\n",
       "      <td>18.10</td>\n",
       "      <td>1.0</td>\n",
       "      <td>0.6310</td>\n",
       "      <td>7.016</td>\n",
       "      <td>97.5</td>\n",
       "      <td>1.2024</td>\n",
       "      <td>24.0</td>\n",
       "      <td>666.0</td>\n",
       "      <td>20.2</td>\n",
       "      <td>392.05</td>\n",
       "      <td>2.96</td>\n",
       "      <td>50.0</td>\n",
       "    </tr>\n",
       "    <tr>\n",
       "      <th>372</th>\n",
       "      <td>8.26725</td>\n",
       "      <td>0.0</td>\n",
       "      <td>18.10</td>\n",
       "      <td>1.0</td>\n",
       "      <td>0.6680</td>\n",
       "      <td>5.875</td>\n",
       "      <td>89.6</td>\n",
       "      <td>1.1296</td>\n",
       "      <td>24.0</td>\n",
       "      <td>666.0</td>\n",
       "      <td>20.2</td>\n",
       "      <td>347.88</td>\n",
       "      <td>8.88</td>\n",
       "      <td>50.0</td>\n",
       "    </tr>\n",
       "  </tbody>\n",
       "</table>\n",
       "</div>"
      ],
      "text/plain": [
       "        CRIM    ZN  INDUS  CHAS     NOX     RM    AGE     DIS   RAD    TAX  \\\n",
       "142  3.32105   0.0  19.58   1.0  0.8710  5.403  100.0  1.3216   5.0  403.0   \n",
       "152  1.12658   0.0  19.58   1.0  0.8710  5.012   88.0  1.6102   5.0  403.0   \n",
       "154  1.41385   0.0  19.58   1.0  0.8710  6.129   96.0  1.7494   5.0  403.0   \n",
       "155  3.53501   0.0  19.58   1.0  0.8710  6.152   82.6  1.7455   5.0  403.0   \n",
       "160  1.27346   0.0  19.58   1.0  0.6050  6.250   92.6  1.7984   5.0  403.0   \n",
       "162  1.83377   0.0  19.58   1.0  0.6050  7.802   98.2  2.0407   5.0  403.0   \n",
       "163  1.51902   0.0  19.58   1.0  0.6050  8.375   93.9  2.1620   5.0  403.0   \n",
       "208  0.13587   0.0  10.59   1.0  0.4890  6.064   59.1  4.2392   4.0  277.0   \n",
       "209  0.43571   0.0  10.59   1.0  0.4890  5.344  100.0  3.8750   4.0  277.0   \n",
       "210  0.17446   0.0  10.59   1.0  0.4890  5.960   92.1  3.8771   4.0  277.0   \n",
       "211  0.37578   0.0  10.59   1.0  0.4890  5.404   88.6  3.6650   4.0  277.0   \n",
       "212  0.21719   0.0  10.59   1.0  0.4890  5.807   53.8  3.6526   4.0  277.0   \n",
       "216  0.04560   0.0  13.89   1.0  0.5500  5.888   56.0  3.1121   5.0  276.0   \n",
       "218  0.11069   0.0  13.89   1.0  0.5500  5.951   93.8  2.8893   5.0  276.0   \n",
       "219  0.11425   0.0  13.89   1.0  0.5500  6.373   92.4  3.3633   5.0  276.0   \n",
       "220  0.35809   0.0   6.20   1.0  0.5070  6.951   88.5  2.8617   8.0  307.0   \n",
       "221  0.40771   0.0   6.20   1.0  0.5070  6.164   91.3  3.0480   8.0  307.0   \n",
       "222  0.62356   0.0   6.20   1.0  0.5070  6.879   77.7  3.2721   8.0  307.0   \n",
       "234  0.44791   0.0   6.20   1.0  0.5070  6.726   66.5  3.6519   8.0  307.0   \n",
       "236  0.52058   0.0   6.20   1.0  0.5070  6.631   76.5  4.1480   8.0  307.0   \n",
       "269  0.09065  20.0   6.96   1.0  0.4640  5.920   61.5  3.9175   3.0  223.0   \n",
       "273  0.22188  20.0   6.96   1.0  0.4640  7.691   51.8  4.3665   3.0  223.0   \n",
       "274  0.05644  40.0   6.41   1.0  0.4470  6.758   32.9  4.0776   4.0  254.0   \n",
       "276  0.10469  40.0   6.41   1.0  0.4470  7.267   49.0  4.7872   4.0  254.0   \n",
       "277  0.06127  40.0   6.41   1.0  0.4470  6.826   27.6  4.8628   4.0  254.0   \n",
       "282  0.06129  20.0   3.33   1.0  0.4429  7.645   49.7  5.2119   5.0  216.0   \n",
       "283  0.01501  90.0   1.21   1.0  0.4010  7.923   24.8  5.8850   1.0  198.0   \n",
       "356  8.98296   0.0  18.10   1.0  0.7700  6.212   97.4  2.1222  24.0  666.0   \n",
       "357  3.84970   0.0  18.10   1.0  0.7700  6.395   91.0  2.5052  24.0  666.0   \n",
       "358  5.20177   0.0  18.10   1.0  0.7700  6.127   83.4  2.7227  24.0  666.0   \n",
       "363  4.22239   0.0  18.10   1.0  0.7700  5.803   89.0  1.9047  24.0  666.0   \n",
       "364  3.47428   0.0  18.10   1.0  0.7180  8.780   82.9  1.9047  24.0  666.0   \n",
       "369  5.66998   0.0  18.10   1.0  0.6310  6.683   96.8  1.3567  24.0  666.0   \n",
       "370  6.53876   0.0  18.10   1.0  0.6310  7.016   97.5  1.2024  24.0  666.0   \n",
       "372  8.26725   0.0  18.10   1.0  0.6680  5.875   89.6  1.1296  24.0  666.0   \n",
       "\n",
       "     PTRATIO       B  LSTAT  Price  \n",
       "142     14.7  396.90  26.82   13.4  \n",
       "152     14.7  343.28  12.12   15.3  \n",
       "154     14.7  321.02  15.12   17.0  \n",
       "155     14.7   88.01  15.02   15.6  \n",
       "160     14.7  338.92   5.50   27.0  \n",
       "162     14.7  389.61   1.92   50.0  \n",
       "163     14.7  388.45   3.32   50.0  \n",
       "208     18.6  381.32  14.66   24.4  \n",
       "209     18.6  396.90  23.09   20.0  \n",
       "210     18.6  393.25  17.27   21.7  \n",
       "211     18.6  395.24  23.98   19.3  \n",
       "212     18.6  390.94  16.03   22.4  \n",
       "216     16.4  392.80  13.51   23.3  \n",
       "218     16.4  396.90  17.92   21.5  \n",
       "219     16.4  393.74  10.50   23.0  \n",
       "220     17.4  391.70   9.71   26.7  \n",
       "221     17.4  395.24  21.46   21.7  \n",
       "222     17.4  390.39   9.93   27.5  \n",
       "234     17.4  360.20   8.05   29.0  \n",
       "236     17.4  388.45   9.54   25.1  \n",
       "269     18.6  391.34  13.65   20.7  \n",
       "273     18.6  390.77   6.58   35.2  \n",
       "274     17.6  396.90   3.53   32.4  \n",
       "276     17.6  389.25   6.05   33.2  \n",
       "277     17.6  393.45   4.16   33.1  \n",
       "282     14.9  377.07   3.01   46.0  \n",
       "283     13.6  395.52   3.16   50.0  \n",
       "356     20.2  377.73  17.60   17.8  \n",
       "357     20.2  391.34  13.27   21.7  \n",
       "358     20.2  395.43  11.48   22.7  \n",
       "363     20.2  353.04  14.64   16.8  \n",
       "364     20.2  354.55   5.29   21.9  \n",
       "369     20.2  375.33   3.73   50.0  \n",
       "370     20.2  392.05   2.96   50.0  \n",
       "372     20.2  347.88   8.88   50.0  "
      ]
     },
     "execution_count": 32,
     "metadata": {},
     "output_type": "execute_result"
    }
   ],
   "source": [
    "r"
   ]
  },
  {
   "cell_type": "code",
   "execution_count": 33,
   "metadata": {},
   "outputs": [],
   "source": [
    "# Don't know if this is needed\n",
    "df1 = nr['Price']\n",
    "df2 = r['Price']"
   ]
  },
  {
   "cell_type": "code",
   "execution_count": 34,
   "metadata": {
    "scrolled": true
   },
   "outputs": [
    {
     "data": {
      "text/html": [
       "<div>\n",
       "<style scoped>\n",
       "    .dataframe tbody tr th:only-of-type {\n",
       "        vertical-align: middle;\n",
       "    }\n",
       "\n",
       "    .dataframe tbody tr th {\n",
       "        vertical-align: top;\n",
       "    }\n",
       "\n",
       "    .dataframe thead th {\n",
       "        text-align: right;\n",
       "    }\n",
       "</style>\n",
       "<table border=\"1\" class=\"dataframe\">\n",
       "  <thead>\n",
       "    <tr style=\"text-align: right;\">\n",
       "      <th></th>\n",
       "      <th>River Charles</th>\n",
       "      <th>price</th>\n",
       "    </tr>\n",
       "  </thead>\n",
       "  <tbody>\n",
       "    <tr>\n",
       "      <th>0</th>\n",
       "      <td>near</td>\n",
       "      <td>24.0</td>\n",
       "    </tr>\n",
       "    <tr>\n",
       "      <th>1</th>\n",
       "      <td>near</td>\n",
       "      <td>21.6</td>\n",
       "    </tr>\n",
       "    <tr>\n",
       "      <th>2</th>\n",
       "      <td>near</td>\n",
       "      <td>34.7</td>\n",
       "    </tr>\n",
       "    <tr>\n",
       "      <th>3</th>\n",
       "      <td>near</td>\n",
       "      <td>33.4</td>\n",
       "    </tr>\n",
       "    <tr>\n",
       "      <th>4</th>\n",
       "      <td>near</td>\n",
       "      <td>36.2</td>\n",
       "    </tr>\n",
       "    <tr>\n",
       "      <th>...</th>\n",
       "      <td>...</td>\n",
       "      <td>...</td>\n",
       "    </tr>\n",
       "    <tr>\n",
       "      <th>363</th>\n",
       "      <td>away</td>\n",
       "      <td>16.8</td>\n",
       "    </tr>\n",
       "    <tr>\n",
       "      <th>364</th>\n",
       "      <td>away</td>\n",
       "      <td>21.9</td>\n",
       "    </tr>\n",
       "    <tr>\n",
       "      <th>369</th>\n",
       "      <td>away</td>\n",
       "      <td>50.0</td>\n",
       "    </tr>\n",
       "    <tr>\n",
       "      <th>370</th>\n",
       "      <td>away</td>\n",
       "      <td>50.0</td>\n",
       "    </tr>\n",
       "    <tr>\n",
       "      <th>372</th>\n",
       "      <td>away</td>\n",
       "      <td>50.0</td>\n",
       "    </tr>\n",
       "  </tbody>\n",
       "</table>\n",
       "<p>506 rows × 2 columns</p>\n",
       "</div>"
      ],
      "text/plain": [
       "    River Charles  price\n",
       "0            near   24.0\n",
       "1            near   21.6\n",
       "2            near   34.7\n",
       "3            near   33.4\n",
       "4            near   36.2\n",
       "..            ...    ...\n",
       "363          away   16.8\n",
       "364          away   21.9\n",
       "369          away   50.0\n",
       "370          away   50.0\n",
       "372          away   50.0\n",
       "\n",
       "[506 rows x 2 columns]"
      ]
     },
     "execution_count": 34,
     "metadata": {},
     "output_type": "execute_result"
    }
   ],
   "source": [
    "# Don't know if this is needed\n",
    "df3 = pd.concat([df1,df2])\n",
    "river = ['near']*471 + ['away']*35\n",
    "df4 = pd.DataFrame({'River Charles': river, 'price': df3})\n",
    "df4"
   ]
  },
  {
   "cell_type": "code",
   "execution_count": 35,
   "metadata": {
    "scrolled": false
   },
   "outputs": [
    {
     "data": {
      "text/plain": [
       "142    13.4\n",
       "152    15.3\n",
       "154    17.0\n",
       "155    15.6\n",
       "160    27.0\n",
       "162    50.0\n",
       "163    50.0\n",
       "208    24.4\n",
       "209    20.0\n",
       "210    21.7\n",
       "211    19.3\n",
       "212    22.4\n",
       "216    23.3\n",
       "218    21.5\n",
       "219    23.0\n",
       "220    26.7\n",
       "221    21.7\n",
       "222    27.5\n",
       "234    29.0\n",
       "236    25.1\n",
       "269    20.7\n",
       "273    35.2\n",
       "274    32.4\n",
       "276    33.2\n",
       "277    33.1\n",
       "282    46.0\n",
       "283    50.0\n",
       "356    17.8\n",
       "357    21.7\n",
       "358    22.7\n",
       "363    16.8\n",
       "364    21.9\n",
       "369    50.0\n",
       "370    50.0\n",
       "372    50.0\n",
       "Name: price, dtype: float64"
      ]
     },
     "execution_count": 35,
     "metadata": {},
     "output_type": "execute_result"
    }
   ],
   "source": [
    "# Don't know if this is needed\n",
    "df4[df4['River Charles']=='away']['price']"
   ]
  },
  {
   "cell_type": "code",
   "execution_count": 36,
   "metadata": {},
   "outputs": [
    {
     "data": {
      "text/plain": [
       "<matplotlib.axes._subplots.AxesSubplot at 0x23b53298188>"
      ]
     },
     "execution_count": 36,
     "metadata": {},
     "output_type": "execute_result"
    },
    {
     "data": {
      "image/png": "[encoded data removed]",
      "text/plain": [
       "<Figure size 864x576 with 1 Axes>"
      ]
     },
     "metadata": {},
     "output_type": "display_data"
    }
   ],
   "source": [
    "# plot of house prices that track the river\n",
    "sns.distplot(r['Price'],bins = 20, kde = False)"
   ]
  },
  {
   "cell_type": "code",
   "execution_count": 37,
   "metadata": {
    "scrolled": false
   },
   "outputs": [
    {
     "data": {
      "text/plain": [
       "<matplotlib.axes._subplots.AxesSubplot at 0x23b53b13ec8>"
      ]
     },
     "execution_count": 37,
     "metadata": {},
     "output_type": "execute_result"
    },
    {
     "data": {
      "image/png": "[encoded data removed]",
      "text/plain": [
       "<Figure size 864x576 with 1 Axes>"
      ]
     },
     "metadata": {},
     "output_type": "display_data"
    }
   ],
   "source": [
    "# plot for houses that do not track the river\n",
    "sns.distplot(nr['Price'], bins = 20, kde = False)"
   ]
  },
  {
   "cell_type": "code",
   "execution_count": 38,
   "metadata": {
    "scrolled": false
   },
   "outputs": [
    {
     "data": {
      "text/plain": [
       "<matplotlib.axes._subplots.AxesSubplot at 0x23b539500c8>"
      ]
     },
     "execution_count": 38,
     "metadata": {},
     "output_type": "execute_result"
    },
    {
     "data": {
      "image/png": "[encoded data removed]",
      "text/plain": [
       "<Figure size 864x576 with 1 Axes>"
      ]
     },
     "metadata": {},
     "output_type": "display_data"
    }
   ],
   "source": [
    "sns.distplot(nr['Price'])\n",
    "sns.distplot(r['Price'], color = 'r' )"
   ]
  },
  {
   "cell_type": "markdown",
   "metadata": {},
   "source": [
    "#### The plot above shows the house prices of both the houses that tract the river and those that do not tract the river, superimposed over each other. The blue plot is for the houses that do not tract the river and the red plot is for the houses that tract the river. Both plots appear to be normally distributed. Both also appear to have the top of the kde to be at a similar price range and that may suggest similar means. The two proceeding codes below say otherwise. Another look back at the plot above show that there is a second 'curve' for the red plot, that there is a proportion of houses that have high value, and that proportion is large enough to skew the mean higher. "
   ]
  },
  {
   "cell_type": "code",
   "execution_count": 39,
   "metadata": {
    "scrolled": true
   },
   "outputs": [
    {
     "data": {
      "text/plain": [
       "22.093842887473482"
      ]
     },
     "execution_count": 39,
     "metadata": {},
     "output_type": "execute_result"
    }
   ],
   "source": [
    "# get the mean for house prices that do not tract the river\n",
    "nr.mean()['Price']"
   ]
  },
  {
   "cell_type": "code",
   "execution_count": 40,
   "metadata": {},
   "outputs": [
    {
     "data": {
      "text/plain": [
       "28.44"
      ]
     },
     "execution_count": 40,
     "metadata": {},
     "output_type": "execute_result"
    }
   ],
   "source": [
    "# get the mean for house prices that tract the river\n",
    "r.mean()['Price']"
   ]
  },
  {
   "cell_type": "markdown",
   "metadata": {},
   "source": [
    "#### t-test and anova t-test"
   ]
  },
  {
   "cell_type": "code",
   "execution_count": 41,
   "metadata": {},
   "outputs": [],
   "source": [
    "# import package for ttest\n",
    "import scipy.stats as stats"
   ]
  },
  {
   "cell_type": "code",
   "execution_count": 42,
   "metadata": {},
   "outputs": [
    {
     "name": "stdout",
     "output_type": "stream",
     "text": [
      "Ttest_indResult(statistic=-3.996437466090509, pvalue=7.390623170519905e-05)\n"
     ]
    }
   ],
   "source": [
    "# test for significant difference of both groups of house prices\n",
    "print(stats.ttest_ind(nr['Price'], r['Price'] ))"
   ]
  },
  {
   "cell_type": "markdown",
   "metadata": {},
   "source": [
    "#### The independent t-test is used to determine if there is a statistically significant difference between the means of the house price groups. The house prices visually appear to approximate normal distribution, although no testing is done with respect to normality such as the Shapiro-Wilks test, it is assumed that the t-test is a robust test with respect to assumption of normality (Laerd).  The result is a very small pvalue (< 0.05) that suggest that there is a only a very small chance that we can have a similar group of data if the means are equal. Therefore we reject the null hypothesis and accept the means as not equal. Below is a one-way anova of the same samples. Although anova is preferred for 3 or more groups, it was used just as a test for the former t-test. \n",
    "***"
   ]
  },
  {
   "cell_type": "code",
   "execution_count": 43,
   "metadata": {
    "scrolled": false
   },
   "outputs": [
    {
     "data": {
      "text/plain": [
       "F_onewayResult(statistic=15.971512420371955, pvalue=7.390623170520815e-05)"
      ]
     },
     "execution_count": 43,
     "metadata": {},
     "output_type": "execute_result"
    }
   ],
   "source": [
    "stats.f_oneway(nr['Price'], r['Price'])"
   ]
  },
  {
   "cell_type": "markdown",
   "metadata": {},
   "source": [
    "#### Due to difference in sample sizes it seemed appropriate to check for homogeneity of variance [2]. Although it is not understood fully, further study regarding the impact of this area maybe necessary.  \n",
    "\n",
    "#### Levene's test suggest that the variances are not equal. Due to the pvalue smaller than 0.05, we reject the null hypothesis. "
   ]
  },
  {
   "cell_type": "code",
   "execution_count": 44,
   "metadata": {
    "scrolled": true
   },
   "outputs": [
    {
     "data": {
      "text/plain": [
       "LeveneResult(statistic=4.590342218715871, pvalue=0.03263097600633006)"
      ]
     },
     "execution_count": 44,
     "metadata": {},
     "output_type": "execute_result"
    }
   ],
   "source": [
    "stats.levene(nr['Price'], r['Price'])"
   ]
  },
  {
   "cell_type": "markdown",
   "metadata": {},
   "source": [
    "#### Below is a t-test for unequal variances and it shows a pvalue smaller than 0.05. The null hypothesis is therefore rejected. Although a similar conclusion is reached with the t-test that assumes equal variance, the pvalue is significantly different.  Unfortunately, it is beyond my understanding to explain the significance of this difference.  "
   ]
  },
  {
   "cell_type": "code",
   "execution_count": 78,
   "metadata": {},
   "outputs": [
    {
     "data": {
      "text/plain": [
       "Ttest_indResult(statistic=-3.113291312794837, pvalue=0.003567170098137517)"
      ]
     },
     "execution_count": 78,
     "metadata": {},
     "output_type": "execute_result"
    }
   ],
   "source": [
    "stats.ttest_ind(nr['Price'], r['Price'], equal_var=False, axis=0)"
   ]
  },
  {
   "cell_type": "code",
   "execution_count": 45,
   "metadata": {},
   "outputs": [],
   "source": [
    "from sklearn.model_selection import train_test_split"
   ]
  },
  {
   "cell_type": "code",
   "execution_count": 46,
   "metadata": {},
   "outputs": [],
   "source": [
    "X = bdf[['Price','CRIM', 'ZN', 'INDUS', 'CHAS', 'NOX', 'RM', 'AGE', 'DIS', 'RAD', 'TAX', 'PTRATIO',\n",
    " 'B', 'LSTAT']]\n",
    "y = bdf['CHAS']\n"
   ]
  },
  {
   "cell_type": "code",
   "execution_count": 47,
   "metadata": {},
   "outputs": [],
   "source": [
    "X_train, X_test, y_train, y_test = train_test_split(X, y)\n"
   ]
  },
  {
   "cell_type": "code",
   "execution_count": 48,
   "metadata": {},
   "outputs": [],
   "source": [
    "from sklearn.linear_model import LogisticRegression"
   ]
  },
  {
   "cell_type": "code",
   "execution_count": 49,
   "metadata": {},
   "outputs": [
    {
     "name": "stderr",
     "output_type": "stream",
     "text": [
      "C:\\Users\\james\\Anaconda3\\lib\\site-packages\\sklearn\\linear_model\\logistic.py:432: FutureWarning: Default solver will be changed to 'lbfgs' in 0.22. Specify a solver to silence this warning.\n",
      "  FutureWarning)\n"
     ]
    },
    {
     "data": {
      "text/plain": [
       "LogisticRegression(C=1.0, class_weight=None, dual=False, fit_intercept=True,\n",
       "                   intercept_scaling=1, l1_ratio=None, max_iter=100,\n",
       "                   multi_class='warn', n_jobs=None, penalty='l2',\n",
       "                   random_state=None, solver='warn', tol=0.0001, verbose=0,\n",
       "                   warm_start=False)"
      ]
     },
     "execution_count": 49,
     "metadata": {},
     "output_type": "execute_result"
    }
   ],
   "source": [
    "logmodel = LogisticRegression()\n",
    "logmodel.fit(X_train,y_train)\n"
   ]
  },
  {
   "cell_type": "code",
   "execution_count": 50,
   "metadata": {},
   "outputs": [],
   "source": [
    "predictions = logmodel.predict(X_test)"
   ]
  },
  {
   "cell_type": "code",
   "execution_count": 51,
   "metadata": {},
   "outputs": [],
   "source": [
    "from sklearn.metrics import classification_report"
   ]
  },
  {
   "cell_type": "code",
   "execution_count": 52,
   "metadata": {},
   "outputs": [
    {
     "name": "stdout",
     "output_type": "stream",
     "text": [
      "              precision    recall  f1-score   support\n",
      "\n",
      "         0.0       1.00      1.00      1.00       114\n",
      "         1.0       1.00      1.00      1.00        13\n",
      "\n",
      "    accuracy                           1.00       127\n",
      "   macro avg       1.00      1.00      1.00       127\n",
      "weighted avg       1.00      1.00      1.00       127\n",
      "\n"
     ]
    }
   ],
   "source": [
    "print(classification_report(y_test,predictions))"
   ]
  },
  {
   "cell_type": "code",
   "execution_count": 53,
   "metadata": {},
   "outputs": [
    {
     "name": "stderr",
     "output_type": "stream",
     "text": [
      "Using TensorFlow backend.\n"
     ]
    }
   ],
   "source": [
    "import keras as kr"
   ]
  },
  {
   "cell_type": "code",
   "execution_count": 54,
   "metadata": {},
   "outputs": [],
   "source": [
    "import sklearn.preprocessing as pre\n",
    "# For splitting data sets\n",
    "import sklearn.model_selection as mod\n",
    "# For whitening\n",
    "import sklearn.decomposition as dec"
   ]
  },
  {
   "cell_type": "code",
   "execution_count": 55,
   "metadata": {},
   "outputs": [],
   "source": [
    "x = bdf[['CHAS','CRIM', 'ZN', 'INDUS', 'NOX', 'RM', 'AGE', 'DIS', 'RAD', 'TAX', 'PTRATIO', 'B', 'LSTAT']]\n",
    "y = bdf['Price']"
   ]
  },
  {
   "cell_type": "code",
   "execution_count": 56,
   "metadata": {},
   "outputs": [
    {
     "data": {
      "text/html": [
       "<div>\n",
       "<style scoped>\n",
       "    .dataframe tbody tr th:only-of-type {\n",
       "        vertical-align: middle;\n",
       "    }\n",
       "\n",
       "    .dataframe tbody tr th {\n",
       "        vertical-align: top;\n",
       "    }\n",
       "\n",
       "    .dataframe thead th {\n",
       "        text-align: right;\n",
       "    }\n",
       "</style>\n",
       "<table border=\"1\" class=\"dataframe\">\n",
       "  <thead>\n",
       "    <tr style=\"text-align: right;\">\n",
       "      <th></th>\n",
       "      <th>CHAS</th>\n",
       "      <th>CRIM</th>\n",
       "      <th>ZN</th>\n",
       "      <th>INDUS</th>\n",
       "      <th>NOX</th>\n",
       "      <th>RM</th>\n",
       "      <th>AGE</th>\n",
       "      <th>DIS</th>\n",
       "      <th>RAD</th>\n",
       "      <th>TAX</th>\n",
       "      <th>PTRATIO</th>\n",
       "      <th>B</th>\n",
       "      <th>LSTAT</th>\n",
       "    </tr>\n",
       "  </thead>\n",
       "  <tbody>\n",
       "    <tr>\n",
       "      <th>0</th>\n",
       "      <td>0.0</td>\n",
       "      <td>0.00632</td>\n",
       "      <td>18.0</td>\n",
       "      <td>2.31</td>\n",
       "      <td>0.538</td>\n",
       "      <td>6.575</td>\n",
       "      <td>65.2</td>\n",
       "      <td>4.0900</td>\n",
       "      <td>1.0</td>\n",
       "      <td>296.0</td>\n",
       "      <td>15.3</td>\n",
       "      <td>396.90</td>\n",
       "      <td>4.98</td>\n",
       "    </tr>\n",
       "    <tr>\n",
       "      <th>1</th>\n",
       "      <td>0.0</td>\n",
       "      <td>0.02731</td>\n",
       "      <td>0.0</td>\n",
       "      <td>7.07</td>\n",
       "      <td>0.469</td>\n",
       "      <td>6.421</td>\n",
       "      <td>78.9</td>\n",
       "      <td>4.9671</td>\n",
       "      <td>2.0</td>\n",
       "      <td>242.0</td>\n",
       "      <td>17.8</td>\n",
       "      <td>396.90</td>\n",
       "      <td>9.14</td>\n",
       "    </tr>\n",
       "    <tr>\n",
       "      <th>2</th>\n",
       "      <td>0.0</td>\n",
       "      <td>0.02729</td>\n",
       "      <td>0.0</td>\n",
       "      <td>7.07</td>\n",
       "      <td>0.469</td>\n",
       "      <td>7.185</td>\n",
       "      <td>61.1</td>\n",
       "      <td>4.9671</td>\n",
       "      <td>2.0</td>\n",
       "      <td>242.0</td>\n",
       "      <td>17.8</td>\n",
       "      <td>392.83</td>\n",
       "      <td>4.03</td>\n",
       "    </tr>\n",
       "    <tr>\n",
       "      <th>3</th>\n",
       "      <td>0.0</td>\n",
       "      <td>0.03237</td>\n",
       "      <td>0.0</td>\n",
       "      <td>2.18</td>\n",
       "      <td>0.458</td>\n",
       "      <td>6.998</td>\n",
       "      <td>45.8</td>\n",
       "      <td>6.0622</td>\n",
       "      <td>3.0</td>\n",
       "      <td>222.0</td>\n",
       "      <td>18.7</td>\n",
       "      <td>394.63</td>\n",
       "      <td>2.94</td>\n",
       "    </tr>\n",
       "    <tr>\n",
       "      <th>4</th>\n",
       "      <td>0.0</td>\n",
       "      <td>0.06905</td>\n",
       "      <td>0.0</td>\n",
       "      <td>2.18</td>\n",
       "      <td>0.458</td>\n",
       "      <td>7.147</td>\n",
       "      <td>54.2</td>\n",
       "      <td>6.0622</td>\n",
       "      <td>3.0</td>\n",
       "      <td>222.0</td>\n",
       "      <td>18.7</td>\n",
       "      <td>396.90</td>\n",
       "      <td>5.33</td>\n",
       "    </tr>\n",
       "    <tr>\n",
       "      <th>...</th>\n",
       "      <td>...</td>\n",
       "      <td>...</td>\n",
       "      <td>...</td>\n",
       "      <td>...</td>\n",
       "      <td>...</td>\n",
       "      <td>...</td>\n",
       "      <td>...</td>\n",
       "      <td>...</td>\n",
       "      <td>...</td>\n",
       "      <td>...</td>\n",
       "      <td>...</td>\n",
       "      <td>...</td>\n",
       "      <td>...</td>\n",
       "    </tr>\n",
       "    <tr>\n",
       "      <th>501</th>\n",
       "      <td>0.0</td>\n",
       "      <td>0.06263</td>\n",
       "      <td>0.0</td>\n",
       "      <td>11.93</td>\n",
       "      <td>0.573</td>\n",
       "      <td>6.593</td>\n",
       "      <td>69.1</td>\n",
       "      <td>2.4786</td>\n",
       "      <td>1.0</td>\n",
       "      <td>273.0</td>\n",
       "      <td>21.0</td>\n",
       "      <td>391.99</td>\n",
       "      <td>9.67</td>\n",
       "    </tr>\n",
       "    <tr>\n",
       "      <th>502</th>\n",
       "      <td>0.0</td>\n",
       "      <td>0.04527</td>\n",
       "      <td>0.0</td>\n",
       "      <td>11.93</td>\n",
       "      <td>0.573</td>\n",
       "      <td>6.120</td>\n",
       "      <td>76.7</td>\n",
       "      <td>2.2875</td>\n",
       "      <td>1.0</td>\n",
       "      <td>273.0</td>\n",
       "      <td>21.0</td>\n",
       "      <td>396.90</td>\n",
       "      <td>9.08</td>\n",
       "    </tr>\n",
       "    <tr>\n",
       "      <th>503</th>\n",
       "      <td>0.0</td>\n",
       "      <td>0.06076</td>\n",
       "      <td>0.0</td>\n",
       "      <td>11.93</td>\n",
       "      <td>0.573</td>\n",
       "      <td>6.976</td>\n",
       "      <td>91.0</td>\n",
       "      <td>2.1675</td>\n",
       "      <td>1.0</td>\n",
       "      <td>273.0</td>\n",
       "      <td>21.0</td>\n",
       "      <td>396.90</td>\n",
       "      <td>5.64</td>\n",
       "    </tr>\n",
       "    <tr>\n",
       "      <th>504</th>\n",
       "      <td>0.0</td>\n",
       "      <td>0.10959</td>\n",
       "      <td>0.0</td>\n",
       "      <td>11.93</td>\n",
       "      <td>0.573</td>\n",
       "      <td>6.794</td>\n",
       "      <td>89.3</td>\n",
       "      <td>2.3889</td>\n",
       "      <td>1.0</td>\n",
       "      <td>273.0</td>\n",
       "      <td>21.0</td>\n",
       "      <td>393.45</td>\n",
       "      <td>6.48</td>\n",
       "    </tr>\n",
       "    <tr>\n",
       "      <th>505</th>\n",
       "      <td>0.0</td>\n",
       "      <td>0.04741</td>\n",
       "      <td>0.0</td>\n",
       "      <td>11.93</td>\n",
       "      <td>0.573</td>\n",
       "      <td>6.030</td>\n",
       "      <td>80.8</td>\n",
       "      <td>2.5050</td>\n",
       "      <td>1.0</td>\n",
       "      <td>273.0</td>\n",
       "      <td>21.0</td>\n",
       "      <td>396.90</td>\n",
       "      <td>7.88</td>\n",
       "    </tr>\n",
       "  </tbody>\n",
       "</table>\n",
       "<p>506 rows × 13 columns</p>\n",
       "</div>"
      ],
      "text/plain": [
       "     CHAS     CRIM    ZN  INDUS    NOX     RM   AGE     DIS  RAD    TAX  \\\n",
       "0     0.0  0.00632  18.0   2.31  0.538  6.575  65.2  4.0900  1.0  296.0   \n",
       "1     0.0  0.02731   0.0   7.07  0.469  6.421  78.9  4.9671  2.0  242.0   \n",
       "2     0.0  0.02729   0.0   7.07  0.469  7.185  61.1  4.9671  2.0  242.0   \n",
       "3     0.0  0.03237   0.0   2.18  0.458  6.998  45.8  6.0622  3.0  222.0   \n",
       "4     0.0  0.06905   0.0   2.18  0.458  7.147  54.2  6.0622  3.0  222.0   \n",
       "..    ...      ...   ...    ...    ...    ...   ...     ...  ...    ...   \n",
       "501   0.0  0.06263   0.0  11.93  0.573  6.593  69.1  2.4786  1.0  273.0   \n",
       "502   0.0  0.04527   0.0  11.93  0.573  6.120  76.7  2.2875  1.0  273.0   \n",
       "503   0.0  0.06076   0.0  11.93  0.573  6.976  91.0  2.1675  1.0  273.0   \n",
       "504   0.0  0.10959   0.0  11.93  0.573  6.794  89.3  2.3889  1.0  273.0   \n",
       "505   0.0  0.04741   0.0  11.93  0.573  6.030  80.8  2.5050  1.0  273.0   \n",
       "\n",
       "     PTRATIO       B  LSTAT  \n",
       "0       15.3  396.90   4.98  \n",
       "1       17.8  396.90   9.14  \n",
       "2       17.8  392.83   4.03  \n",
       "3       18.7  394.63   2.94  \n",
       "4       18.7  396.90   5.33  \n",
       "..       ...     ...    ...  \n",
       "501     21.0  391.99   9.67  \n",
       "502     21.0  396.90   9.08  \n",
       "503     21.0  396.90   5.64  \n",
       "504     21.0  393.45   6.48  \n",
       "505     21.0  396.90   7.88  \n",
       "\n",
       "[506 rows x 13 columns]"
      ]
     },
     "execution_count": 56,
     "metadata": {},
     "output_type": "execute_result"
    }
   ],
   "source": [
    "x"
   ]
  },
  {
   "cell_type": "code",
   "execution_count": 57,
   "metadata": {},
   "outputs": [],
   "source": [
    "x_train, x_test, y_train, y_test = mod.train_test_split(x, y, test_size=0.2)"
   ]
  },
  {
   "cell_type": "markdown",
   "metadata": {},
   "source": [
    "### Building and Training"
   ]
  },
  {
   "cell_type": "code",
   "execution_count": 58,
   "metadata": {},
   "outputs": [],
   "source": [
    "m = kr.models.Sequential()\n"
   ]
  },
  {
   "cell_type": "code",
   "execution_count": 59,
   "metadata": {},
   "outputs": [],
   "source": [
    "m.add(kr.layers.Dense(20, input_dim=13, activation=\"relu\"))\n",
    "m.add(kr.layers.Dense(1, activation=\"linear\"))\n",
    "m.compile(loss=\"mean_squared_error\", optimizer=\"adam\")"
   ]
  },
  {
   "cell_type": "code",
   "execution_count": 60,
   "metadata": {},
   "outputs": [
    {
     "name": "stdout",
     "output_type": "stream",
     "text": [
      "Epoch 1/100\n",
      "404/404 [==============================] - 0s 694us/step - loss: 2942.0344\n",
      "Epoch 2/100\n",
      "404/404 [==============================] - 0s 105us/step - loss: 876.6538\n",
      "Epoch 3/100\n",
      "404/404 [==============================] - 0s 116us/step - loss: 375.6637\n",
      "Epoch 4/100\n",
      "404/404 [==============================] - 0s 123us/step - loss: 240.2417\n",
      "Epoch 5/100\n",
      "404/404 [==============================] - 0s 121us/step - loss: 171.0291\n",
      "Epoch 6/100\n",
      "404/404 [==============================] - 0s 126us/step - loss: 127.8824\n",
      "Epoch 7/100\n",
      "404/404 [==============================] - 0s 116us/step - loss: 97.8810\n",
      "Epoch 8/100\n",
      "404/404 [==============================] - 0s 111us/step - loss: 77.9700\n",
      "Epoch 9/100\n",
      "404/404 [==============================] - 0s 106us/step - loss: 68.4374\n",
      "Epoch 10/100\n",
      "404/404 [==============================] - 0s 109us/step - loss: 60.4148\n",
      "Epoch 11/100\n",
      "404/404 [==============================] - 0s 126us/step - loss: 55.7857\n",
      "Epoch 12/100\n",
      "404/404 [==============================] - 0s 106us/step - loss: 52.0545\n",
      "Epoch 13/100\n",
      "404/404 [==============================] - 0s 114us/step - loss: 51.1920\n",
      "Epoch 14/100\n",
      "404/404 [==============================] - 0s 114us/step - loss: 49.1068\n",
      "Epoch 15/100\n",
      "404/404 [==============================] - 0s 109us/step - loss: 47.3361\n",
      "Epoch 16/100\n",
      "404/404 [==============================] - 0s 118us/step - loss: 45.8492\n",
      "Epoch 17/100\n",
      "404/404 [==============================] - 0s 114us/step - loss: 45.9552\n",
      "Epoch 18/100\n",
      "404/404 [==============================] - 0s 118us/step - loss: 44.8346\n",
      "Epoch 19/100\n",
      "404/404 [==============================] - 0s 116us/step - loss: 44.2281\n",
      "Epoch 20/100\n",
      "404/404 [==============================] - 0s 136us/step - loss: 45.0964\n",
      "Epoch 21/100\n",
      "404/404 [==============================] - 0s 118us/step - loss: 42.5976\n",
      "Epoch 22/100\n",
      "404/404 [==============================] - 0s 121us/step - loss: 42.6121\n",
      "Epoch 23/100\n",
      "404/404 [==============================] - 0s 128us/step - loss: 42.5616\n",
      "Epoch 24/100\n",
      "404/404 [==============================] - 0s 116us/step - loss: 41.8930\n",
      "Epoch 25/100\n",
      "404/404 [==============================] - 0s 128us/step - loss: 42.1399\n",
      "Epoch 26/100\n",
      "404/404 [==============================] - 0s 121us/step - loss: 41.5680\n",
      "Epoch 27/100\n",
      "404/404 [==============================] - 0s 118us/step - loss: 43.5866\n",
      "Epoch 28/100\n",
      "404/404 [==============================] - 0s 116us/step - loss: 41.0007\n",
      "Epoch 29/100\n",
      "404/404 [==============================] - 0s 121us/step - loss: 40.3842\n",
      "Epoch 30/100\n",
      "404/404 [==============================] - 0s 123us/step - loss: 41.9149\n",
      "Epoch 31/100\n",
      "404/404 [==============================] - 0s 123us/step - loss: 40.3542\n",
      "Epoch 32/100\n",
      "404/404 [==============================] - 0s 114us/step - loss: 41.1002\n",
      "Epoch 33/100\n",
      "404/404 [==============================] - 0s 101us/step - loss: 39.2336\n",
      "Epoch 34/100\n",
      "404/404 [==============================] - ETA: 0s - loss: 32.95 - 0s 104us/step - loss: 39.9754\n",
      "Epoch 35/100\n",
      "404/404 [==============================] - 0s 106us/step - loss: 38.1793\n",
      "Epoch 36/100\n",
      "404/404 [==============================] - 0s 128us/step - loss: 38.9064\n",
      "Epoch 37/100\n",
      "404/404 [==============================] - 0s 109us/step - loss: 38.5602\n",
      "Epoch 38/100\n",
      "404/404 [==============================] - 0s 111us/step - loss: 38.8654\n",
      "Epoch 39/100\n",
      "404/404 [==============================] - 0s 116us/step - loss: 40.1338\n",
      "Epoch 40/100\n",
      "404/404 [==============================] - 0s 106us/step - loss: 38.7087\n",
      "Epoch 41/100\n",
      "404/404 [==============================] - 0s 143us/step - loss: 38.0150\n",
      "Epoch 42/100\n",
      "404/404 [==============================] - 0s 118us/step - loss: 38.8331\n",
      "Epoch 43/100\n",
      "404/404 [==============================] - 0s 116us/step - loss: 38.0786\n",
      "Epoch 44/100\n",
      "404/404 [==============================] - 0s 109us/step - loss: 38.4293\n",
      "Epoch 45/100\n",
      "404/404 [==============================] - 0s 106us/step - loss: 36.9305\n",
      "Epoch 46/100\n",
      "404/404 [==============================] - 0s 118us/step - loss: 37.4201\n",
      "Epoch 47/100\n",
      "404/404 [==============================] - 0s 116us/step - loss: 36.8501\n",
      "Epoch 48/100\n",
      "404/404 [==============================] - 0s 123us/step - loss: 36.9465\n",
      "Epoch 49/100\n",
      "404/404 [==============================] - 0s 121us/step - loss: 36.3877\n",
      "Epoch 50/100\n",
      "404/404 [==============================] - 0s 118us/step - loss: 36.5318\n",
      "Epoch 51/100\n",
      "404/404 [==============================] - 0s 136us/step - loss: 37.1133\n",
      "Epoch 52/100\n",
      "404/404 [==============================] - 0s 212us/step - loss: 37.1200\n",
      "Epoch 53/100\n",
      "404/404 [==============================] - 0s 143us/step - loss: 39.7609\n",
      "Epoch 54/100\n",
      "404/404 [==============================] - 0s 126us/step - loss: 35.9580\n",
      "Epoch 55/100\n",
      "404/404 [==============================] - 0s 118us/step - loss: 36.8343\n",
      "Epoch 56/100\n",
      "404/404 [==============================] - 0s 118us/step - loss: 35.6867\n",
      "Epoch 57/100\n",
      "404/404 [==============================] - 0s 118us/step - loss: 34.7900\n",
      "Epoch 58/100\n",
      "404/404 [==============================] - 0s 126us/step - loss: 35.1668\n",
      "Epoch 59/100\n",
      "404/404 [==============================] - 0s 121us/step - loss: 36.2630\n",
      "Epoch 60/100\n",
      "404/404 [==============================] - 0s 111us/step - loss: 34.8778\n",
      "Epoch 61/100\n",
      "404/404 [==============================] - 0s 101us/step - loss: 34.4913\n",
      "Epoch 62/100\n",
      "404/404 [==============================] - 0s 96us/step - loss: 35.2824\n",
      "Epoch 63/100\n",
      "404/404 [==============================] - 0s 111us/step - loss: 35.0730\n",
      "Epoch 64/100\n",
      "404/404 [==============================] - 0s 101us/step - loss: 36.3044\n",
      "Epoch 65/100\n",
      "404/404 [==============================] - 0s 101us/step - loss: 36.4808\n",
      "Epoch 66/100\n",
      "404/404 [==============================] - 0s 99us/step - loss: 39.2697\n",
      "Epoch 67/100\n",
      "404/404 [==============================] - 0s 99us/step - loss: 33.9235\n",
      "Epoch 68/100\n",
      "404/404 [==============================] - 0s 94us/step - loss: 34.4274\n",
      "Epoch 69/100\n",
      "404/404 [==============================] - 0s 94us/step - loss: 32.8025\n",
      "Epoch 70/100\n",
      "404/404 [==============================] - 0s 111us/step - loss: 33.7505\n",
      "Epoch 71/100\n",
      "404/404 [==============================] - 0s 114us/step - loss: 32.9343\n",
      "Epoch 72/100\n",
      "404/404 [==============================] - 0s 96us/step - loss: 32.9336\n",
      "Epoch 73/100\n",
      "404/404 [==============================] - 0s 94us/step - loss: 32.4159\n",
      "Epoch 74/100\n",
      "404/404 [==============================] - 0s 94us/step - loss: 33.5184\n",
      "Epoch 75/100\n",
      "404/404 [==============================] - 0s 94us/step - loss: 33.9133\n",
      "Epoch 76/100\n",
      "404/404 [==============================] - 0s 94us/step - loss: 31.9945\n",
      "Epoch 77/100\n",
      "404/404 [==============================] - 0s 94us/step - loss: 36.2645\n",
      "Epoch 78/100\n",
      "404/404 [==============================] - 0s 94us/step - loss: 36.0639\n",
      "Epoch 79/100\n",
      "404/404 [==============================] - 0s 104us/step - loss: 31.9429\n",
      "Epoch 80/100\n",
      "404/404 [==============================] - 0s 104us/step - loss: 32.9501\n",
      "Epoch 81/100\n",
      "404/404 [==============================] - 0s 104us/step - loss: 31.8264\n",
      "Epoch 82/100\n",
      "404/404 [==============================] - 0s 104us/step - loss: 31.9631\n",
      "Epoch 83/100\n",
      "404/404 [==============================] - 0s 99us/step - loss: 32.1960\n",
      "Epoch 84/100\n",
      "404/404 [==============================] - 0s 104us/step - loss: 33.2698\n",
      "Epoch 85/100\n",
      "404/404 [==============================] - 0s 106us/step - loss: 30.9930\n",
      "Epoch 86/100\n",
      "404/404 [==============================] - 0s 104us/step - loss: 33.5003\n",
      "Epoch 87/100\n",
      "404/404 [==============================] - 0s 101us/step - loss: 34.6244\n",
      "Epoch 88/100\n",
      "404/404 [==============================] - 0s 104us/step - loss: 33.1255\n",
      "Epoch 89/100\n",
      "404/404 [==============================] - 0s 99us/step - loss: 31.1367\n",
      "Epoch 90/100\n",
      "404/404 [==============================] - 0s 104us/step - loss: 31.9784\n",
      "Epoch 91/100\n",
      "404/404 [==============================] - 0s 106us/step - loss: 32.1949\n",
      "Epoch 92/100\n",
      "404/404 [==============================] - 0s 101us/step - loss: 31.2338\n",
      "Epoch 93/100\n",
      "404/404 [==============================] - 0s 101us/step - loss: 33.3857\n",
      "Epoch 94/100\n",
      "404/404 [==============================] - 0s 99us/step - loss: 31.7407\n",
      "Epoch 95/100\n",
      "404/404 [==============================] - 0s 104us/step - loss: 32.0052\n",
      "Epoch 96/100\n"
     ]
    },
    {
     "name": "stdout",
     "output_type": "stream",
     "text": [
      "404/404 [==============================] - 0s 99us/step - loss: 30.2004\n",
      "Epoch 97/100\n",
      "404/404 [==============================] - 0s 106us/step - loss: 35.3115\n",
      "Epoch 98/100\n",
      "404/404 [==============================] - 0s 99us/step - loss: 32.6658\n",
      "Epoch 99/100\n",
      "404/404 [==============================] - 0s 104us/step - loss: 30.9013\n",
      "Epoch 100/100\n",
      "404/404 [==============================] - 0s 99us/step - loss: 34.9918\n"
     ]
    },
    {
     "data": {
      "text/plain": [
       "<keras.callbacks.callbacks.History at 0x23b5c568cc8>"
      ]
     },
     "execution_count": 60,
     "metadata": {},
     "output_type": "execute_result"
    }
   ],
   "source": [
    "m.fit(x_train, y_train, epochs=100, batch_size=10)"
   ]
  },
  {
   "cell_type": "code",
   "execution_count": 61,
   "metadata": {},
   "outputs": [
    {
     "data": {
      "text/plain": [
       "array([[11., 16., 37., 22., 27., 24., 19., 25., 26., 30., 16., 16., 29.,\n",
       "        22., 29., 37., 23., 22., 27., 22., 26., 18., 17., 23., 20., 25.,\n",
       "        17.,  5., 28., 28., 23., 15., 25., 17., 22., 36., 16., 23., 22.,\n",
       "        24.,  7., 33., 42., 27., 27., 28., 23.,  8., 24., 24., 30., 26.,\n",
       "        25., 36., 30., 21., 17., 20.,  9., 19., 23., 28.,  7., 36., 26.,\n",
       "        19., 24., 21., 25., 21., 13., 34., 31., 25., 30., 30., 30., 21.,\n",
       "        34., 27., 35., 23., 21., 30., 26., 36., 26., 38., 29., 27., 29.,\n",
       "        23., 27., 16., 20., 27., 24., 23., 38., 37., 23., 22.]],\n",
       "      dtype=float32)"
      ]
     },
     "execution_count": 61,
     "metadata": {},
     "output_type": "execute_result"
    }
   ],
   "source": [
    "m.predict(x_test).round().T"
   ]
  },
  {
   "cell_type": "code",
   "execution_count": 62,
   "metadata": {},
   "outputs": [
    {
     "name": "stderr",
     "output_type": "stream",
     "text": [
      "C:\\Users\\james\\Anaconda3\\lib\\site-packages\\ipykernel_launcher.py:1: FutureWarning: Method .as_matrix will be removed in a future version. Use .values instead.\n",
      "  \"\"\"Entry point for launching an IPython kernel.\n"
     ]
    },
    {
     "data": {
      "text/plain": [
       "array([11. , 12.7, 50. , 20. , 25.3, 20.9,  7.2, 27.1, 22. , 28.7, 11.3,\n",
       "       19. , 29. , 14.9, 22.2, 50. , 18.3, 19.6, 23.1, 19.4, 23.1, 19.1,\n",
       "       19.7, 18.7, 17.4, 20.1, 13.3, 13.8, 25. , 26.6, 24.3, 19.3, 25. ,\n",
       "       17.4, 14.9, 39.8, 13.9, 17.8, 20. , 18.5, 13.5, 33.3, 30.1, 20.2,\n",
       "       22.7, 22.9, 13.8,  8.5, 16.2, 24.8, 25.2, 24.7, 23.9, 34.9, 36.2,\n",
       "       15.4, 14.3, 16.6, 10.2, 20.1, 17.8, 27.5,  7.4, 28.2, 22.5, 20.6,\n",
       "       21.9, 16.2, 20.1, 21.7, 11.8, 36.1, 46.7, 18.2, 24.6, 23.9, 36.4,\n",
       "       14.1, 33.2, 19.2, 43.1, 22.3, 19.3, 23.9, 19.6, 37.3, 24.2, 50. ,\n",
       "       32.2, 23.1, 29.8, 19.5, 23.8, 10.8, 13.8, 24.8, 21.2, 20.8, 35.4,\n",
       "       45.4, 23.1, 23.2], dtype=float32)"
      ]
     },
     "execution_count": 62,
     "metadata": {},
     "output_type": "execute_result"
    }
   ],
   "source": [
    "y_test.as_matrix().astype(np.float32)"
   ]
  },
  {
   "cell_type": "code",
   "execution_count": 63,
   "metadata": {},
   "outputs": [
    {
     "name": "stdout",
     "output_type": "stream",
     "text": [
      "102/102 [==============================] - 0s 362us/step\n"
     ]
    },
    {
     "data": {
      "text/plain": [
       "26.483442456114528"
      ]
     },
     "execution_count": 63,
     "metadata": {},
     "output_type": "execute_result"
    }
   ],
   "source": [
    "m.evaluate(x_test, y_test)"
   ]
  },
  {
   "cell_type": "code",
   "execution_count": 64,
   "metadata": {},
   "outputs": [],
   "source": [
    "scaler = pre.StandardScaler()\n",
    "scaler.fit(x_train)\n",
    "x_train_scaled = scaler.transform(x_train)"
   ]
  },
  {
   "cell_type": "code",
   "execution_count": 65,
   "metadata": {},
   "outputs": [],
   "source": [
    "m = kr.models.Sequential()\n",
    "\n",
    "m.add(kr.layers.Dense(20, input_dim=4, activation=\"relu\"))\n",
    "m.add(kr.layers.Dense(1, activation=\"linear\"))\n",
    "\n",
    "m.compile(loss=\"mean_squared_error\", optimizer=\"adam\")"
   ]
  },
  {
   "cell_type": "markdown",
   "metadata": {},
   "source": [
    "### Scaling"
   ]
  },
  {
   "cell_type": "code",
   "execution_count": 66,
   "metadata": {},
   "outputs": [],
   "source": [
    "scaler = pre.StandardScaler()\n",
    "scaler.fit(x_train)\n",
    "x_train_scaled = scaler.transform(x_train)"
   ]
  },
  {
   "cell_type": "code",
   "execution_count": 67,
   "metadata": {},
   "outputs": [],
   "source": [
    "m = kr.models.Sequential()\n",
    "\n",
    "m.add(kr.layers.Dense(20, input_dim=13, activation=\"relu\"))\n",
    "m.add(kr.layers.Dense(1, activation=\"linear\"))\n",
    "\n",
    "m.compile(loss=\"mean_squared_error\", optimizer=\"adam\")"
   ]
  },
  {
   "cell_type": "code",
   "execution_count": 68,
   "metadata": {},
   "outputs": [
    {
     "name": "stdout",
     "output_type": "stream",
     "text": [
      "Epoch 1/100\n",
      "404/404 [==============================] - 0s 719us/step - loss: 611.9794\n",
      "Epoch 2/100\n",
      "404/404 [==============================] - 0s 109us/step - loss: 581.8062\n",
      "Epoch 3/100\n",
      "404/404 [==============================] - 0s 118us/step - loss: 551.6867\n",
      "Epoch 4/100\n",
      "404/404 [==============================] - 0s 118us/step - loss: 518.0940\n",
      "Epoch 5/100\n",
      "404/404 [==============================] - 0s 122us/step - loss: 479.4542\n",
      "Epoch 6/100\n",
      "404/404 [==============================] - 0s 116us/step - loss: 435.9611\n",
      "Epoch 7/100\n",
      "404/404 [==============================] - 0s 114us/step - loss: 388.5177\n",
      "Epoch 8/100\n",
      "404/404 [==============================] - 0s 111us/step - loss: 338.8173\n",
      "Epoch 9/100\n",
      "404/404 [==============================] - 0s 104us/step - loss: 289.5715\n",
      "Epoch 10/100\n",
      "404/404 [==============================] - 0s 114us/step - loss: 243.2209\n",
      "Epoch 11/100\n",
      "404/404 [==============================] - 0s 128us/step - loss: 202.5352\n",
      "Epoch 12/100\n",
      "404/404 [==============================] - 0s 114us/step - loss: 167.4712\n",
      "Epoch 13/100\n",
      "404/404 [==============================] - 0s 104us/step - loss: 138.8828\n",
      "Epoch 14/100\n",
      "404/404 [==============================] - 0s 111us/step - loss: 115.9289\n",
      "Epoch 15/100\n",
      "404/404 [==============================] - 0s 118us/step - loss: 97.8245\n",
      "Epoch 16/100\n",
      "404/404 [==============================] - 0s 116us/step - loss: 83.5266\n",
      "Epoch 17/100\n",
      "404/404 [==============================] - 0s 119us/step - loss: 71.9941\n",
      "Epoch 18/100\n",
      "404/404 [==============================] - 0s 116us/step - loss: 63.0099\n",
      "Epoch 19/100\n",
      "404/404 [==============================] - 0s 109us/step - loss: 55.9568\n",
      "Epoch 20/100\n",
      "404/404 [==============================] - 0s 116us/step - loss: 49.9955\n",
      "Epoch 21/100\n",
      "404/404 [==============================] - 0s 99us/step - loss: 45.5314\n",
      "Epoch 22/100\n",
      "404/404 [==============================] - 0s 116us/step - loss: 42.0948\n",
      "Epoch 23/100\n",
      "404/404 [==============================] - 0s 118us/step - loss: 39.2949\n",
      "Epoch 24/100\n",
      "404/404 [==============================] - 0s 109us/step - loss: 37.0302\n",
      "Epoch 25/100\n",
      "404/404 [==============================] - 0s 109us/step - loss: 35.1899\n",
      "Epoch 26/100\n",
      "404/404 [==============================] - 0s 126us/step - loss: 33.7897\n",
      "Epoch 27/100\n",
      "404/404 [==============================] - 0s 116us/step - loss: 32.6468\n",
      "Epoch 28/100\n",
      "404/404 [==============================] - 0s 121us/step - loss: 31.6156\n",
      "Epoch 29/100\n",
      "404/404 [==============================] - 0s 114us/step - loss: 30.8156\n",
      "Epoch 30/100\n",
      "404/404 [==============================] - 0s 121us/step - loss: 30.0934\n",
      "Epoch 31/100\n",
      "404/404 [==============================] - 0s 116us/step - loss: 29.4639\n",
      "Epoch 32/100\n",
      "404/404 [==============================] - 0s 118us/step - loss: 28.9918\n",
      "Epoch 33/100\n",
      "404/404 [==============================] - 0s 109us/step - loss: 28.4152\n",
      "Epoch 34/100\n",
      "404/404 [==============================] - 0s 106us/step - loss: 27.9442\n",
      "Epoch 35/100\n",
      "404/404 [==============================] - 0s 114us/step - loss: 27.5558\n",
      "Epoch 36/100\n",
      "404/404 [==============================] - 0s 116us/step - loss: 27.1753\n",
      "Epoch 37/100\n",
      "404/404 [==============================] - 0s 116us/step - loss: 26.7859\n",
      "Epoch 38/100\n",
      "404/404 [==============================] - 0s 106us/step - loss: 26.3876\n",
      "Epoch 39/100\n",
      "404/404 [==============================] - 0s 111us/step - loss: 26.0716\n",
      "Epoch 40/100\n",
      "404/404 [==============================] - 0s 101us/step - loss: 25.6365\n",
      "Epoch 41/100\n",
      "404/404 [==============================] - 0s 116us/step - loss: 25.2463\n",
      "Epoch 42/100\n",
      "404/404 [==============================] - 0s 109us/step - loss: 24.8557\n",
      "Epoch 43/100\n",
      "404/404 [==============================] - 0s 116us/step - loss: 24.5446\n",
      "Epoch 44/100\n",
      "404/404 [==============================] - 0s 114us/step - loss: 24.1804\n",
      "Epoch 45/100\n",
      "404/404 [==============================] - 0s 118us/step - loss: 23.8336\n",
      "Epoch 46/100\n",
      "404/404 [==============================] - 0s 114us/step - loss: 23.4719\n",
      "Epoch 47/100\n",
      "404/404 [==============================] - 0s 116us/step - loss: 23.1025\n",
      "Epoch 48/100\n",
      "404/404 [==============================] - 0s 121us/step - loss: 22.7406\n",
      "Epoch 49/100\n",
      "404/404 [==============================] - 0s 118us/step - loss: 22.3938\n",
      "Epoch 50/100\n",
      "404/404 [==============================] - 0s 121us/step - loss: 22.0675\n",
      "Epoch 51/100\n",
      "404/404 [==============================] - 0s 111us/step - loss: 21.7007\n",
      "Epoch 52/100\n",
      "404/404 [==============================] - 0s 111us/step - loss: 21.3608\n",
      "Epoch 53/100\n",
      "404/404 [==============================] - 0s 114us/step - loss: 20.9841\n",
      "Epoch 54/100\n",
      "404/404 [==============================] - 0s 104us/step - loss: 20.6679\n",
      "Epoch 55/100\n",
      "404/404 [==============================] - 0s 96us/step - loss: 20.2880\n",
      "Epoch 56/100\n",
      "404/404 [==============================] - 0s 101us/step - loss: 20.0388\n",
      "Epoch 57/100\n",
      "404/404 [==============================] - 0s 101us/step - loss: 19.7245\n",
      "Epoch 58/100\n",
      "404/404 [==============================] - 0s 116us/step - loss: 19.3551\n",
      "Epoch 59/100\n",
      "404/404 [==============================] - 0s 109us/step - loss: 19.0446\n",
      "Epoch 60/100\n",
      "404/404 [==============================] - 0s 114us/step - loss: 18.7728\n",
      "Epoch 61/100\n",
      "404/404 [==============================] - 0s 104us/step - loss: 18.4883\n",
      "Epoch 62/100\n",
      "404/404 [==============================] - 0s 126us/step - loss: 18.2179\n",
      "Epoch 63/100\n",
      "404/404 [==============================] - 0s 106us/step - loss: 17.8457\n",
      "Epoch 64/100\n",
      "404/404 [==============================] - 0s 114us/step - loss: 17.5775\n",
      "Epoch 65/100\n",
      "404/404 [==============================] - 0s 109us/step - loss: 17.2929\n",
      "Epoch 66/100\n",
      "404/404 [==============================] - 0s 109us/step - loss: 17.0779\n",
      "Epoch 67/100\n",
      "404/404 [==============================] - 0s 111us/step - loss: 16.8441\n",
      "Epoch 68/100\n",
      "404/404 [==============================] - 0s 116us/step - loss: 16.5532\n",
      "Epoch 69/100\n",
      "404/404 [==============================] - 0s 123us/step - loss: 16.2920\n",
      "Epoch 70/100\n",
      "404/404 [==============================] - 0s 121us/step - loss: 16.0426\n",
      "Epoch 71/100\n",
      "404/404 [==============================] - 0s 114us/step - loss: 15.8262\n",
      "Epoch 72/100\n",
      "404/404 [==============================] - 0s 109us/step - loss: 15.5854\n",
      "Epoch 73/100\n",
      "404/404 [==============================] - 0s 109us/step - loss: 15.3972\n",
      "Epoch 74/100\n",
      "404/404 [==============================] - 0s 111us/step - loss: 15.2272\n",
      "Epoch 75/100\n",
      "404/404 [==============================] - 0s 114us/step - loss: 15.0964\n",
      "Epoch 76/100\n",
      "404/404 [==============================] - 0s 109us/step - loss: 14.7001\n",
      "Epoch 77/100\n",
      "404/404 [==============================] - 0s 114us/step - loss: 14.6124\n",
      "Epoch 78/100\n",
      "404/404 [==============================] - 0s 111us/step - loss: 14.3778\n",
      "Epoch 79/100\n",
      "404/404 [==============================] - 0s 111us/step - loss: 14.2329\n",
      "Epoch 80/100\n",
      "404/404 [==============================] - 0s 106us/step - loss: 14.1173\n",
      "Epoch 81/100\n",
      "404/404 [==============================] - 0s 111us/step - loss: 13.9454\n",
      "Epoch 82/100\n",
      "404/404 [==============================] - 0s 109us/step - loss: 13.7703\n",
      "Epoch 83/100\n",
      "404/404 [==============================] - 0s 111us/step - loss: 13.6441\n",
      "Epoch 84/100\n",
      "404/404 [==============================] - 0s 111us/step - loss: 13.4699\n",
      "Epoch 85/100\n",
      "404/404 [==============================] - 0s 116us/step - loss: 13.3945\n",
      "Epoch 86/100\n",
      "404/404 [==============================] - 0s 101us/step - loss: 13.2447\n",
      "Epoch 87/100\n",
      "404/404 [==============================] - 0s 104us/step - loss: 13.1001\n",
      "Epoch 88/100\n",
      "404/404 [==============================] - 0s 109us/step - loss: 12.9953\n",
      "Epoch 89/100\n",
      "404/404 [==============================] - 0s 104us/step - loss: 12.8679\n",
      "Epoch 90/100\n",
      "404/404 [==============================] - 0s 101us/step - loss: 12.7801\n",
      "Epoch 91/100\n",
      "404/404 [==============================] - 0s 114us/step - loss: 12.7118\n",
      "Epoch 92/100\n",
      "404/404 [==============================] - 0s 109us/step - loss: 12.5888\n",
      "Epoch 93/100\n",
      "404/404 [==============================] - 0s 106us/step - loss: 12.4996\n",
      "Epoch 94/100\n",
      "404/404 [==============================] - 0s 101us/step - loss: 12.3983\n",
      "Epoch 95/100\n",
      "404/404 [==============================] - 0s 109us/step - loss: 12.2990\n",
      "Epoch 96/100\n"
     ]
    },
    {
     "name": "stdout",
     "output_type": "stream",
     "text": [
      "404/404 [==============================] - 0s 114us/step - loss: 12.2588\n",
      "Epoch 97/100\n",
      "404/404 [==============================] - 0s 121us/step - loss: 12.1069\n",
      "Epoch 98/100\n",
      "404/404 [==============================] - 0s 99us/step - loss: 12.0576\n",
      "Epoch 99/100\n",
      "404/404 [==============================] - 0s 99us/step - loss: 12.0062\n",
      "Epoch 100/100\n",
      "404/404 [==============================] - 0s 96us/step - loss: 11.8942\n"
     ]
    },
    {
     "data": {
      "text/plain": [
       "<keras.callbacks.callbacks.History at 0x23b5282be88>"
      ]
     },
     "execution_count": 68,
     "metadata": {},
     "output_type": "execute_result"
    }
   ],
   "source": [
    "m.fit(x_train_scaled, y_train, epochs=100, batch_size=10)"
   ]
  },
  {
   "cell_type": "code",
   "execution_count": 69,
   "metadata": {},
   "outputs": [
    {
     "data": {
      "text/plain": [
       "array([[12., 13., 46., 21., 27., 23., 14., 26., 25., 34., 13., 15., 29.,\n",
       "        16., 19., 41., 15., 18., 22., 22., 20., 15., 13., 18., 19., 21.,\n",
       "        13., 11., 28., 32., 19., 18., 24., 19., 15., 40., 12., 20., 18.,\n",
       "        21., 13., 40., 28., 23., 25., 23., 20.,  6., 18., 25., 26., 27.,\n",
       "        26., 34., 30., 15., 16., 21., 11., 18., 18., 23.,  9., 27., 27.,\n",
       "        18., 21., 16., 19., 21., 14., 31., 42., 18., 28., 22., 34., 15.,\n",
       "        31., 21., 38., 25., 21., 29., 19., 32., 27., 52., 34., 23., 30.,\n",
       "        19., 24., 10., 17., 25., 18., 20., 33., 42., 23., 21.]],\n",
       "      dtype=float32)"
      ]
     },
     "execution_count": 69,
     "metadata": {},
     "output_type": "execute_result"
    }
   ],
   "source": [
    "x_test_scaled = scaler.transform(x_test)\n",
    "m.predict(x_test_scaled).round().T"
   ]
  },
  {
   "cell_type": "code",
   "execution_count": 70,
   "metadata": {},
   "outputs": [
    {
     "name": "stderr",
     "output_type": "stream",
     "text": [
      "C:\\Users\\james\\Anaconda3\\lib\\site-packages\\ipykernel_launcher.py:1: FutureWarning: Method .as_matrix will be removed in a future version. Use .values instead.\n",
      "  \"\"\"Entry point for launching an IPython kernel.\n"
     ]
    },
    {
     "data": {
      "text/plain": [
       "array([11. , 12.7, 50. , 20. , 25.3, 20.9,  7.2, 27.1, 22. , 28.7, 11.3,\n",
       "       19. , 29. , 14.9, 22.2, 50. , 18.3, 19.6, 23.1, 19.4, 23.1, 19.1,\n",
       "       19.7, 18.7, 17.4, 20.1, 13.3, 13.8, 25. , 26.6, 24.3, 19.3, 25. ,\n",
       "       17.4, 14.9, 39.8, 13.9, 17.8, 20. , 18.5, 13.5, 33.3, 30.1, 20.2,\n",
       "       22.7, 22.9, 13.8,  8.5, 16.2, 24.8, 25.2, 24.7, 23.9, 34.9, 36.2,\n",
       "       15.4, 14.3, 16.6, 10.2, 20.1, 17.8, 27.5,  7.4, 28.2, 22.5, 20.6,\n",
       "       21.9, 16.2, 20.1, 21.7, 11.8, 36.1, 46.7, 18.2, 24.6, 23.9, 36.4,\n",
       "       14.1, 33.2, 19.2, 43.1, 22.3, 19.3, 23.9, 19.6, 37.3, 24.2, 50. ,\n",
       "       32.2, 23.1, 29.8, 19.5, 23.8, 10.8, 13.8, 24.8, 21.2, 20.8, 35.4,\n",
       "       45.4, 23.1, 23.2], dtype=float32)"
      ]
     },
     "execution_count": 70,
     "metadata": {},
     "output_type": "execute_result"
    }
   ],
   "source": [
    "y_test.as_matrix().astype(np.float32)"
   ]
  },
  {
   "cell_type": "code",
   "execution_count": 71,
   "metadata": {},
   "outputs": [
    {
     "name": "stdout",
     "output_type": "stream",
     "text": [
      "102/102 [==============================] - 0s 332us/step\n"
     ]
    },
    {
     "data": {
      "text/plain": [
       "8.594226173326081"
      ]
     },
     "execution_count": 71,
     "metadata": {},
     "output_type": "execute_result"
    }
   ],
   "source": [
    "m.evaluate(x_test_scaled, y_test)"
   ]
  },
  {
   "cell_type": "markdown",
   "metadata": {},
   "source": [
    "### Whitening"
   ]
  },
  {
   "cell_type": "code",
   "execution_count": 72,
   "metadata": {},
   "outputs": [
    {
     "data": {
      "text/html": [
       "<div>\n",
       "<style scoped>\n",
       "    .dataframe tbody tr th:only-of-type {\n",
       "        vertical-align: middle;\n",
       "    }\n",
       "\n",
       "    .dataframe tbody tr th {\n",
       "        vertical-align: top;\n",
       "    }\n",
       "\n",
       "    .dataframe thead th {\n",
       "        text-align: right;\n",
       "    }\n",
       "</style>\n",
       "<table border=\"1\" class=\"dataframe\">\n",
       "  <thead>\n",
       "    <tr style=\"text-align: right;\">\n",
       "      <th></th>\n",
       "      <th>CHAS</th>\n",
       "      <th>CRIM</th>\n",
       "      <th>ZN</th>\n",
       "      <th>INDUS</th>\n",
       "      <th>NOX</th>\n",
       "      <th>RM</th>\n",
       "      <th>AGE</th>\n",
       "      <th>DIS</th>\n",
       "      <th>RAD</th>\n",
       "      <th>TAX</th>\n",
       "      <th>PTRATIO</th>\n",
       "      <th>B</th>\n",
       "      <th>LSTAT</th>\n",
       "    </tr>\n",
       "  </thead>\n",
       "  <tbody>\n",
       "    <tr>\n",
       "      <th>0</th>\n",
       "      <td>2.085972</td>\n",
       "      <td>3.006464</td>\n",
       "      <td>-0.048348</td>\n",
       "      <td>0.322946</td>\n",
       "      <td>-0.115492</td>\n",
       "      <td>0.552059</td>\n",
       "      <td>-0.862505</td>\n",
       "      <td>-0.147396</td>\n",
       "      <td>0.081650</td>\n",
       "      <td>0.020228</td>\n",
       "      <td>-0.683733</td>\n",
       "      <td>-0.058663</td>\n",
       "      <td>0.735124</td>\n",
       "    </tr>\n",
       "    <tr>\n",
       "      <th>1</th>\n",
       "      <td>-0.466336</td>\n",
       "      <td>-0.120505</td>\n",
       "      <td>1.394509</td>\n",
       "      <td>0.151134</td>\n",
       "      <td>-0.178668</td>\n",
       "      <td>-0.310603</td>\n",
       "      <td>-0.366366</td>\n",
       "      <td>1.896891</td>\n",
       "      <td>1.546921</td>\n",
       "      <td>1.402565</td>\n",
       "      <td>-1.058092</td>\n",
       "      <td>0.307289</td>\n",
       "      <td>1.375185</td>\n",
       "    </tr>\n",
       "    <tr>\n",
       "      <th>2</th>\n",
       "      <td>-0.097330</td>\n",
       "      <td>-0.337366</td>\n",
       "      <td>0.142752</td>\n",
       "      <td>-1.124264</td>\n",
       "      <td>-0.383600</td>\n",
       "      <td>0.524286</td>\n",
       "      <td>0.567011</td>\n",
       "      <td>0.850137</td>\n",
       "      <td>0.051843</td>\n",
       "      <td>0.922470</td>\n",
       "      <td>-0.533078</td>\n",
       "      <td>-0.163190</td>\n",
       "      <td>-1.432796</td>\n",
       "    </tr>\n",
       "    <tr>\n",
       "      <th>3</th>\n",
       "      <td>-0.796617</td>\n",
       "      <td>0.091964</td>\n",
       "      <td>-0.767531</td>\n",
       "      <td>-0.172702</td>\n",
       "      <td>-0.001070</td>\n",
       "      <td>-0.933717</td>\n",
       "      <td>-0.779358</td>\n",
       "      <td>1.109964</td>\n",
       "      <td>-0.103237</td>\n",
       "      <td>-0.971914</td>\n",
       "      <td>0.469022</td>\n",
       "      <td>-0.227585</td>\n",
       "      <td>-0.409816</td>\n",
       "    </tr>\n",
       "    <tr>\n",
       "      <th>4</th>\n",
       "      <td>-0.308227</td>\n",
       "      <td>0.104679</td>\n",
       "      <td>0.083714</td>\n",
       "      <td>-1.112276</td>\n",
       "      <td>-0.192942</td>\n",
       "      <td>0.180981</td>\n",
       "      <td>-0.998549</td>\n",
       "      <td>1.968367</td>\n",
       "      <td>0.401207</td>\n",
       "      <td>2.672974</td>\n",
       "      <td>0.055062</td>\n",
       "      <td>0.249777</td>\n",
       "      <td>0.133668</td>\n",
       "    </tr>\n",
       "    <tr>\n",
       "      <th>...</th>\n",
       "      <td>...</td>\n",
       "      <td>...</td>\n",
       "      <td>...</td>\n",
       "      <td>...</td>\n",
       "      <td>...</td>\n",
       "      <td>...</td>\n",
       "      <td>...</td>\n",
       "      <td>...</td>\n",
       "      <td>...</td>\n",
       "      <td>...</td>\n",
       "      <td>...</td>\n",
       "      <td>...</td>\n",
       "      <td>...</td>\n",
       "    </tr>\n",
       "    <tr>\n",
       "      <th>399</th>\n",
       "      <td>1.396544</td>\n",
       "      <td>-1.283442</td>\n",
       "      <td>0.063374</td>\n",
       "      <td>-0.168241</td>\n",
       "      <td>-0.940575</td>\n",
       "      <td>-1.629119</td>\n",
       "      <td>0.240499</td>\n",
       "      <td>-1.067677</td>\n",
       "      <td>0.429543</td>\n",
       "      <td>0.456002</td>\n",
       "      <td>0.581372</td>\n",
       "      <td>-0.454118</td>\n",
       "      <td>2.172972</td>\n",
       "    </tr>\n",
       "    <tr>\n",
       "      <th>400</th>\n",
       "      <td>-1.020489</td>\n",
       "      <td>0.206270</td>\n",
       "      <td>0.178081</td>\n",
       "      <td>-1.687317</td>\n",
       "      <td>0.457146</td>\n",
       "      <td>0.479161</td>\n",
       "      <td>-0.068613</td>\n",
       "      <td>-0.298122</td>\n",
       "      <td>-0.285879</td>\n",
       "      <td>0.235222</td>\n",
       "      <td>0.925925</td>\n",
       "      <td>-0.201853</td>\n",
       "      <td>-0.340634</td>\n",
       "    </tr>\n",
       "    <tr>\n",
       "      <th>401</th>\n",
       "      <td>0.082486</td>\n",
       "      <td>-0.535311</td>\n",
       "      <td>-0.061978</td>\n",
       "      <td>-0.712379</td>\n",
       "      <td>-0.498147</td>\n",
       "      <td>0.247777</td>\n",
       "      <td>-0.219055</td>\n",
       "      <td>1.453863</td>\n",
       "      <td>-0.734829</td>\n",
       "      <td>-0.876559</td>\n",
       "      <td>0.769857</td>\n",
       "      <td>-0.127656</td>\n",
       "      <td>-0.421150</td>\n",
       "    </tr>\n",
       "    <tr>\n",
       "      <th>402</th>\n",
       "      <td>-0.420756</td>\n",
       "      <td>0.999974</td>\n",
       "      <td>-0.942443</td>\n",
       "      <td>0.239398</td>\n",
       "      <td>-0.147168</td>\n",
       "      <td>0.309402</td>\n",
       "      <td>-0.848396</td>\n",
       "      <td>0.661084</td>\n",
       "      <td>1.616407</td>\n",
       "      <td>0.256490</td>\n",
       "      <td>0.756103</td>\n",
       "      <td>0.096700</td>\n",
       "      <td>0.418606</td>\n",
       "    </tr>\n",
       "    <tr>\n",
       "      <th>403</th>\n",
       "      <td>-0.622406</td>\n",
       "      <td>-0.074839</td>\n",
       "      <td>-0.291275</td>\n",
       "      <td>-0.800135</td>\n",
       "      <td>0.096148</td>\n",
       "      <td>0.439781</td>\n",
       "      <td>0.045623</td>\n",
       "      <td>0.154597</td>\n",
       "      <td>-0.042849</td>\n",
       "      <td>-0.034947</td>\n",
       "      <td>-0.030841</td>\n",
       "      <td>-0.259297</td>\n",
       "      <td>0.478548</td>\n",
       "    </tr>\n",
       "  </tbody>\n",
       "</table>\n",
       "<p>404 rows × 13 columns</p>\n",
       "</div>"
      ],
      "text/plain": [
       "         CHAS      CRIM        ZN     INDUS       NOX        RM       AGE  \\\n",
       "0    2.085972  3.006464 -0.048348  0.322946 -0.115492  0.552059 -0.862505   \n",
       "1   -0.466336 -0.120505  1.394509  0.151134 -0.178668 -0.310603 -0.366366   \n",
       "2   -0.097330 -0.337366  0.142752 -1.124264 -0.383600  0.524286  0.567011   \n",
       "3   -0.796617  0.091964 -0.767531 -0.172702 -0.001070 -0.933717 -0.779358   \n",
       "4   -0.308227  0.104679  0.083714 -1.112276 -0.192942  0.180981 -0.998549   \n",
       "..        ...       ...       ...       ...       ...       ...       ...   \n",
       "399  1.396544 -1.283442  0.063374 -0.168241 -0.940575 -1.629119  0.240499   \n",
       "400 -1.020489  0.206270  0.178081 -1.687317  0.457146  0.479161 -0.068613   \n",
       "401  0.082486 -0.535311 -0.061978 -0.712379 -0.498147  0.247777 -0.219055   \n",
       "402 -0.420756  0.999974 -0.942443  0.239398 -0.147168  0.309402 -0.848396   \n",
       "403 -0.622406 -0.074839 -0.291275 -0.800135  0.096148  0.439781  0.045623   \n",
       "\n",
       "          DIS       RAD       TAX   PTRATIO         B     LSTAT  \n",
       "0   -0.147396  0.081650  0.020228 -0.683733 -0.058663  0.735124  \n",
       "1    1.896891  1.546921  1.402565 -1.058092  0.307289  1.375185  \n",
       "2    0.850137  0.051843  0.922470 -0.533078 -0.163190 -1.432796  \n",
       "3    1.109964 -0.103237 -0.971914  0.469022 -0.227585 -0.409816  \n",
       "4    1.968367  0.401207  2.672974  0.055062  0.249777  0.133668  \n",
       "..        ...       ...       ...       ...       ...       ...  \n",
       "399 -1.067677  0.429543  0.456002  0.581372 -0.454118  2.172972  \n",
       "400 -0.298122 -0.285879  0.235222  0.925925 -0.201853 -0.340634  \n",
       "401  1.453863 -0.734829 -0.876559  0.769857 -0.127656 -0.421150  \n",
       "402  0.661084  1.616407  0.256490  0.756103  0.096700  0.418606  \n",
       "403  0.154597 -0.042849 -0.034947 -0.030841 -0.259297  0.478548  \n",
       "\n",
       "[404 rows x 13 columns]"
      ]
     },
     "execution_count": 72,
     "metadata": {},
     "output_type": "execute_result"
    }
   ],
   "source": [
    "pca = dec.PCA(n_components=13, whiten=True)\n",
    "pca.fit(x_train)\n",
    "x_train_white = pd.DataFrame(pca.transform(x_train), columns=x.columns)\n",
    "x_train_white"
   ]
  },
  {
   "cell_type": "code",
   "execution_count": 73,
   "metadata": {},
   "outputs": [],
   "source": [
    "m = kr.models.Sequential()\n",
    "\n",
    "m.add(kr.layers.Dense(100, input_dim=13, activation=\"tanh\"))\n",
    "m.add(kr.layers.Dense(1, activation=\"linear\"))\n",
    "\n",
    "m.compile(loss=\"mean_squared_error\", optimizer=\"adam\")"
   ]
  },
  {
   "cell_type": "code",
   "execution_count": 74,
   "metadata": {},
   "outputs": [
    {
     "name": "stdout",
     "output_type": "stream",
     "text": [
      "Epoch 1/100\n",
      "404/404 [==============================] - 0s 647us/step - loss: 575.3816\n",
      "Epoch 2/100\n",
      "404/404 [==============================] - 0s 99us/step - loss: 542.0796\n",
      "Epoch 3/100\n",
      "404/404 [==============================] - 0s 118us/step - loss: 501.5327\n",
      "Epoch 4/100\n",
      "404/404 [==============================] - 0s 110us/step - loss: 448.9252\n",
      "Epoch 5/100\n",
      "404/404 [==============================] - 0s 111us/step - loss: 384.3689\n",
      "Epoch 6/100\n",
      "404/404 [==============================] - 0s 109us/step - loss: 313.2262\n",
      "Epoch 7/100\n",
      "404/404 [==============================] - 0s 109us/step - loss: 241.0355\n",
      "Epoch 8/100\n",
      "404/404 [==============================] - 0s 109us/step - loss: 176.2762\n",
      "Epoch 9/100\n",
      "404/404 [==============================] - 0s 101us/step - loss: 123.0444\n",
      "Epoch 10/100\n",
      "404/404 [==============================] - 0s 104us/step - loss: 83.8577\n",
      "Epoch 11/100\n",
      "404/404 [==============================] - 0s 109us/step - loss: 58.0758\n",
      "Epoch 12/100\n",
      "404/404 [==============================] - 0s 114us/step - loss: 42.9315\n",
      "Epoch 13/100\n",
      "404/404 [==============================] - 0s 114us/step - loss: 34.7418\n",
      "Epoch 14/100\n",
      "404/404 [==============================] - 0s 111us/step - loss: 30.7158\n",
      "Epoch 15/100\n",
      "404/404 [==============================] - 0s 114us/step - loss: 28.6564\n",
      "Epoch 16/100\n",
      "404/404 [==============================] - 0s 104us/step - loss: 27.8157\n",
      "Epoch 17/100\n",
      "404/404 [==============================] - 0s 109us/step - loss: 27.2960\n",
      "Epoch 18/100\n",
      "404/404 [==============================] - 0s 111us/step - loss: 26.9294\n",
      "Epoch 19/100\n",
      "404/404 [==============================] - 0s 106us/step - loss: 26.9051\n",
      "Epoch 20/100\n",
      "404/404 [==============================] - 0s 118us/step - loss: 26.5290\n",
      "Epoch 21/100\n",
      "404/404 [==============================] - 0s 118us/step - loss: 26.3570\n",
      "Epoch 22/100\n",
      "404/404 [==============================] - 0s 123us/step - loss: 26.1733\n",
      "Epoch 23/100\n",
      "404/404 [==============================] - 0s 123us/step - loss: 25.9912\n",
      "Epoch 24/100\n",
      "404/404 [==============================] - 0s 106us/step - loss: 25.8320\n",
      "Epoch 25/100\n",
      "404/404 [==============================] - 0s 116us/step - loss: 25.7855\n",
      "Epoch 26/100\n",
      "404/404 [==============================] - 0s 114us/step - loss: 25.5199\n",
      "Epoch 27/100\n",
      "404/404 [==============================] - 0s 96us/step - loss: 25.1921\n",
      "Epoch 28/100\n",
      "404/404 [==============================] - 0s 106us/step - loss: 25.1018\n",
      "Epoch 29/100\n",
      "404/404 [==============================] - 0s 109us/step - loss: 24.9533\n",
      "Epoch 30/100\n",
      "404/404 [==============================] - 0s 101us/step - loss: 24.8086\n",
      "Epoch 31/100\n",
      "404/404 [==============================] - 0s 104us/step - loss: 24.6171\n",
      "Epoch 32/100\n",
      "404/404 [==============================] - 0s 109us/step - loss: 24.3918\n",
      "Epoch 33/100\n",
      "404/404 [==============================] - ETA: 0s - loss: 23.22 - 0s 111us/step - loss: 24.2434\n",
      "Epoch 34/100\n",
      "404/404 [==============================] - 0s 109us/step - loss: 24.1204\n",
      "Epoch 35/100\n",
      "404/404 [==============================] - 0s 114us/step - loss: 24.0469\n",
      "Epoch 36/100\n",
      "404/404 [==============================] - 0s 99us/step - loss: 23.8197\n",
      "Epoch 37/100\n",
      "404/404 [==============================] - 0s 111us/step - loss: 23.9332\n",
      "Epoch 38/100\n",
      "404/404 [==============================] - 0s 109us/step - loss: 23.5967\n",
      "Epoch 39/100\n",
      "404/404 [==============================] - 0s 109us/step - loss: 23.2994\n",
      "Epoch 40/100\n",
      "404/404 [==============================] - 0s 109us/step - loss: 23.1644\n",
      "Epoch 41/100\n",
      "404/404 [==============================] - 0s 106us/step - loss: 23.0200\n",
      "Epoch 42/100\n",
      "404/404 [==============================] - 0s 106us/step - loss: 22.7028\n",
      "Epoch 43/100\n",
      "404/404 [==============================] - 0s 106us/step - loss: 22.5337\n",
      "Epoch 44/100\n",
      "404/404 [==============================] - 0s 109us/step - loss: 22.5260\n",
      "Epoch 45/100\n",
      "404/404 [==============================] - 0s 114us/step - loss: 22.1334\n",
      "Epoch 46/100\n",
      "404/404 [==============================] - 0s 109us/step - loss: 21.9220\n",
      "Epoch 47/100\n",
      "404/404 [==============================] - 0s 118us/step - loss: 21.7878\n",
      "Epoch 48/100\n",
      "404/404 [==============================] - 0s 118us/step - loss: 21.7745\n",
      "Epoch 49/100\n",
      "404/404 [==============================] - 0s 121us/step - loss: 21.3732\n",
      "Epoch 50/100\n",
      "404/404 [==============================] - 0s 116us/step - loss: 21.2692\n",
      "Epoch 51/100\n",
      "404/404 [==============================] - 0s 116us/step - loss: 20.9126\n",
      "Epoch 52/100\n",
      "404/404 [==============================] - 0s 116us/step - loss: 20.8797\n",
      "Epoch 53/100\n",
      "404/404 [==============================] - 0s 114us/step - loss: 20.6812\n",
      "Epoch 54/100\n",
      "404/404 [==============================] - 0s 106us/step - loss: 20.3937\n",
      "Epoch 55/100\n",
      "404/404 [==============================] - 0s 104us/step - loss: 20.1476\n",
      "Epoch 56/100\n",
      "404/404 [==============================] - 0s 101us/step - loss: 19.8979\n",
      "Epoch 57/100\n",
      "404/404 [==============================] - 0s 104us/step - loss: 19.8679\n",
      "Epoch 58/100\n",
      "404/404 [==============================] - 0s 99us/step - loss: 19.5046\n",
      "Epoch 59/100\n",
      "404/404 [==============================] - 0s 104us/step - loss: 19.4154\n",
      "Epoch 60/100\n",
      "404/404 [==============================] - 0s 106us/step - loss: 19.2312\n",
      "Epoch 61/100\n",
      "404/404 [==============================] - 0s 96us/step - loss: 18.9049\n",
      "Epoch 62/100\n",
      "404/404 [==============================] - 0s 94us/step - loss: 18.8012\n",
      "Epoch 63/100\n",
      "404/404 [==============================] - 0s 101us/step - loss: 18.5770\n",
      "Epoch 64/100\n",
      "404/404 [==============================] - 0s 101us/step - loss: 18.4352\n",
      "Epoch 65/100\n",
      "404/404 [==============================] - 0s 101us/step - loss: 18.1451\n",
      "Epoch 66/100\n",
      "404/404 [==============================] - 0s 106us/step - loss: 18.0250\n",
      "Epoch 67/100\n",
      "404/404 [==============================] - 0s 109us/step - loss: 17.7431\n",
      "Epoch 68/100\n",
      "404/404 [==============================] - 0s 104us/step - loss: 17.6205\n",
      "Epoch 69/100\n",
      "404/404 [==============================] - 0s 106us/step - loss: 17.4328\n",
      "Epoch 70/100\n",
      "404/404 [==============================] - 0s 104us/step - loss: 17.2642\n",
      "Epoch 71/100\n",
      "404/404 [==============================] - 0s 104us/step - loss: 17.0917\n",
      "Epoch 72/100\n",
      "404/404 [==============================] - 0s 99us/step - loss: 16.6923\n",
      "Epoch 73/100\n",
      "404/404 [==============================] - 0s 101us/step - loss: 16.7917\n",
      "Epoch 74/100\n",
      "404/404 [==============================] - 0s 99us/step - loss: 16.4376\n",
      "Epoch 75/100\n",
      "404/404 [==============================] - 0s 101us/step - loss: 16.4536\n",
      "Epoch 76/100\n",
      "404/404 [==============================] - 0s 101us/step - loss: 16.2187\n",
      "Epoch 77/100\n",
      "404/404 [==============================] - 0s 99us/step - loss: 15.8482\n",
      "Epoch 78/100\n",
      "404/404 [==============================] - 0s 96us/step - loss: 15.7029\n",
      "Epoch 79/100\n",
      "404/404 [==============================] - 0s 104us/step - loss: 15.4197\n",
      "Epoch 80/100\n",
      "404/404 [==============================] - 0s 109us/step - loss: 15.5684\n",
      "Epoch 81/100\n",
      "404/404 [==============================] - ETA: 0s - loss: 64.85 - 0s 109us/step - loss: 15.1218\n",
      "Epoch 82/100\n",
      "404/404 [==============================] - 0s 109us/step - loss: 15.1279\n",
      "Epoch 83/100\n",
      "404/404 [==============================] - 0s 104us/step - loss: 15.0696\n",
      "Epoch 84/100\n",
      "404/404 [==============================] - 0s 96us/step - loss: 14.7064\n",
      "Epoch 85/100\n",
      "404/404 [==============================] - 0s 106us/step - loss: 14.7747\n",
      "Epoch 86/100\n",
      "404/404 [==============================] - 0s 94us/step - loss: 14.4696\n",
      "Epoch 87/100\n",
      "404/404 [==============================] - 0s 101us/step - loss: 14.3842\n",
      "Epoch 88/100\n",
      "404/404 [==============================] - 0s 96us/step - loss: 14.2180\n",
      "Epoch 89/100\n",
      "404/404 [==============================] - 0s 101us/step - loss: 13.9545\n",
      "Epoch 90/100\n",
      "404/404 [==============================] - 0s 99us/step - loss: 14.0009\n",
      "Epoch 91/100\n",
      "404/404 [==============================] - 0s 109us/step - loss: 13.8108\n",
      "Epoch 92/100\n",
      "404/404 [==============================] - 0s 99us/step - loss: 13.5457\n",
      "Epoch 93/100\n",
      "404/404 [==============================] - 0s 111us/step - loss: 13.5140\n",
      "Epoch 94/100\n",
      "404/404 [==============================] - 0s 109us/step - loss: 13.2440\n",
      "Epoch 95/100\n"
     ]
    },
    {
     "name": "stdout",
     "output_type": "stream",
     "text": [
      "404/404 [==============================] - 0s 106us/step - loss: 13.4494\n",
      "Epoch 96/100\n",
      "404/404 [==============================] - 0s 101us/step - loss: 13.0218\n",
      "Epoch 97/100\n",
      "404/404 [==============================] - 0s 99us/step - loss: 13.1478\n",
      "Epoch 98/100\n",
      "404/404 [==============================] - 0s 96us/step - loss: 12.7736\n",
      "Epoch 99/100\n",
      "404/404 [==============================] - 0s 96us/step - loss: 12.5822\n",
      "Epoch 100/100\n",
      "404/404 [==============================] - 0s 96us/step - loss: 12.6371\n"
     ]
    },
    {
     "data": {
      "text/plain": [
       "<keras.callbacks.callbacks.History at 0x23b5f36a488>"
      ]
     },
     "execution_count": 74,
     "metadata": {},
     "output_type": "execute_result"
    }
   ],
   "source": [
    "m.fit(x_train_white, y_train, epochs=100, batch_size=10)"
   ]
  },
  {
   "cell_type": "code",
   "execution_count": 75,
   "metadata": {},
   "outputs": [
    {
     "data": {
      "text/plain": [
       "array([[12., 12., 21., 31., 23., 26., 16., 27., 25., 24., 20., 14.,  5.,\n",
       "        14., 20., -1., 31., 29., 21., 27., 23., 19., 32., 26., 27., 27.,\n",
       "        17., 18., 12., 19., 20., 11., 28., 35., 14., 22., 14., -1., 18.,\n",
       "        25., 24., 25., 17., 15., -0., 30., 19., 12., 34., 23., 26., 23.,\n",
       "        25., 20., 18., 14., 11., 30., 18., 22.,  8., 22., 17., 26., 25.,\n",
       "        19., 24., 29., 27., 10., 26., 21., 17., 24., 32., 24., 21., 17.,\n",
       "         7., 33., 29., 33., 27., 23., 23., 19., 20., 21., 23., 24., 27.,\n",
       "        16., 23., 14., 24., 17., 30., 22., 17., 23., 28., 17.]],\n",
       "      dtype=float32)"
      ]
     },
     "execution_count": 75,
     "metadata": {},
     "output_type": "execute_result"
    }
   ],
   "source": [
    "x_test_white = scaler.transform(x_test)\n",
    "m.predict(x_test_white).round().T"
   ]
  },
  {
   "cell_type": "code",
   "execution_count": 76,
   "metadata": {},
   "outputs": [
    {
     "name": "stderr",
     "output_type": "stream",
     "text": [
      "C:\\Users\\james\\Anaconda3\\lib\\site-packages\\ipykernel_launcher.py:1: FutureWarning: Method .as_matrix will be removed in a future version. Use .values instead.\n",
      "  \"\"\"Entry point for launching an IPython kernel.\n"
     ]
    },
    {
     "data": {
      "text/plain": [
       "array([11. , 12.7, 50. , 20. , 25.3, 20.9,  7.2, 27.1, 22. , 28.7, 11.3,\n",
       "       19. , 29. , 14.9, 22.2, 50. , 18.3, 19.6, 23.1, 19.4, 23.1, 19.1,\n",
       "       19.7, 18.7, 17.4, 20.1, 13.3, 13.8, 25. , 26.6, 24.3, 19.3, 25. ,\n",
       "       17.4, 14.9, 39.8, 13.9, 17.8, 20. , 18.5, 13.5, 33.3, 30.1, 20.2,\n",
       "       22.7, 22.9, 13.8,  8.5, 16.2, 24.8, 25.2, 24.7, 23.9, 34.9, 36.2,\n",
       "       15.4, 14.3, 16.6, 10.2, 20.1, 17.8, 27.5,  7.4, 28.2, 22.5, 20.6,\n",
       "       21.9, 16.2, 20.1, 21.7, 11.8, 36.1, 46.7, 18.2, 24.6, 23.9, 36.4,\n",
       "       14.1, 33.2, 19.2, 43.1, 22.3, 19.3, 23.9, 19.6, 37.3, 24.2, 50. ,\n",
       "       32.2, 23.1, 29.8, 19.5, 23.8, 10.8, 13.8, 24.8, 21.2, 20.8, 35.4,\n",
       "       45.4, 23.1, 23.2], dtype=float32)"
      ]
     },
     "execution_count": 76,
     "metadata": {},
     "output_type": "execute_result"
    }
   ],
   "source": [
    "y_test.as_matrix().astype(np.float32)"
   ]
  },
  {
   "cell_type": "code",
   "execution_count": 77,
   "metadata": {},
   "outputs": [
    {
     "name": "stdout",
     "output_type": "stream",
     "text": [
      "102/102 [==============================] - 0s 372us/step\n"
     ]
    },
    {
     "data": {
      "text/plain": [
       "140.860865873449"
      ]
     },
     "execution_count": 77,
     "metadata": {},
     "output_type": "execute_result"
    }
   ],
   "source": [
    "m.evaluate(x_test_white, y_test)"
   ]
  },
  {
   "cell_type": "code",
   "execution_count": null,
   "metadata": {},
   "outputs": [],
   "source": []
  },
  {
   "cell_type": "code",
   "execution_count": null,
   "metadata": {},
   "outputs": [],
   "source": []
  },
  {
   "cell_type": "markdown",
   "metadata": {},
   "source": [
    "## References: \n",
    "\n",
    "1.  Laerd Statistics. \n",
    "https://statistics.laerd.com/statistical-guides/independent-t-test-statistical-guide.php\n",
    "2.  Kent State University.\n",
    "https://libguides.library.kent.edu/SPSS/IndependentTTest"
   ]
  },
  {
   "cell_type": "code",
   "execution_count": null,
   "metadata": {},
   "outputs": [],
   "source": []
  },
  {
   "cell_type": "code",
   "execution_count": null,
   "metadata": {},
   "outputs": [],
   "source": []
  },
  {
   "cell_type": "code",
   "execution_count": null,
   "metadata": {},
   "outputs": [],
   "source": []
  }
 ],
 "metadata": {
  "kernelspec": {
   "display_name": "Python 3",
   "language": "python",
   "name": "python3"
  },
  "language_info": {
   "codemirror_mode": {
    "name": "ipython",
    "version": 3
   },
   "file_extension": ".py",
   "mimetype": "text/x-python",
   "name": "python",
   "nbconvert_exporter": "python",
   "pygments_lexer": "ipython3",
   "version": "3.7.5"
  }
 },
 "nbformat": 4,
 "nbformat_minor": 4
}
