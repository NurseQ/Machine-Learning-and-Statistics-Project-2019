{
 "cells": [
  {
   "cell_type": "code",
   "execution_count": 1,
   "metadata": {},
   "outputs": [],
   "source": [
    "# import numerical packages\n",
    "import numpy as np\n",
    "import pandas as pd"
   ]
  },
  {
   "cell_type": "code",
   "execution_count": 2,
   "metadata": {},
   "outputs": [],
   "source": [
    "#import data visualization packages\n",
    "import matplotlib.pyplot as plt\n",
    "import seaborn as sns"
   ]
  },
  {
   "cell_type": "code",
   "execution_count": 3,
   "metadata": {},
   "outputs": [],
   "source": [
    "#magic command to display plots in jupyter\n",
    "%matplotlib inline"
   ]
  },
  {
   "cell_type": "markdown",
   "metadata": {},
   "source": [
    "### Importing and preparing the dataset"
   ]
  },
  {
   "cell_type": "code",
   "execution_count": 4,
   "metadata": {},
   "outputs": [],
   "source": [
    "# load the dataset from scikit-learn library \n",
    "from sklearn.datasets import load_boston"
   ]
  },
  {
   "cell_type": "code",
   "execution_count": 5,
   "metadata": {},
   "outputs": [],
   "source": [
    "boston = load_boston()"
   ]
  },
  {
   "cell_type": "code",
   "execution_count": 6,
   "metadata": {},
   "outputs": [
    {
     "data": {
      "text/plain": [
       "dict_keys(['data', 'target', 'feature_names', 'DESCR', 'filename'])"
      ]
     },
     "execution_count": 6,
     "metadata": {},
     "output_type": "execute_result"
    }
   ],
   "source": [
    "# check info axis of the object\n",
    "boston.keys()"
   ]
  },
  {
   "cell_type": "code",
   "execution_count": 7,
   "metadata": {},
   "outputs": [
    {
     "data": {
      "text/plain": [
       "(506, 13)"
      ]
     },
     "execution_count": 7,
     "metadata": {},
     "output_type": "execute_result"
    }
   ],
   "source": [
    "# check the size and number of columns\n",
    "boston.data.shape"
   ]
  },
  {
   "cell_type": "code",
   "execution_count": 8,
   "metadata": {},
   "outputs": [
    {
     "name": "stdout",
     "output_type": "stream",
     "text": [
      "['CRIM' 'ZN' 'INDUS' 'CHAS' 'NOX' 'RM' 'AGE' 'DIS' 'RAD' 'TAX' 'PTRATIO'\n",
      " 'B' 'LSTAT']\n"
     ]
    }
   ],
   "source": [
    "# print the column names\n",
    "print(boston.feature_names)"
   ]
  },
  {
   "cell_type": "code",
   "execution_count": 9,
   "metadata": {
    "scrolled": true
   },
   "outputs": [
    {
     "name": "stdout",
     "output_type": "stream",
     "text": [
      ".. _boston_dataset:\n",
      "\n",
      "Boston house prices dataset\n",
      "---------------------------\n",
      "\n",
      "**Data Set Characteristics:**  \n",
      "\n",
      "    :Number of Instances: 506 \n",
      "\n",
      "    :Number of Attributes: 13 numeric/categorical predictive. Median Value (attribute 14) is usually the target.\n",
      "\n",
      "    :Attribute Information (in order):\n",
      "        - CRIM     per capita crime rate by town\n",
      "        - ZN       proportion of residential land zoned for lots over 25,000 sq.ft.\n",
      "        - INDUS    proportion of non-retail business acres per town\n",
      "        - CHAS     Charles River dummy variable (= 1 if tract bounds river; 0 otherwise)\n",
      "        - NOX      nitric oxides concentration (parts per 10 million)\n",
      "        - RM       average number of rooms per dwelling\n",
      "        - AGE      proportion of owner-occupied units built prior to 1940\n",
      "        - DIS      weighted distances to five Boston employment centres\n",
      "        - RAD      index of accessibility to radial highways\n",
      "        - TAX      full-value property-tax rate per $10,000\n",
      "        - PTRATIO  pupil-teacher ratio by town\n",
      "        - B        1000(Bk - 0.63)^2 where Bk is the proportion of blacks by town\n",
      "        - LSTAT    % lower status of the population\n",
      "        - MEDV     Median value of owner-occupied homes in $1000's\n",
      "\n",
      "    :Missing Attribute Values: None\n",
      "\n",
      "    :Creator: Harrison, D. and Rubinfeld, D.L.\n",
      "\n",
      "This is a copy of UCI ML housing dataset.\n",
      "https://archive.ics.uci.edu/ml/machine-learning-databases/housing/\n",
      "\n",
      "\n",
      "This dataset was taken from the StatLib library which is maintained at Carnegie Mellon University.\n",
      "\n",
      "The Boston house-price data of Harrison, D. and Rubinfeld, D.L. 'Hedonic\n",
      "prices and the demand for clean air', J. Environ. Economics & Management,\n",
      "vol.5, 81-102, 1978.   Used in Belsley, Kuh & Welsch, 'Regression diagnostics\n",
      "...', Wiley, 1980.   N.B. Various transformations are used in the table on\n",
      "pages 244-261 of the latter.\n",
      "\n",
      "The Boston house-price data has been used in many machine learning papers that address regression\n",
      "problems.   \n",
      "     \n",
      ".. topic:: References\n",
      "\n",
      "   - Belsley, Kuh & Welsch, 'Regression diagnostics: Identifying Influential Data and Sources of Collinearity', Wiley, 1980. 244-261.\n",
      "   - Quinlan,R. (1993). Combining Instance-Based and Model-Based Learning. In Proceedings on the Tenth International Conference of Machine Learning, 236-243, University of Massachusetts, Amherst. Morgan Kaufmann.\n",
      "\n"
     ]
    }
   ],
   "source": [
    "# read the description of the dataset\n",
    "print(boston.DESCR)"
   ]
  },
  {
   "cell_type": "markdown",
   "metadata": {},
   "source": [
    "Build the dataframe using the boston data and place the feature names as the rows"
   ]
  },
  {
   "cell_type": "code",
   "execution_count": 10,
   "metadata": {},
   "outputs": [],
   "source": [
    "# Place the feature names as the name of the columns\n",
    "bdf = pd.DataFrame(boston.data, columns=boston.feature_names)"
   ]
  },
  {
   "cell_type": "code",
   "execution_count": 11,
   "metadata": {
    "scrolled": true
   },
   "outputs": [
    {
     "data": {
      "text/html": [
       "<div>\n",
       "<style scoped>\n",
       "    .dataframe tbody tr th:only-of-type {\n",
       "        vertical-align: middle;\n",
       "    }\n",
       "\n",
       "    .dataframe tbody tr th {\n",
       "        vertical-align: top;\n",
       "    }\n",
       "\n",
       "    .dataframe thead th {\n",
       "        text-align: right;\n",
       "    }\n",
       "</style>\n",
       "<table border=\"1\" class=\"dataframe\">\n",
       "  <thead>\n",
       "    <tr style=\"text-align: right;\">\n",
       "      <th></th>\n",
       "      <th>CRIM</th>\n",
       "      <th>ZN</th>\n",
       "      <th>INDUS</th>\n",
       "      <th>CHAS</th>\n",
       "      <th>NOX</th>\n",
       "      <th>RM</th>\n",
       "      <th>AGE</th>\n",
       "      <th>DIS</th>\n",
       "      <th>RAD</th>\n",
       "      <th>TAX</th>\n",
       "      <th>PTRATIO</th>\n",
       "      <th>B</th>\n",
       "      <th>LSTAT</th>\n",
       "    </tr>\n",
       "  </thead>\n",
       "  <tbody>\n",
       "    <tr>\n",
       "      <th>0</th>\n",
       "      <td>0.00632</td>\n",
       "      <td>18.0</td>\n",
       "      <td>2.31</td>\n",
       "      <td>0.0</td>\n",
       "      <td>0.538</td>\n",
       "      <td>6.575</td>\n",
       "      <td>65.2</td>\n",
       "      <td>4.0900</td>\n",
       "      <td>1.0</td>\n",
       "      <td>296.0</td>\n",
       "      <td>15.3</td>\n",
       "      <td>396.90</td>\n",
       "      <td>4.98</td>\n",
       "    </tr>\n",
       "    <tr>\n",
       "      <th>1</th>\n",
       "      <td>0.02731</td>\n",
       "      <td>0.0</td>\n",
       "      <td>7.07</td>\n",
       "      <td>0.0</td>\n",
       "      <td>0.469</td>\n",
       "      <td>6.421</td>\n",
       "      <td>78.9</td>\n",
       "      <td>4.9671</td>\n",
       "      <td>2.0</td>\n",
       "      <td>242.0</td>\n",
       "      <td>17.8</td>\n",
       "      <td>396.90</td>\n",
       "      <td>9.14</td>\n",
       "    </tr>\n",
       "    <tr>\n",
       "      <th>2</th>\n",
       "      <td>0.02729</td>\n",
       "      <td>0.0</td>\n",
       "      <td>7.07</td>\n",
       "      <td>0.0</td>\n",
       "      <td>0.469</td>\n",
       "      <td>7.185</td>\n",
       "      <td>61.1</td>\n",
       "      <td>4.9671</td>\n",
       "      <td>2.0</td>\n",
       "      <td>242.0</td>\n",
       "      <td>17.8</td>\n",
       "      <td>392.83</td>\n",
       "      <td>4.03</td>\n",
       "    </tr>\n",
       "    <tr>\n",
       "      <th>3</th>\n",
       "      <td>0.03237</td>\n",
       "      <td>0.0</td>\n",
       "      <td>2.18</td>\n",
       "      <td>0.0</td>\n",
       "      <td>0.458</td>\n",
       "      <td>6.998</td>\n",
       "      <td>45.8</td>\n",
       "      <td>6.0622</td>\n",
       "      <td>3.0</td>\n",
       "      <td>222.0</td>\n",
       "      <td>18.7</td>\n",
       "      <td>394.63</td>\n",
       "      <td>2.94</td>\n",
       "    </tr>\n",
       "    <tr>\n",
       "      <th>4</th>\n",
       "      <td>0.06905</td>\n",
       "      <td>0.0</td>\n",
       "      <td>2.18</td>\n",
       "      <td>0.0</td>\n",
       "      <td>0.458</td>\n",
       "      <td>7.147</td>\n",
       "      <td>54.2</td>\n",
       "      <td>6.0622</td>\n",
       "      <td>3.0</td>\n",
       "      <td>222.0</td>\n",
       "      <td>18.7</td>\n",
       "      <td>396.90</td>\n",
       "      <td>5.33</td>\n",
       "    </tr>\n",
       "  </tbody>\n",
       "</table>\n",
       "</div>"
      ],
      "text/plain": [
       "      CRIM    ZN  INDUS  CHAS    NOX     RM   AGE     DIS  RAD    TAX  \\\n",
       "0  0.00632  18.0   2.31   0.0  0.538  6.575  65.2  4.0900  1.0  296.0   \n",
       "1  0.02731   0.0   7.07   0.0  0.469  6.421  78.9  4.9671  2.0  242.0   \n",
       "2  0.02729   0.0   7.07   0.0  0.469  7.185  61.1  4.9671  2.0  242.0   \n",
       "3  0.03237   0.0   2.18   0.0  0.458  6.998  45.8  6.0622  3.0  222.0   \n",
       "4  0.06905   0.0   2.18   0.0  0.458  7.147  54.2  6.0622  3.0  222.0   \n",
       "\n",
       "   PTRATIO       B  LSTAT  \n",
       "0     15.3  396.90   4.98  \n",
       "1     17.8  396.90   9.14  \n",
       "2     17.8  392.83   4.03  \n",
       "3     18.7  394.63   2.94  \n",
       "4     18.7  396.90   5.33  "
      ]
     },
     "execution_count": 11,
     "metadata": {},
     "output_type": "execute_result"
    }
   ],
   "source": [
    "# check the first 5 rows of the dataframe\n",
    "bdf.head()"
   ]
  },
  {
   "cell_type": "markdown",
   "metadata": {},
   "source": [
    "----\n",
    "#### The 'medv' which is usually the target variable is not included in the dataframe. It is the Median value of owner-occupied homes in $1000's. "
   ]
  },
  {
   "cell_type": "code",
   "execution_count": 12,
   "metadata": {},
   "outputs": [],
   "source": [
    "# add the target 'medv' as Price column\n",
    "bdf['Price'] = boston.target"
   ]
  },
  {
   "cell_type": "code",
   "execution_count": 13,
   "metadata": {
    "scrolled": true
   },
   "outputs": [
    {
     "data": {
      "text/plain": [
       "CRIM       0\n",
       "ZN         0\n",
       "INDUS      0\n",
       "CHAS       0\n",
       "NOX        0\n",
       "RM         0\n",
       "AGE        0\n",
       "DIS        0\n",
       "RAD        0\n",
       "TAX        0\n",
       "PTRATIO    0\n",
       "B          0\n",
       "LSTAT      0\n",
       "Price      0\n",
       "dtype: int64"
      ]
     },
     "execution_count": 13,
     "metadata": {},
     "output_type": "execute_result"
    }
   ],
   "source": [
    "# check for any missing data. isnull() gives back a boolean if there is missing information and sum willadd it all up. \n",
    "bdf.isnull().sum()"
   ]
  },
  {
   "cell_type": "code",
   "execution_count": 14,
   "metadata": {
    "scrolled": false
   },
   "outputs": [
    {
     "data": {
      "text/html": [
       "<div>\n",
       "<style scoped>\n",
       "    .dataframe tbody tr th:only-of-type {\n",
       "        vertical-align: middle;\n",
       "    }\n",
       "\n",
       "    .dataframe tbody tr th {\n",
       "        vertical-align: top;\n",
       "    }\n",
       "\n",
       "    .dataframe thead th {\n",
       "        text-align: right;\n",
       "    }\n",
       "</style>\n",
       "<table border=\"1\" class=\"dataframe\">\n",
       "  <thead>\n",
       "    <tr style=\"text-align: right;\">\n",
       "      <th></th>\n",
       "      <th>CRIM</th>\n",
       "      <th>ZN</th>\n",
       "      <th>INDUS</th>\n",
       "      <th>CHAS</th>\n",
       "      <th>NOX</th>\n",
       "      <th>RM</th>\n",
       "      <th>AGE</th>\n",
       "      <th>DIS</th>\n",
       "      <th>RAD</th>\n",
       "      <th>TAX</th>\n",
       "      <th>PTRATIO</th>\n",
       "      <th>B</th>\n",
       "      <th>LSTAT</th>\n",
       "      <th>Price</th>\n",
       "    </tr>\n",
       "  </thead>\n",
       "  <tbody>\n",
       "    <tr>\n",
       "      <th>0</th>\n",
       "      <td>0.00632</td>\n",
       "      <td>18.0</td>\n",
       "      <td>2.31</td>\n",
       "      <td>0.0</td>\n",
       "      <td>0.538</td>\n",
       "      <td>6.575</td>\n",
       "      <td>65.2</td>\n",
       "      <td>4.0900</td>\n",
       "      <td>1.0</td>\n",
       "      <td>296.0</td>\n",
       "      <td>15.3</td>\n",
       "      <td>396.90</td>\n",
       "      <td>4.98</td>\n",
       "      <td>24.0</td>\n",
       "    </tr>\n",
       "    <tr>\n",
       "      <th>1</th>\n",
       "      <td>0.02731</td>\n",
       "      <td>0.0</td>\n",
       "      <td>7.07</td>\n",
       "      <td>0.0</td>\n",
       "      <td>0.469</td>\n",
       "      <td>6.421</td>\n",
       "      <td>78.9</td>\n",
       "      <td>4.9671</td>\n",
       "      <td>2.0</td>\n",
       "      <td>242.0</td>\n",
       "      <td>17.8</td>\n",
       "      <td>396.90</td>\n",
       "      <td>9.14</td>\n",
       "      <td>21.6</td>\n",
       "    </tr>\n",
       "    <tr>\n",
       "      <th>2</th>\n",
       "      <td>0.02729</td>\n",
       "      <td>0.0</td>\n",
       "      <td>7.07</td>\n",
       "      <td>0.0</td>\n",
       "      <td>0.469</td>\n",
       "      <td>7.185</td>\n",
       "      <td>61.1</td>\n",
       "      <td>4.9671</td>\n",
       "      <td>2.0</td>\n",
       "      <td>242.0</td>\n",
       "      <td>17.8</td>\n",
       "      <td>392.83</td>\n",
       "      <td>4.03</td>\n",
       "      <td>34.7</td>\n",
       "    </tr>\n",
       "    <tr>\n",
       "      <th>3</th>\n",
       "      <td>0.03237</td>\n",
       "      <td>0.0</td>\n",
       "      <td>2.18</td>\n",
       "      <td>0.0</td>\n",
       "      <td>0.458</td>\n",
       "      <td>6.998</td>\n",
       "      <td>45.8</td>\n",
       "      <td>6.0622</td>\n",
       "      <td>3.0</td>\n",
       "      <td>222.0</td>\n",
       "      <td>18.7</td>\n",
       "      <td>394.63</td>\n",
       "      <td>2.94</td>\n",
       "      <td>33.4</td>\n",
       "    </tr>\n",
       "    <tr>\n",
       "      <th>4</th>\n",
       "      <td>0.06905</td>\n",
       "      <td>0.0</td>\n",
       "      <td>2.18</td>\n",
       "      <td>0.0</td>\n",
       "      <td>0.458</td>\n",
       "      <td>7.147</td>\n",
       "      <td>54.2</td>\n",
       "      <td>6.0622</td>\n",
       "      <td>3.0</td>\n",
       "      <td>222.0</td>\n",
       "      <td>18.7</td>\n",
       "      <td>396.90</td>\n",
       "      <td>5.33</td>\n",
       "      <td>36.2</td>\n",
       "    </tr>\n",
       "  </tbody>\n",
       "</table>\n",
       "</div>"
      ],
      "text/plain": [
       "      CRIM    ZN  INDUS  CHAS    NOX     RM   AGE     DIS  RAD    TAX  \\\n",
       "0  0.00632  18.0   2.31   0.0  0.538  6.575  65.2  4.0900  1.0  296.0   \n",
       "1  0.02731   0.0   7.07   0.0  0.469  6.421  78.9  4.9671  2.0  242.0   \n",
       "2  0.02729   0.0   7.07   0.0  0.469  7.185  61.1  4.9671  2.0  242.0   \n",
       "3  0.03237   0.0   2.18   0.0  0.458  6.998  45.8  6.0622  3.0  222.0   \n",
       "4  0.06905   0.0   2.18   0.0  0.458  7.147  54.2  6.0622  3.0  222.0   \n",
       "\n",
       "   PTRATIO       B  LSTAT  Price  \n",
       "0     15.3  396.90   4.98   24.0  \n",
       "1     17.8  396.90   9.14   21.6  \n",
       "2     17.8  392.83   4.03   34.7  \n",
       "3     18.7  394.63   2.94   33.4  \n",
       "4     18.7  396.90   5.33   36.2  "
      ]
     },
     "execution_count": 14,
     "metadata": {},
     "output_type": "execute_result"
    }
   ],
   "source": [
    "# get the first 5 rows of the dataframe\n",
    "bdf.head()"
   ]
  },
  {
   "cell_type": "markdown",
   "metadata": {},
   "source": [
    "### Descriptive Statistics"
   ]
  },
  {
   "cell_type": "code",
   "execution_count": 15,
   "metadata": {
    "scrolled": true
   },
   "outputs": [
    {
     "data": {
      "text/html": [
       "<div>\n",
       "<style scoped>\n",
       "    .dataframe tbody tr th:only-of-type {\n",
       "        vertical-align: middle;\n",
       "    }\n",
       "\n",
       "    .dataframe tbody tr th {\n",
       "        vertical-align: top;\n",
       "    }\n",
       "\n",
       "    .dataframe thead th {\n",
       "        text-align: right;\n",
       "    }\n",
       "</style>\n",
       "<table border=\"1\" class=\"dataframe\">\n",
       "  <thead>\n",
       "    <tr style=\"text-align: right;\">\n",
       "      <th></th>\n",
       "      <th>CRIM</th>\n",
       "      <th>ZN</th>\n",
       "      <th>INDUS</th>\n",
       "      <th>CHAS</th>\n",
       "      <th>NOX</th>\n",
       "      <th>RM</th>\n",
       "      <th>AGE</th>\n",
       "      <th>DIS</th>\n",
       "      <th>RAD</th>\n",
       "      <th>TAX</th>\n",
       "      <th>PTRATIO</th>\n",
       "      <th>B</th>\n",
       "      <th>LSTAT</th>\n",
       "      <th>Price</th>\n",
       "    </tr>\n",
       "  </thead>\n",
       "  <tbody>\n",
       "    <tr>\n",
       "      <th>count</th>\n",
       "      <td>506.000000</td>\n",
       "      <td>506.000000</td>\n",
       "      <td>506.000000</td>\n",
       "      <td>506.000000</td>\n",
       "      <td>506.000000</td>\n",
       "      <td>506.000000</td>\n",
       "      <td>506.000000</td>\n",
       "      <td>506.000000</td>\n",
       "      <td>506.000000</td>\n",
       "      <td>506.000000</td>\n",
       "      <td>506.000000</td>\n",
       "      <td>506.000000</td>\n",
       "      <td>506.000000</td>\n",
       "      <td>506.000000</td>\n",
       "    </tr>\n",
       "    <tr>\n",
       "      <th>mean</th>\n",
       "      <td>3.613524</td>\n",
       "      <td>11.363636</td>\n",
       "      <td>11.136779</td>\n",
       "      <td>0.069170</td>\n",
       "      <td>0.554695</td>\n",
       "      <td>6.284634</td>\n",
       "      <td>68.574901</td>\n",
       "      <td>3.795043</td>\n",
       "      <td>9.549407</td>\n",
       "      <td>408.237154</td>\n",
       "      <td>18.455534</td>\n",
       "      <td>356.674032</td>\n",
       "      <td>12.653063</td>\n",
       "      <td>22.532806</td>\n",
       "    </tr>\n",
       "    <tr>\n",
       "      <th>std</th>\n",
       "      <td>8.601545</td>\n",
       "      <td>23.322453</td>\n",
       "      <td>6.860353</td>\n",
       "      <td>0.253994</td>\n",
       "      <td>0.115878</td>\n",
       "      <td>0.702617</td>\n",
       "      <td>28.148861</td>\n",
       "      <td>2.105710</td>\n",
       "      <td>8.707259</td>\n",
       "      <td>168.537116</td>\n",
       "      <td>2.164946</td>\n",
       "      <td>91.294864</td>\n",
       "      <td>7.141062</td>\n",
       "      <td>9.197104</td>\n",
       "    </tr>\n",
       "    <tr>\n",
       "      <th>min</th>\n",
       "      <td>0.006320</td>\n",
       "      <td>0.000000</td>\n",
       "      <td>0.460000</td>\n",
       "      <td>0.000000</td>\n",
       "      <td>0.385000</td>\n",
       "      <td>3.561000</td>\n",
       "      <td>2.900000</td>\n",
       "      <td>1.129600</td>\n",
       "      <td>1.000000</td>\n",
       "      <td>187.000000</td>\n",
       "      <td>12.600000</td>\n",
       "      <td>0.320000</td>\n",
       "      <td>1.730000</td>\n",
       "      <td>5.000000</td>\n",
       "    </tr>\n",
       "    <tr>\n",
       "      <th>25%</th>\n",
       "      <td>0.082045</td>\n",
       "      <td>0.000000</td>\n",
       "      <td>5.190000</td>\n",
       "      <td>0.000000</td>\n",
       "      <td>0.449000</td>\n",
       "      <td>5.885500</td>\n",
       "      <td>45.025000</td>\n",
       "      <td>2.100175</td>\n",
       "      <td>4.000000</td>\n",
       "      <td>279.000000</td>\n",
       "      <td>17.400000</td>\n",
       "      <td>375.377500</td>\n",
       "      <td>6.950000</td>\n",
       "      <td>17.025000</td>\n",
       "    </tr>\n",
       "    <tr>\n",
       "      <th>50%</th>\n",
       "      <td>0.256510</td>\n",
       "      <td>0.000000</td>\n",
       "      <td>9.690000</td>\n",
       "      <td>0.000000</td>\n",
       "      <td>0.538000</td>\n",
       "      <td>6.208500</td>\n",
       "      <td>77.500000</td>\n",
       "      <td>3.207450</td>\n",
       "      <td>5.000000</td>\n",
       "      <td>330.000000</td>\n",
       "      <td>19.050000</td>\n",
       "      <td>391.440000</td>\n",
       "      <td>11.360000</td>\n",
       "      <td>21.200000</td>\n",
       "    </tr>\n",
       "    <tr>\n",
       "      <th>75%</th>\n",
       "      <td>3.677083</td>\n",
       "      <td>12.500000</td>\n",
       "      <td>18.100000</td>\n",
       "      <td>0.000000</td>\n",
       "      <td>0.624000</td>\n",
       "      <td>6.623500</td>\n",
       "      <td>94.075000</td>\n",
       "      <td>5.188425</td>\n",
       "      <td>24.000000</td>\n",
       "      <td>666.000000</td>\n",
       "      <td>20.200000</td>\n",
       "      <td>396.225000</td>\n",
       "      <td>16.955000</td>\n",
       "      <td>25.000000</td>\n",
       "    </tr>\n",
       "    <tr>\n",
       "      <th>max</th>\n",
       "      <td>88.976200</td>\n",
       "      <td>100.000000</td>\n",
       "      <td>27.740000</td>\n",
       "      <td>1.000000</td>\n",
       "      <td>0.871000</td>\n",
       "      <td>8.780000</td>\n",
       "      <td>100.000000</td>\n",
       "      <td>12.126500</td>\n",
       "      <td>24.000000</td>\n",
       "      <td>711.000000</td>\n",
       "      <td>22.000000</td>\n",
       "      <td>396.900000</td>\n",
       "      <td>37.970000</td>\n",
       "      <td>50.000000</td>\n",
       "    </tr>\n",
       "  </tbody>\n",
       "</table>\n",
       "</div>"
      ],
      "text/plain": [
       "             CRIM          ZN       INDUS        CHAS         NOX          RM  \\\n",
       "count  506.000000  506.000000  506.000000  506.000000  506.000000  506.000000   \n",
       "mean     3.613524   11.363636   11.136779    0.069170    0.554695    6.284634   \n",
       "std      8.601545   23.322453    6.860353    0.253994    0.115878    0.702617   \n",
       "min      0.006320    0.000000    0.460000    0.000000    0.385000    3.561000   \n",
       "25%      0.082045    0.000000    5.190000    0.000000    0.449000    5.885500   \n",
       "50%      0.256510    0.000000    9.690000    0.000000    0.538000    6.208500   \n",
       "75%      3.677083   12.500000   18.100000    0.000000    0.624000    6.623500   \n",
       "max     88.976200  100.000000   27.740000    1.000000    0.871000    8.780000   \n",
       "\n",
       "              AGE         DIS         RAD         TAX     PTRATIO           B  \\\n",
       "count  506.000000  506.000000  506.000000  506.000000  506.000000  506.000000   \n",
       "mean    68.574901    3.795043    9.549407  408.237154   18.455534  356.674032   \n",
       "std     28.148861    2.105710    8.707259  168.537116    2.164946   91.294864   \n",
       "min      2.900000    1.129600    1.000000  187.000000   12.600000    0.320000   \n",
       "25%     45.025000    2.100175    4.000000  279.000000   17.400000  375.377500   \n",
       "50%     77.500000    3.207450    5.000000  330.000000   19.050000  391.440000   \n",
       "75%     94.075000    5.188425   24.000000  666.000000   20.200000  396.225000   \n",
       "max    100.000000   12.126500   24.000000  711.000000   22.000000  396.900000   \n",
       "\n",
       "            LSTAT       Price  \n",
       "count  506.000000  506.000000  \n",
       "mean    12.653063   22.532806  \n",
       "std      7.141062    9.197104  \n",
       "min      1.730000    5.000000  \n",
       "25%      6.950000   17.025000  \n",
       "50%     11.360000   21.200000  \n",
       "75%     16.955000   25.000000  \n",
       "max     37.970000   50.000000  "
      ]
     },
     "execution_count": 15,
     "metadata": {},
     "output_type": "execute_result"
    }
   ],
   "source": [
    "# get the summary statistics of the dataset\n",
    "bdf.describe()"
   ]
  },
  {
   "cell_type": "code",
   "execution_count": 16,
   "metadata": {},
   "outputs": [
    {
     "name": "stdout",
     "output_type": "stream",
     "text": [
      "<class 'pandas.core.frame.DataFrame'>\n",
      "RangeIndex: 506 entries, 0 to 505\n",
      "Data columns (total 14 columns):\n",
      "CRIM       506 non-null float64\n",
      "ZN         506 non-null float64\n",
      "INDUS      506 non-null float64\n",
      "CHAS       506 non-null float64\n",
      "NOX        506 non-null float64\n",
      "RM         506 non-null float64\n",
      "AGE        506 non-null float64\n",
      "DIS        506 non-null float64\n",
      "RAD        506 non-null float64\n",
      "TAX        506 non-null float64\n",
      "PTRATIO    506 non-null float64\n",
      "B          506 non-null float64\n",
      "LSTAT      506 non-null float64\n",
      "Price      506 non-null float64\n",
      "dtypes: float64(14)\n",
      "memory usage: 55.5 KB\n"
     ]
    }
   ],
   "source": [
    "# list all columns with their data types and the number of non-null values in each column\n",
    "bdf.info()"
   ]
  },
  {
   "cell_type": "code",
   "execution_count": 17,
   "metadata": {
    "scrolled": true
   },
   "outputs": [],
   "source": [
    "# sns.pairplot(bdf)"
   ]
  },
  {
   "cell_type": "markdown",
   "metadata": {},
   "source": [
    "The pairplot shows data plotted against each other. We can see correlation with our Price to LSTAT and RM. RAD and TAX appear to be correlated as well. \n",
    "\n"
   ]
  },
  {
   "cell_type": "code",
   "execution_count": 80,
   "metadata": {},
   "outputs": [
    {
     "data": {
      "text/plain": [
       "<matplotlib.axes._subplots.AxesSubplot at 0x1edc67290c8>"
      ]
     },
     "execution_count": 80,
     "metadata": {},
     "output_type": "execute_result"
    },
    {
     "data": {
      "image/png": "[encoded data removed]",
      "text/plain": [
       "<Figure size 864x576 with 2 Axes>"
      ]
     },
     "metadata": {},
     "output_type": "display_data"
    }
   ],
   "source": [
    "sns.set(rc={'figure.figsize':(12,8)})\n",
    "sns.heatmap(bdf.corr())"
   ]
  },
  {
   "cell_type": "code",
   "execution_count": 81,
   "metadata": {},
   "outputs": [
    {
     "data": {
      "text/plain": [
       "<matplotlib.axes._subplots.AxesSubplot at 0x1edc646e7c8>"
      ]
     },
     "execution_count": 81,
     "metadata": {},
     "output_type": "execute_result"
    },
    {
     "data": {
      "image/png": "[encoded data removed]",
      "text/plain": [
       "<Figure size 864x576 with 2 Axes>"
      ]
     },
     "metadata": {},
     "output_type": "display_data"
    }
   ],
   "source": [
    "correlation_matrix=bdf.corr().round(2)\n",
    "sns.heatmap(data=correlation_matrix, annot=True)\n",
    "# annot=True parameter prints the values inside the square\n",
    "# values closer to 1 means a strong positive correlation\n",
    "# values closer to -1 means a strong negative correlation"
   ]
  },
  {
   "cell_type": "markdown",
   "metadata": {},
   "source": [
    "The heatmap appear to show a high correlation between the target variable of Price and two other variables, the percentage of lower status (LSTAT) \n",
    "and average number of rooms per dwelling (Rooms). \n"
   ]
  },
  {
   "cell_type": "code",
   "execution_count": 96,
   "metadata": {
    "scrolled": true
   },
   "outputs": [
    {
     "data": {
      "text/plain": [
       "<seaborn.axisgrid.FacetGrid at 0x1edccb7c688>"
      ]
     },
     "execution_count": 96,
     "metadata": {},
     "output_type": "execute_result"
    },
    {
     "data": {
      "image/png": "[encoded data removed]",
      "text/plain": [
       "<Figure size 360x360 with 1 Axes>"
      ]
     },
     "metadata": {},
     "output_type": "display_data"
    }
   ],
   "source": [
    "# negative correlation of percentage of lower status (LSTAT) and Price\n",
    "sns.lmplot(x = 'LSTAT', y = 'Price', data = bdf)"
   ]
  },
  {
   "cell_type": "code",
   "execution_count": 95,
   "metadata": {
    "scrolled": true
   },
   "outputs": [
    {
     "data": {
      "text/plain": [
       "<seaborn.axisgrid.FacetGrid at 0x1edccb174c8>"
      ]
     },
     "execution_count": 95,
     "metadata": {},
     "output_type": "execute_result"
    },
    {
     "data": {
      "image/png": "[encoded data removed]",
      "text/plain": [
       "<Figure size 360x360 with 1 Axes>"
      ]
     },
     "metadata": {},
     "output_type": "display_data"
    }
   ],
   "source": [
    "# positive correlation between average number of rooms per dwelling (Rooms) and price. \n",
    "sns.lmplot(x = 'RM', y = 'Price', data = bdf)"
   ]
  },
  {
   "cell_type": "code",
   "execution_count": 104,
   "metadata": {},
   "outputs": [
    {
     "data": {
      "text/plain": [
       "<seaborn.axisgrid.PairGrid at 0x1edcbf9c588>"
      ]
     },
     "execution_count": 104,
     "metadata": {},
     "output_type": "execute_result"
    },
    {
     "data": {
      "image/png": "[encoded data removed]",
      "text/plain": [
       "<Figure size 630.975x576 with 1 Axes>"
      ]
     },
     "metadata": {},
     "output_type": "display_data"
    }
   ],
   "source": [
    "sns.pairplot(data= bdf, hue = 'CHAS',x_vars = 'LSTAT', y_vars = 'Price',height = 8, aspect = 1)"
   ]
  },
  {
   "cell_type": "code",
   "execution_count": 105,
   "metadata": {
    "scrolled": true
   },
   "outputs": [
    {
     "data": {
      "text/plain": [
       "<seaborn.axisgrid.PairGrid at 0x1edcbb5c508>"
      ]
     },
     "execution_count": 105,
     "metadata": {},
     "output_type": "execute_result"
    },
    {
     "data": {
      "image/png": "[encoded data removed]",
      "text/plain": [
       "<Figure size 630.975x576 with 1 Axes>"
      ]
     },
     "metadata": {},
     "output_type": "display_data"
    }
   ],
   "source": [
    "sns.pairplot(data= bdf, hue = 'CHAS',x_vars = 'RM', y_vars = 'Price',height = 8, aspect = 1)"
   ]
  },
  {
   "cell_type": "markdown",
   "metadata": {},
   "source": [
    "### Inferential Statistics"
   ]
  },
  {
   "cell_type": "code",
   "execution_count": 82,
   "metadata": {
    "scrolled": false
   },
   "outputs": [
    {
     "data": {
      "text/plain": [
       "<matplotlib.axes._subplots.AxesSubplot at 0x1edc66e6f08>"
      ]
     },
     "execution_count": 82,
     "metadata": {},
     "output_type": "execute_result"
    },
    {
     "data": {
      "image/png": "[encoded data removed]",
      "text/plain": [
       "<Figure size 864x576 with 1 Axes>"
      ]
     },
     "metadata": {},
     "output_type": "display_data"
    }
   ],
   "source": [
    "# plot the distribution of Price \n",
    "sns.set_style('whitegrid')\n",
    "sns.distplot(bdf['Price'], bins = 30)"
   ]
  },
  {
   "cell_type": "markdown",
   "metadata": {},
   "source": [
    "The median value or price of houses appear to follow a normal distribution. Some outliers in the 48-50 mark."
   ]
  },
  {
   "cell_type": "code",
   "execution_count": 84,
   "metadata": {},
   "outputs": [
    {
     "data": {
      "text/plain": [
       "<matplotlib.axes._subplots.AxesSubplot at 0x1edc710a048>"
      ]
     },
     "execution_count": 84,
     "metadata": {},
     "output_type": "execute_result"
    },
    {
     "data": {
      "image/png": "[encoded data removed]",
      "text/plain": [
       "<Figure size 864x576 with 1 Axes>"
      ]
     },
     "metadata": {},
     "output_type": "display_data"
    }
   ],
   "source": [
    "# Another plot similar to above but to get the count on the y-axis. \n",
    "bdf['Price'].plot.hist(bins = 30)"
   ]
  },
  {
   "cell_type": "code",
   "execution_count": 20,
   "metadata": {},
   "outputs": [
    {
     "data": {
      "text/plain": [
       "<matplotlib.axes._subplots.AxesSubplot at 0x1edb8104888>"
      ]
     },
     "execution_count": 20,
     "metadata": {},
     "output_type": "execute_result"
    },
    {
     "data": {
      "image/png": "[encoded data removed]",
      "text/plain": [
       "<Figure size 864x576 with 1 Axes>"
      ]
     },
     "metadata": {},
     "output_type": "display_data"
    }
   ],
   "source": [
    "# Plot the houses that do not tract river and those that tract the river. \n",
    "\n",
    "sns.countplot(x = 'CHAS', data = bdf)"
   ]
  },
  {
   "cell_type": "markdown",
   "metadata": {},
   "source": [
    "CHAS variable in a countplot. We can see that there are more houses that do not tract the Charles river in our dataset than those that tract the river. "
   ]
  },
  {
   "cell_type": "code",
   "execution_count": 91,
   "metadata": {},
   "outputs": [
    {
     "data": {
      "text/plain": [
       "<matplotlib.axes._subplots.AxesSubplot at 0x1edcc3c58c8>"
      ]
     },
     "execution_count": 91,
     "metadata": {},
     "output_type": "execute_result"
    },
    {
     "data": {
      "image/png": "[encoded data removed]",
      "text/plain": [
       "<Figure size 864x576 with 1 Axes>"
      ]
     },
     "metadata": {},
     "output_type": "display_data"
    }
   ],
   "source": [
    "# Boxplot to show means \n",
    "sns.boxplot(x = 'CHAS', y= 'Price', data=bdf)"
   ]
  },
  {
   "cell_type": "markdown",
   "metadata": {},
   "source": [
    "The boxplot suggest, in general house prices are higher for houses that tract the river and those that do not. This boxplot shows  that the median house price is higher for those that tract the river. There is some outliers for the houses that do not tract the river, house prices that are unusual relative to the mean highest house price recorded. It also shows that there is some overlap of the house prices. "
   ]
  },
  {
   "cell_type": "code",
   "execution_count": 26,
   "metadata": {
    "scrolled": true
   },
   "outputs": [],
   "source": [
    "# sns.pairplot(bdf, hue = 'CHAS')"
   ]
  },
  {
   "cell_type": "code",
   "execution_count": 27,
   "metadata": {},
   "outputs": [],
   "source": [
    "# slice the dataframe\n",
    "nr = bdf[bdf['CHAS']== 0.0]\n",
    "r = bdf[bdf['CHAS']== 1.0]"
   ]
  },
  {
   "cell_type": "code",
   "execution_count": 28,
   "metadata": {},
   "outputs": [
    {
     "data": {
      "text/plain": [
       "CRIM       471\n",
       "ZN         471\n",
       "INDUS      471\n",
       "CHAS       471\n",
       "NOX        471\n",
       "RM         471\n",
       "AGE        471\n",
       "DIS        471\n",
       "RAD        471\n",
       "TAX        471\n",
       "PTRATIO    471\n",
       "B          471\n",
       "LSTAT      471\n",
       "Price      471\n",
       "dtype: int64"
      ]
     },
     "execution_count": 28,
     "metadata": {},
     "output_type": "execute_result"
    }
   ],
   "source": [
    "nr.count()"
   ]
  },
  {
   "cell_type": "code",
   "execution_count": 29,
   "metadata": {},
   "outputs": [
    {
     "data": {
      "text/plain": [
       "CRIM       35\n",
       "ZN         35\n",
       "INDUS      35\n",
       "CHAS       35\n",
       "NOX        35\n",
       "RM         35\n",
       "AGE        35\n",
       "DIS        35\n",
       "RAD        35\n",
       "TAX        35\n",
       "PTRATIO    35\n",
       "B          35\n",
       "LSTAT      35\n",
       "Price      35\n",
       "dtype: int64"
      ]
     },
     "execution_count": 29,
     "metadata": {},
     "output_type": "execute_result"
    }
   ],
   "source": [
    "r.count()"
   ]
  },
  {
   "cell_type": "code",
   "execution_count": 30,
   "metadata": {
    "scrolled": true
   },
   "outputs": [
    {
     "data": {
      "text/html": [
       "<div>\n",
       "<style scoped>\n",
       "    .dataframe tbody tr th:only-of-type {\n",
       "        vertical-align: middle;\n",
       "    }\n",
       "\n",
       "    .dataframe tbody tr th {\n",
       "        vertical-align: top;\n",
       "    }\n",
       "\n",
       "    .dataframe thead th {\n",
       "        text-align: right;\n",
       "    }\n",
       "</style>\n",
       "<table border=\"1\" class=\"dataframe\">\n",
       "  <thead>\n",
       "    <tr style=\"text-align: right;\">\n",
       "      <th></th>\n",
       "      <th>CRIM</th>\n",
       "      <th>ZN</th>\n",
       "      <th>INDUS</th>\n",
       "      <th>CHAS</th>\n",
       "      <th>NOX</th>\n",
       "      <th>RM</th>\n",
       "      <th>AGE</th>\n",
       "      <th>DIS</th>\n",
       "      <th>RAD</th>\n",
       "      <th>TAX</th>\n",
       "      <th>PTRATIO</th>\n",
       "      <th>B</th>\n",
       "      <th>LSTAT</th>\n",
       "      <th>Price</th>\n",
       "    </tr>\n",
       "  </thead>\n",
       "  <tbody>\n",
       "    <tr>\n",
       "      <th>0</th>\n",
       "      <td>0.00632</td>\n",
       "      <td>18.0</td>\n",
       "      <td>2.31</td>\n",
       "      <td>0.0</td>\n",
       "      <td>0.538</td>\n",
       "      <td>6.575</td>\n",
       "      <td>65.2</td>\n",
       "      <td>4.0900</td>\n",
       "      <td>1.0</td>\n",
       "      <td>296.0</td>\n",
       "      <td>15.3</td>\n",
       "      <td>396.90</td>\n",
       "      <td>4.98</td>\n",
       "      <td>24.0</td>\n",
       "    </tr>\n",
       "    <tr>\n",
       "      <th>1</th>\n",
       "      <td>0.02731</td>\n",
       "      <td>0.0</td>\n",
       "      <td>7.07</td>\n",
       "      <td>0.0</td>\n",
       "      <td>0.469</td>\n",
       "      <td>6.421</td>\n",
       "      <td>78.9</td>\n",
       "      <td>4.9671</td>\n",
       "      <td>2.0</td>\n",
       "      <td>242.0</td>\n",
       "      <td>17.8</td>\n",
       "      <td>396.90</td>\n",
       "      <td>9.14</td>\n",
       "      <td>21.6</td>\n",
       "    </tr>\n",
       "    <tr>\n",
       "      <th>2</th>\n",
       "      <td>0.02729</td>\n",
       "      <td>0.0</td>\n",
       "      <td>7.07</td>\n",
       "      <td>0.0</td>\n",
       "      <td>0.469</td>\n",
       "      <td>7.185</td>\n",
       "      <td>61.1</td>\n",
       "      <td>4.9671</td>\n",
       "      <td>2.0</td>\n",
       "      <td>242.0</td>\n",
       "      <td>17.8</td>\n",
       "      <td>392.83</td>\n",
       "      <td>4.03</td>\n",
       "      <td>34.7</td>\n",
       "    </tr>\n",
       "    <tr>\n",
       "      <th>3</th>\n",
       "      <td>0.03237</td>\n",
       "      <td>0.0</td>\n",
       "      <td>2.18</td>\n",
       "      <td>0.0</td>\n",
       "      <td>0.458</td>\n",
       "      <td>6.998</td>\n",
       "      <td>45.8</td>\n",
       "      <td>6.0622</td>\n",
       "      <td>3.0</td>\n",
       "      <td>222.0</td>\n",
       "      <td>18.7</td>\n",
       "      <td>394.63</td>\n",
       "      <td>2.94</td>\n",
       "      <td>33.4</td>\n",
       "    </tr>\n",
       "    <tr>\n",
       "      <th>4</th>\n",
       "      <td>0.06905</td>\n",
       "      <td>0.0</td>\n",
       "      <td>2.18</td>\n",
       "      <td>0.0</td>\n",
       "      <td>0.458</td>\n",
       "      <td>7.147</td>\n",
       "      <td>54.2</td>\n",
       "      <td>6.0622</td>\n",
       "      <td>3.0</td>\n",
       "      <td>222.0</td>\n",
       "      <td>18.7</td>\n",
       "      <td>396.90</td>\n",
       "      <td>5.33</td>\n",
       "      <td>36.2</td>\n",
       "    </tr>\n",
       "    <tr>\n",
       "      <th>...</th>\n",
       "      <td>...</td>\n",
       "      <td>...</td>\n",
       "      <td>...</td>\n",
       "      <td>...</td>\n",
       "      <td>...</td>\n",
       "      <td>...</td>\n",
       "      <td>...</td>\n",
       "      <td>...</td>\n",
       "      <td>...</td>\n",
       "      <td>...</td>\n",
       "      <td>...</td>\n",
       "      <td>...</td>\n",
       "      <td>...</td>\n",
       "      <td>...</td>\n",
       "    </tr>\n",
       "    <tr>\n",
       "      <th>501</th>\n",
       "      <td>0.06263</td>\n",
       "      <td>0.0</td>\n",
       "      <td>11.93</td>\n",
       "      <td>0.0</td>\n",
       "      <td>0.573</td>\n",
       "      <td>6.593</td>\n",
       "      <td>69.1</td>\n",
       "      <td>2.4786</td>\n",
       "      <td>1.0</td>\n",
       "      <td>273.0</td>\n",
       "      <td>21.0</td>\n",
       "      <td>391.99</td>\n",
       "      <td>9.67</td>\n",
       "      <td>22.4</td>\n",
       "    </tr>\n",
       "    <tr>\n",
       "      <th>502</th>\n",
       "      <td>0.04527</td>\n",
       "      <td>0.0</td>\n",
       "      <td>11.93</td>\n",
       "      <td>0.0</td>\n",
       "      <td>0.573</td>\n",
       "      <td>6.120</td>\n",
       "      <td>76.7</td>\n",
       "      <td>2.2875</td>\n",
       "      <td>1.0</td>\n",
       "      <td>273.0</td>\n",
       "      <td>21.0</td>\n",
       "      <td>396.90</td>\n",
       "      <td>9.08</td>\n",
       "      <td>20.6</td>\n",
       "    </tr>\n",
       "    <tr>\n",
       "      <th>503</th>\n",
       "      <td>0.06076</td>\n",
       "      <td>0.0</td>\n",
       "      <td>11.93</td>\n",
       "      <td>0.0</td>\n",
       "      <td>0.573</td>\n",
       "      <td>6.976</td>\n",
       "      <td>91.0</td>\n",
       "      <td>2.1675</td>\n",
       "      <td>1.0</td>\n",
       "      <td>273.0</td>\n",
       "      <td>21.0</td>\n",
       "      <td>396.90</td>\n",
       "      <td>5.64</td>\n",
       "      <td>23.9</td>\n",
       "    </tr>\n",
       "    <tr>\n",
       "      <th>504</th>\n",
       "      <td>0.10959</td>\n",
       "      <td>0.0</td>\n",
       "      <td>11.93</td>\n",
       "      <td>0.0</td>\n",
       "      <td>0.573</td>\n",
       "      <td>6.794</td>\n",
       "      <td>89.3</td>\n",
       "      <td>2.3889</td>\n",
       "      <td>1.0</td>\n",
       "      <td>273.0</td>\n",
       "      <td>21.0</td>\n",
       "      <td>393.45</td>\n",
       "      <td>6.48</td>\n",
       "      <td>22.0</td>\n",
       "    </tr>\n",
       "    <tr>\n",
       "      <th>505</th>\n",
       "      <td>0.04741</td>\n",
       "      <td>0.0</td>\n",
       "      <td>11.93</td>\n",
       "      <td>0.0</td>\n",
       "      <td>0.573</td>\n",
       "      <td>6.030</td>\n",
       "      <td>80.8</td>\n",
       "      <td>2.5050</td>\n",
       "      <td>1.0</td>\n",
       "      <td>273.0</td>\n",
       "      <td>21.0</td>\n",
       "      <td>396.90</td>\n",
       "      <td>7.88</td>\n",
       "      <td>11.9</td>\n",
       "    </tr>\n",
       "  </tbody>\n",
       "</table>\n",
       "<p>471 rows × 14 columns</p>\n",
       "</div>"
      ],
      "text/plain": [
       "        CRIM    ZN  INDUS  CHAS    NOX     RM   AGE     DIS  RAD    TAX  \\\n",
       "0    0.00632  18.0   2.31   0.0  0.538  6.575  65.2  4.0900  1.0  296.0   \n",
       "1    0.02731   0.0   7.07   0.0  0.469  6.421  78.9  4.9671  2.0  242.0   \n",
       "2    0.02729   0.0   7.07   0.0  0.469  7.185  61.1  4.9671  2.0  242.0   \n",
       "3    0.03237   0.0   2.18   0.0  0.458  6.998  45.8  6.0622  3.0  222.0   \n",
       "4    0.06905   0.0   2.18   0.0  0.458  7.147  54.2  6.0622  3.0  222.0   \n",
       "..       ...   ...    ...   ...    ...    ...   ...     ...  ...    ...   \n",
       "501  0.06263   0.0  11.93   0.0  0.573  6.593  69.1  2.4786  1.0  273.0   \n",
       "502  0.04527   0.0  11.93   0.0  0.573  6.120  76.7  2.2875  1.0  273.0   \n",
       "503  0.06076   0.0  11.93   0.0  0.573  6.976  91.0  2.1675  1.0  273.0   \n",
       "504  0.10959   0.0  11.93   0.0  0.573  6.794  89.3  2.3889  1.0  273.0   \n",
       "505  0.04741   0.0  11.93   0.0  0.573  6.030  80.8  2.5050  1.0  273.0   \n",
       "\n",
       "     PTRATIO       B  LSTAT  Price  \n",
       "0       15.3  396.90   4.98   24.0  \n",
       "1       17.8  396.90   9.14   21.6  \n",
       "2       17.8  392.83   4.03   34.7  \n",
       "3       18.7  394.63   2.94   33.4  \n",
       "4       18.7  396.90   5.33   36.2  \n",
       "..       ...     ...    ...    ...  \n",
       "501     21.0  391.99   9.67   22.4  \n",
       "502     21.0  396.90   9.08   20.6  \n",
       "503     21.0  396.90   5.64   23.9  \n",
       "504     21.0  393.45   6.48   22.0  \n",
       "505     21.0  396.90   7.88   11.9  \n",
       "\n",
       "[471 rows x 14 columns]"
      ]
     },
     "execution_count": 30,
     "metadata": {},
     "output_type": "execute_result"
    }
   ],
   "source": [
    "nr"
   ]
  },
  {
   "cell_type": "code",
   "execution_count": 31,
   "metadata": {},
   "outputs": [],
   "source": [
    "# Don't know if this is needed\n",
    "df1 = nr['Price']\n",
    "df2 = r['Price']"
   ]
  },
  {
   "cell_type": "code",
   "execution_count": 32,
   "metadata": {
    "scrolled": true
   },
   "outputs": [
    {
     "data": {
      "text/html": [
       "<div>\n",
       "<style scoped>\n",
       "    .dataframe tbody tr th:only-of-type {\n",
       "        vertical-align: middle;\n",
       "    }\n",
       "\n",
       "    .dataframe tbody tr th {\n",
       "        vertical-align: top;\n",
       "    }\n",
       "\n",
       "    .dataframe thead th {\n",
       "        text-align: right;\n",
       "    }\n",
       "</style>\n",
       "<table border=\"1\" class=\"dataframe\">\n",
       "  <thead>\n",
       "    <tr style=\"text-align: right;\">\n",
       "      <th></th>\n",
       "      <th>River Charles</th>\n",
       "      <th>price</th>\n",
       "    </tr>\n",
       "  </thead>\n",
       "  <tbody>\n",
       "    <tr>\n",
       "      <th>0</th>\n",
       "      <td>near</td>\n",
       "      <td>24.0</td>\n",
       "    </tr>\n",
       "    <tr>\n",
       "      <th>1</th>\n",
       "      <td>near</td>\n",
       "      <td>21.6</td>\n",
       "    </tr>\n",
       "    <tr>\n",
       "      <th>2</th>\n",
       "      <td>near</td>\n",
       "      <td>34.7</td>\n",
       "    </tr>\n",
       "    <tr>\n",
       "      <th>3</th>\n",
       "      <td>near</td>\n",
       "      <td>33.4</td>\n",
       "    </tr>\n",
       "    <tr>\n",
       "      <th>4</th>\n",
       "      <td>near</td>\n",
       "      <td>36.2</td>\n",
       "    </tr>\n",
       "    <tr>\n",
       "      <th>...</th>\n",
       "      <td>...</td>\n",
       "      <td>...</td>\n",
       "    </tr>\n",
       "    <tr>\n",
       "      <th>363</th>\n",
       "      <td>away</td>\n",
       "      <td>16.8</td>\n",
       "    </tr>\n",
       "    <tr>\n",
       "      <th>364</th>\n",
       "      <td>away</td>\n",
       "      <td>21.9</td>\n",
       "    </tr>\n",
       "    <tr>\n",
       "      <th>369</th>\n",
       "      <td>away</td>\n",
       "      <td>50.0</td>\n",
       "    </tr>\n",
       "    <tr>\n",
       "      <th>370</th>\n",
       "      <td>away</td>\n",
       "      <td>50.0</td>\n",
       "    </tr>\n",
       "    <tr>\n",
       "      <th>372</th>\n",
       "      <td>away</td>\n",
       "      <td>50.0</td>\n",
       "    </tr>\n",
       "  </tbody>\n",
       "</table>\n",
       "<p>506 rows × 2 columns</p>\n",
       "</div>"
      ],
      "text/plain": [
       "    River Charles  price\n",
       "0            near   24.0\n",
       "1            near   21.6\n",
       "2            near   34.7\n",
       "3            near   33.4\n",
       "4            near   36.2\n",
       "..            ...    ...\n",
       "363          away   16.8\n",
       "364          away   21.9\n",
       "369          away   50.0\n",
       "370          away   50.0\n",
       "372          away   50.0\n",
       "\n",
       "[506 rows x 2 columns]"
      ]
     },
     "execution_count": 32,
     "metadata": {},
     "output_type": "execute_result"
    }
   ],
   "source": [
    "# Don't know if this is needed\n",
    "df3 = pd.concat([df1,df2])\n",
    "river = ['near']*471 + ['away']*35\n",
    "df4 = pd.DataFrame({'River Charles': river, 'price': df3})\n",
    "df4"
   ]
  },
  {
   "cell_type": "code",
   "execution_count": 33,
   "metadata": {
    "scrolled": false
   },
   "outputs": [
    {
     "data": {
      "text/plain": [
       "142    13.4\n",
       "152    15.3\n",
       "154    17.0\n",
       "155    15.6\n",
       "160    27.0\n",
       "162    50.0\n",
       "163    50.0\n",
       "208    24.4\n",
       "209    20.0\n",
       "210    21.7\n",
       "211    19.3\n",
       "212    22.4\n",
       "216    23.3\n",
       "218    21.5\n",
       "219    23.0\n",
       "220    26.7\n",
       "221    21.7\n",
       "222    27.5\n",
       "234    29.0\n",
       "236    25.1\n",
       "269    20.7\n",
       "273    35.2\n",
       "274    32.4\n",
       "276    33.2\n",
       "277    33.1\n",
       "282    46.0\n",
       "283    50.0\n",
       "356    17.8\n",
       "357    21.7\n",
       "358    22.7\n",
       "363    16.8\n",
       "364    21.9\n",
       "369    50.0\n",
       "370    50.0\n",
       "372    50.0\n",
       "Name: price, dtype: float64"
      ]
     },
     "execution_count": 33,
     "metadata": {},
     "output_type": "execute_result"
    }
   ],
   "source": [
    "# Don't know if this is needed\n",
    "df4[df4['River Charles']=='away']['price']"
   ]
  },
  {
   "cell_type": "code",
   "execution_count": 34,
   "metadata": {},
   "outputs": [
    {
     "data": {
      "text/plain": [
       "<matplotlib.axes._subplots.AxesSubplot at 0x1edb8d9f888>"
      ]
     },
     "execution_count": 34,
     "metadata": {},
     "output_type": "execute_result"
    },
    {
     "data": {
      "image/png": "[encoded data removed]",
      "text/plain": [
       "<Figure size 864x576 with 1 Axes>"
      ]
     },
     "metadata": {},
     "output_type": "display_data"
    }
   ],
   "source": [
    "# plot of house prices that track the river\n",
    "sns.distplot(r['Price'],bins = 20, kde = False)"
   ]
  },
  {
   "cell_type": "code",
   "execution_count": 35,
   "metadata": {
    "scrolled": false
   },
   "outputs": [
    {
     "data": {
      "text/plain": [
       "<matplotlib.axes._subplots.AxesSubplot at 0x1edb8dcb248>"
      ]
     },
     "execution_count": 35,
     "metadata": {},
     "output_type": "execute_result"
    },
    {
     "data": {
      "image/png": "[encoded data removed]",
      "text/plain": [
       "<Figure size 864x576 with 1 Axes>"
      ]
     },
     "metadata": {},
     "output_type": "display_data"
    }
   ],
   "source": [
    "# plot for houses that do not track the river\n",
    "sns.distplot(nr['Price'], bins = 20, kde = False)"
   ]
  },
  {
   "cell_type": "code",
   "execution_count": 36,
   "metadata": {
    "scrolled": true
   },
   "outputs": [
    {
     "data": {
      "text/plain": [
       "<matplotlib.axes._subplots.AxesSubplot at 0x1edb8bb9408>"
      ]
     },
     "execution_count": 36,
     "metadata": {},
     "output_type": "execute_result"
    },
    {
     "data": {
      "image/png": "[encoded data removed]",
      "text/plain": [
       "<Figure size 864x576 with 1 Axes>"
      ]
     },
     "metadata": {},
     "output_type": "display_data"
    }
   ],
   "source": [
    "# Y axis shows density rather than count.\n",
    "sns.distplot(nr['Price'])\n",
    "sns.distplot(r['Price'], color = 'r' )"
   ]
  },
  {
   "cell_type": "markdown",
   "metadata": {},
   "source": [
    "### linear regression\n"
   ]
  },
  {
   "cell_type": "code",
   "execution_count": null,
   "metadata": {},
   "outputs": [],
   "source": []
  },
  {
   "cell_type": "code",
   "execution_count": null,
   "metadata": {},
   "outputs": [],
   "source": []
  },
  {
   "cell_type": "code",
   "execution_count": null,
   "metadata": {},
   "outputs": [],
   "source": []
  },
  {
   "cell_type": "code",
   "execution_count": 37,
   "metadata": {},
   "outputs": [],
   "source": [
    "import scipy.stats as stats"
   ]
  },
  {
   "cell_type": "code",
   "execution_count": 38,
   "metadata": {},
   "outputs": [
    {
     "name": "stdout",
     "output_type": "stream",
     "text": [
      "Ttest_indResult(statistic=-3.996437466090509, pvalue=7.390623170519905e-05)\n"
     ]
    }
   ],
   "source": [
    "print(stats.ttest_ind(nr['Price'], r['Price'] ))"
   ]
  },
  {
   "cell_type": "markdown",
   "metadata": {},
   "source": [
    "We get a very small pvalue lower that indicate that we reject the null hypothesis."
   ]
  },
  {
   "cell_type": "code",
   "execution_count": 39,
   "metadata": {},
   "outputs": [
    {
     "data": {
      "text/plain": [
       "F_onewayResult(statistic=15.971512420371955, pvalue=7.390623170520815e-05)"
      ]
     },
     "execution_count": 39,
     "metadata": {},
     "output_type": "execute_result"
    }
   ],
   "source": [
    "stats.f_oneway(nr['Price'], r['Price'])"
   ]
  },
  {
   "cell_type": "code",
   "execution_count": 40,
   "metadata": {},
   "outputs": [],
   "source": [
    "from sklearn.model_selection import train_test_split"
   ]
  },
  {
   "cell_type": "code",
   "execution_count": 41,
   "metadata": {},
   "outputs": [],
   "source": [
    "X = bdf[['Price','CRIM', 'ZN', 'INDUS', 'CHAS', 'NOX', 'RM', 'AGE', 'DIS', 'RAD', 'TAX', 'PTRATIO',\n",
    " 'B', 'LSTAT']]\n",
    "y = bdf['CHAS']\n"
   ]
  },
  {
   "cell_type": "code",
   "execution_count": 42,
   "metadata": {},
   "outputs": [],
   "source": [
    "X_train, X_test, y_train, y_test = train_test_split(X, y)\n"
   ]
  },
  {
   "cell_type": "code",
   "execution_count": 43,
   "metadata": {},
   "outputs": [],
   "source": [
    "from sklearn.linear_model import LogisticRegression"
   ]
  },
  {
   "cell_type": "code",
   "execution_count": 44,
   "metadata": {},
   "outputs": [
    {
     "name": "stderr",
     "output_type": "stream",
     "text": [
      "C:\\Users\\james\\Anaconda3\\lib\\site-packages\\sklearn\\linear_model\\logistic.py:432: FutureWarning: Default solver will be changed to 'lbfgs' in 0.22. Specify a solver to silence this warning.\n",
      "  FutureWarning)\n"
     ]
    },
    {
     "data": {
      "text/plain": [
       "LogisticRegression(C=1.0, class_weight=None, dual=False, fit_intercept=True,\n",
       "                   intercept_scaling=1, l1_ratio=None, max_iter=100,\n",
       "                   multi_class='warn', n_jobs=None, penalty='l2',\n",
       "                   random_state=None, solver='warn', tol=0.0001, verbose=0,\n",
       "                   warm_start=False)"
      ]
     },
     "execution_count": 44,
     "metadata": {},
     "output_type": "execute_result"
    }
   ],
   "source": [
    "logmodel = LogisticRegression()\n",
    "logmodel.fit(X_train,y_train)\n"
   ]
  },
  {
   "cell_type": "code",
   "execution_count": 45,
   "metadata": {},
   "outputs": [],
   "source": [
    "predictions = logmodel.predict(X_test)"
   ]
  },
  {
   "cell_type": "code",
   "execution_count": 46,
   "metadata": {},
   "outputs": [],
   "source": [
    "from sklearn.metrics import classification_report"
   ]
  },
  {
   "cell_type": "code",
   "execution_count": 47,
   "metadata": {},
   "outputs": [
    {
     "name": "stdout",
     "output_type": "stream",
     "text": [
      "              precision    recall  f1-score   support\n",
      "\n",
      "         0.0       1.00      1.00      1.00       123\n",
      "         1.0       1.00      1.00      1.00         4\n",
      "\n",
      "    accuracy                           1.00       127\n",
      "   macro avg       1.00      1.00      1.00       127\n",
      "weighted avg       1.00      1.00      1.00       127\n",
      "\n"
     ]
    }
   ],
   "source": [
    "print(classification_report(y_test,predictions))"
   ]
  },
  {
   "cell_type": "code",
   "execution_count": 48,
   "metadata": {},
   "outputs": [
    {
     "name": "stderr",
     "output_type": "stream",
     "text": [
      "Using TensorFlow backend.\n"
     ]
    }
   ],
   "source": [
    "import keras as kr"
   ]
  },
  {
   "cell_type": "code",
   "execution_count": 49,
   "metadata": {},
   "outputs": [],
   "source": [
    "import sklearn.preprocessing as pre\n",
    "# For splitting data sets\n",
    "import sklearn.model_selection as mod\n",
    "# For whitening\n",
    "import sklearn.decomposition as dec"
   ]
  },
  {
   "cell_type": "code",
   "execution_count": 50,
   "metadata": {},
   "outputs": [],
   "source": [
    "x = bdf[['CHAS','CRIM', 'ZN', 'INDUS', 'NOX', 'RM', 'AGE', 'DIS', 'RAD', 'TAX', 'PTRATIO', 'B', 'LSTAT']]\n",
    "y = bdf['Price']"
   ]
  },
  {
   "cell_type": "code",
   "execution_count": 51,
   "metadata": {},
   "outputs": [
    {
     "data": {
      "text/html": [
       "<div>\n",
       "<style scoped>\n",
       "    .dataframe tbody tr th:only-of-type {\n",
       "        vertical-align: middle;\n",
       "    }\n",
       "\n",
       "    .dataframe tbody tr th {\n",
       "        vertical-align: top;\n",
       "    }\n",
       "\n",
       "    .dataframe thead th {\n",
       "        text-align: right;\n",
       "    }\n",
       "</style>\n",
       "<table border=\"1\" class=\"dataframe\">\n",
       "  <thead>\n",
       "    <tr style=\"text-align: right;\">\n",
       "      <th></th>\n",
       "      <th>CHAS</th>\n",
       "      <th>CRIM</th>\n",
       "      <th>ZN</th>\n",
       "      <th>INDUS</th>\n",
       "      <th>NOX</th>\n",
       "      <th>RM</th>\n",
       "      <th>AGE</th>\n",
       "      <th>DIS</th>\n",
       "      <th>RAD</th>\n",
       "      <th>TAX</th>\n",
       "      <th>PTRATIO</th>\n",
       "      <th>B</th>\n",
       "      <th>LSTAT</th>\n",
       "    </tr>\n",
       "  </thead>\n",
       "  <tbody>\n",
       "    <tr>\n",
       "      <th>0</th>\n",
       "      <td>0.0</td>\n",
       "      <td>0.00632</td>\n",
       "      <td>18.0</td>\n",
       "      <td>2.31</td>\n",
       "      <td>0.538</td>\n",
       "      <td>6.575</td>\n",
       "      <td>65.2</td>\n",
       "      <td>4.0900</td>\n",
       "      <td>1.0</td>\n",
       "      <td>296.0</td>\n",
       "      <td>15.3</td>\n",
       "      <td>396.90</td>\n",
       "      <td>4.98</td>\n",
       "    </tr>\n",
       "    <tr>\n",
       "      <th>1</th>\n",
       "      <td>0.0</td>\n",
       "      <td>0.02731</td>\n",
       "      <td>0.0</td>\n",
       "      <td>7.07</td>\n",
       "      <td>0.469</td>\n",
       "      <td>6.421</td>\n",
       "      <td>78.9</td>\n",
       "      <td>4.9671</td>\n",
       "      <td>2.0</td>\n",
       "      <td>242.0</td>\n",
       "      <td>17.8</td>\n",
       "      <td>396.90</td>\n",
       "      <td>9.14</td>\n",
       "    </tr>\n",
       "    <tr>\n",
       "      <th>2</th>\n",
       "      <td>0.0</td>\n",
       "      <td>0.02729</td>\n",
       "      <td>0.0</td>\n",
       "      <td>7.07</td>\n",
       "      <td>0.469</td>\n",
       "      <td>7.185</td>\n",
       "      <td>61.1</td>\n",
       "      <td>4.9671</td>\n",
       "      <td>2.0</td>\n",
       "      <td>242.0</td>\n",
       "      <td>17.8</td>\n",
       "      <td>392.83</td>\n",
       "      <td>4.03</td>\n",
       "    </tr>\n",
       "    <tr>\n",
       "      <th>3</th>\n",
       "      <td>0.0</td>\n",
       "      <td>0.03237</td>\n",
       "      <td>0.0</td>\n",
       "      <td>2.18</td>\n",
       "      <td>0.458</td>\n",
       "      <td>6.998</td>\n",
       "      <td>45.8</td>\n",
       "      <td>6.0622</td>\n",
       "      <td>3.0</td>\n",
       "      <td>222.0</td>\n",
       "      <td>18.7</td>\n",
       "      <td>394.63</td>\n",
       "      <td>2.94</td>\n",
       "    </tr>\n",
       "    <tr>\n",
       "      <th>4</th>\n",
       "      <td>0.0</td>\n",
       "      <td>0.06905</td>\n",
       "      <td>0.0</td>\n",
       "      <td>2.18</td>\n",
       "      <td>0.458</td>\n",
       "      <td>7.147</td>\n",
       "      <td>54.2</td>\n",
       "      <td>6.0622</td>\n",
       "      <td>3.0</td>\n",
       "      <td>222.0</td>\n",
       "      <td>18.7</td>\n",
       "      <td>396.90</td>\n",
       "      <td>5.33</td>\n",
       "    </tr>\n",
       "    <tr>\n",
       "      <th>...</th>\n",
       "      <td>...</td>\n",
       "      <td>...</td>\n",
       "      <td>...</td>\n",
       "      <td>...</td>\n",
       "      <td>...</td>\n",
       "      <td>...</td>\n",
       "      <td>...</td>\n",
       "      <td>...</td>\n",
       "      <td>...</td>\n",
       "      <td>...</td>\n",
       "      <td>...</td>\n",
       "      <td>...</td>\n",
       "      <td>...</td>\n",
       "    </tr>\n",
       "    <tr>\n",
       "      <th>501</th>\n",
       "      <td>0.0</td>\n",
       "      <td>0.06263</td>\n",
       "      <td>0.0</td>\n",
       "      <td>11.93</td>\n",
       "      <td>0.573</td>\n",
       "      <td>6.593</td>\n",
       "      <td>69.1</td>\n",
       "      <td>2.4786</td>\n",
       "      <td>1.0</td>\n",
       "      <td>273.0</td>\n",
       "      <td>21.0</td>\n",
       "      <td>391.99</td>\n",
       "      <td>9.67</td>\n",
       "    </tr>\n",
       "    <tr>\n",
       "      <th>502</th>\n",
       "      <td>0.0</td>\n",
       "      <td>0.04527</td>\n",
       "      <td>0.0</td>\n",
       "      <td>11.93</td>\n",
       "      <td>0.573</td>\n",
       "      <td>6.120</td>\n",
       "      <td>76.7</td>\n",
       "      <td>2.2875</td>\n",
       "      <td>1.0</td>\n",
       "      <td>273.0</td>\n",
       "      <td>21.0</td>\n",
       "      <td>396.90</td>\n",
       "      <td>9.08</td>\n",
       "    </tr>\n",
       "    <tr>\n",
       "      <th>503</th>\n",
       "      <td>0.0</td>\n",
       "      <td>0.06076</td>\n",
       "      <td>0.0</td>\n",
       "      <td>11.93</td>\n",
       "      <td>0.573</td>\n",
       "      <td>6.976</td>\n",
       "      <td>91.0</td>\n",
       "      <td>2.1675</td>\n",
       "      <td>1.0</td>\n",
       "      <td>273.0</td>\n",
       "      <td>21.0</td>\n",
       "      <td>396.90</td>\n",
       "      <td>5.64</td>\n",
       "    </tr>\n",
       "    <tr>\n",
       "      <th>504</th>\n",
       "      <td>0.0</td>\n",
       "      <td>0.10959</td>\n",
       "      <td>0.0</td>\n",
       "      <td>11.93</td>\n",
       "      <td>0.573</td>\n",
       "      <td>6.794</td>\n",
       "      <td>89.3</td>\n",
       "      <td>2.3889</td>\n",
       "      <td>1.0</td>\n",
       "      <td>273.0</td>\n",
       "      <td>21.0</td>\n",
       "      <td>393.45</td>\n",
       "      <td>6.48</td>\n",
       "    </tr>\n",
       "    <tr>\n",
       "      <th>505</th>\n",
       "      <td>0.0</td>\n",
       "      <td>0.04741</td>\n",
       "      <td>0.0</td>\n",
       "      <td>11.93</td>\n",
       "      <td>0.573</td>\n",
       "      <td>6.030</td>\n",
       "      <td>80.8</td>\n",
       "      <td>2.5050</td>\n",
       "      <td>1.0</td>\n",
       "      <td>273.0</td>\n",
       "      <td>21.0</td>\n",
       "      <td>396.90</td>\n",
       "      <td>7.88</td>\n",
       "    </tr>\n",
       "  </tbody>\n",
       "</table>\n",
       "<p>506 rows × 13 columns</p>\n",
       "</div>"
      ],
      "text/plain": [
       "     CHAS     CRIM    ZN  INDUS    NOX     RM   AGE     DIS  RAD    TAX  \\\n",
       "0     0.0  0.00632  18.0   2.31  0.538  6.575  65.2  4.0900  1.0  296.0   \n",
       "1     0.0  0.02731   0.0   7.07  0.469  6.421  78.9  4.9671  2.0  242.0   \n",
       "2     0.0  0.02729   0.0   7.07  0.469  7.185  61.1  4.9671  2.0  242.0   \n",
       "3     0.0  0.03237   0.0   2.18  0.458  6.998  45.8  6.0622  3.0  222.0   \n",
       "4     0.0  0.06905   0.0   2.18  0.458  7.147  54.2  6.0622  3.0  222.0   \n",
       "..    ...      ...   ...    ...    ...    ...   ...     ...  ...    ...   \n",
       "501   0.0  0.06263   0.0  11.93  0.573  6.593  69.1  2.4786  1.0  273.0   \n",
       "502   0.0  0.04527   0.0  11.93  0.573  6.120  76.7  2.2875  1.0  273.0   \n",
       "503   0.0  0.06076   0.0  11.93  0.573  6.976  91.0  2.1675  1.0  273.0   \n",
       "504   0.0  0.10959   0.0  11.93  0.573  6.794  89.3  2.3889  1.0  273.0   \n",
       "505   0.0  0.04741   0.0  11.93  0.573  6.030  80.8  2.5050  1.0  273.0   \n",
       "\n",
       "     PTRATIO       B  LSTAT  \n",
       "0       15.3  396.90   4.98  \n",
       "1       17.8  396.90   9.14  \n",
       "2       17.8  392.83   4.03  \n",
       "3       18.7  394.63   2.94  \n",
       "4       18.7  396.90   5.33  \n",
       "..       ...     ...    ...  \n",
       "501     21.0  391.99   9.67  \n",
       "502     21.0  396.90   9.08  \n",
       "503     21.0  396.90   5.64  \n",
       "504     21.0  393.45   6.48  \n",
       "505     21.0  396.90   7.88  \n",
       "\n",
       "[506 rows x 13 columns]"
      ]
     },
     "execution_count": 51,
     "metadata": {},
     "output_type": "execute_result"
    }
   ],
   "source": [
    "x"
   ]
  },
  {
   "cell_type": "code",
   "execution_count": 52,
   "metadata": {},
   "outputs": [],
   "source": [
    "x_train, x_test, y_train, y_test = mod.train_test_split(x, y, test_size=0.2)"
   ]
  },
  {
   "cell_type": "markdown",
   "metadata": {},
   "source": [
    "### Building and Training"
   ]
  },
  {
   "cell_type": "code",
   "execution_count": 53,
   "metadata": {},
   "outputs": [],
   "source": [
    "m = kr.models.Sequential()\n"
   ]
  },
  {
   "cell_type": "code",
   "execution_count": 54,
   "metadata": {},
   "outputs": [],
   "source": [
    "m.add(kr.layers.Dense(20, input_dim=13, activation=\"relu\"))\n",
    "m.add(kr.layers.Dense(1, activation=\"linear\"))\n",
    "m.compile(loss=\"mean_squared_error\", optimizer=\"adam\")"
   ]
  },
  {
   "cell_type": "code",
   "execution_count": 55,
   "metadata": {},
   "outputs": [
    {
     "name": "stdout",
     "output_type": "stream",
     "text": [
      "Epoch 1/100\n",
      "404/404 [==============================] - 0s 1ms/step - loss: 7262.6819\n",
      "Epoch 2/100\n",
      "404/404 [==============================] - 0s 133us/step - loss: 2740.4123\n",
      "Epoch 3/100\n",
      "404/404 [==============================] - 0s 175us/step - loss: 844.8959\n",
      "Epoch 4/100\n",
      "404/404 [==============================] - 0s 126us/step - loss: 174.1428\n",
      "Epoch 5/100\n",
      "404/404 [==============================] - 0s 141us/step - loss: 97.9642\n",
      "Epoch 6/100\n",
      "404/404 [==============================] - 0s 123us/step - loss: 83.0233\n",
      "Epoch 7/100\n",
      "404/404 [==============================] - 0s 158us/step - loss: 73.8240\n",
      "Epoch 8/100\n",
      "404/404 [==============================] - 0s 116us/step - loss: 66.6185\n",
      "Epoch 9/100\n",
      "404/404 [==============================] - 0s 148us/step - loss: 61.2370\n",
      "Epoch 10/100\n",
      "404/404 [==============================] - 0s 138us/step - loss: 58.9600\n",
      "Epoch 11/100\n",
      "404/404 [==============================] - 0s 242us/step - loss: 58.4965\n",
      "Epoch 12/100\n",
      "404/404 [==============================] - 0s 200us/step - loss: 53.3626\n",
      "Epoch 13/100\n",
      "404/404 [==============================] - 0s 584us/step - loss: 51.4854\n",
      "Epoch 14/100\n",
      "404/404 [==============================] - 0s 368us/step - loss: 49.5299\n",
      "Epoch 15/100\n",
      "404/404 [==============================] - 0s 133us/step - loss: 49.6313\n",
      "Epoch 16/100\n",
      "404/404 [==============================] - 0s 193us/step - loss: 47.6069\n",
      "Epoch 17/100\n",
      "404/404 [==============================] - 0s 289us/step - loss: 48.8346\n",
      "Epoch 18/100\n",
      "404/404 [==============================] - 0s 378us/step - loss: 48.9025\n",
      "Epoch 19/100\n",
      "404/404 [==============================] - 0s 237us/step - loss: 46.0027\n",
      "Epoch 20/100\n",
      "404/404 [==============================] - 0s 148us/step - loss: 43.4945\n",
      "Epoch 21/100\n",
      "404/404 [==============================] - 0s 252us/step - loss: 43.0319\n",
      "Epoch 22/100\n",
      "404/404 [==============================] - 0s 272us/step - loss: 43.1453\n",
      "Epoch 23/100\n",
      "404/404 [==============================] - 0s 222us/step - loss: 41.4430\n",
      "Epoch 24/100\n",
      "404/404 [==============================] - 0s 294us/step - loss: 41.2380\n",
      "Epoch 25/100\n",
      "404/404 [==============================] - 0s 323us/step - loss: 42.0985\n",
      "Epoch 26/100\n",
      "404/404 [==============================] - 0s 193us/step - loss: 40.7272\n",
      "Epoch 27/100\n",
      "404/404 [==============================] - 0s 262us/step - loss: 39.9362\n",
      "Epoch 28/100\n",
      "404/404 [==============================] - 0s 254us/step - loss: 42.6583\n",
      "Epoch 29/100\n",
      "404/404 [==============================] - 0s 400us/step - loss: 39.6516\n",
      "Epoch 30/100\n",
      "404/404 [==============================] - 0s 459us/step - loss: 39.0585\n",
      "Epoch 31/100\n",
      "404/404 [==============================] - 0s 449us/step - loss: 38.5394\n",
      "Epoch 32/100\n",
      "404/404 [==============================] - 0s 207us/step - loss: 37.9969\n",
      "Epoch 33/100\n",
      "404/404 [==============================] - 0s 190us/step - loss: 40.8463\n",
      "Epoch 34/100\n",
      "404/404 [==============================] - 0s 237us/step - loss: 37.7735\n",
      "Epoch 35/100\n",
      "404/404 [==============================] - 0s 511us/step - loss: 37.8966\n",
      "Epoch 36/100\n",
      "404/404 [==============================] - 0s 341us/step - loss: 37.7633\n",
      "Epoch 37/100\n",
      "404/404 [==============================] - 0s 410us/step - loss: 37.4724\n",
      "Epoch 38/100\n",
      "404/404 [==============================] - 0s 462us/step - loss: 37.3112\n",
      "Epoch 39/100\n",
      "404/404 [==============================] - 0s 321us/step - loss: 36.2336\n",
      "Epoch 40/100\n",
      "404/404 [==============================] - 0s 242us/step - loss: 36.6599\n",
      "Epoch 41/100\n",
      "404/404 [==============================] - 0s 318us/step - loss: 35.8705\n",
      "Epoch 42/100\n",
      "404/404 [==============================] - 0s 306us/step - loss: 37.5014\n",
      "Epoch 43/100\n",
      "404/404 [==============================] - 0s 254us/step - loss: 35.5212\n",
      "Epoch 44/100\n",
      "404/404 [==============================] - 0s 296us/step - loss: 36.8794\n",
      "Epoch 45/100\n",
      "404/404 [==============================] - 0s 323us/step - loss: 36.5154\n",
      "Epoch 46/100\n",
      "404/404 [==============================] - 0s 264us/step - loss: 35.3149\n",
      "Epoch 47/100\n",
      "404/404 [==============================] - 0s 254us/step - loss: 35.3393\n",
      "Epoch 48/100\n",
      "404/404 [==============================] - 0s 289us/step - loss: 36.4385\n",
      "Epoch 49/100\n",
      "404/404 [==============================] - 0s 289us/step - loss: 34.2865\n",
      "Epoch 50/100\n",
      "404/404 [==============================] - 0s 353us/step - loss: 34.3083\n",
      "Epoch 51/100\n",
      "404/404 [==============================] - 0s 370us/step - loss: 34.9822\n",
      "Epoch 52/100\n",
      "404/404 [==============================] - 0s 289us/step - loss: 33.4204\n",
      "Epoch 53/100\n",
      "404/404 [==============================] - 0s 294us/step - loss: 33.6811\n",
      "Epoch 54/100\n",
      "404/404 [==============================] - 0s 257us/step - loss: 33.4197\n",
      "Epoch 55/100\n",
      "404/404 [==============================] - 0s 257us/step - loss: 34.0561\n",
      "Epoch 56/100\n",
      "404/404 [==============================] - 0s 528us/step - loss: 32.3939\n",
      "Epoch 57/100\n",
      "404/404 [==============================] - 0s 321us/step - loss: 36.6887\n",
      "Epoch 58/100\n",
      "404/404 [==============================] - 0s 343us/step - loss: 34.6079\n",
      "Epoch 59/100\n",
      "404/404 [==============================] - 0s 281us/step - loss: 32.5461\n",
      "Epoch 60/100\n",
      "404/404 [==============================] - 0s 163us/step - loss: 35.3446\n",
      "Epoch 61/100\n",
      "404/404 [==============================] - 0s 165us/step - loss: 33.2304\n",
      "Epoch 62/100\n",
      "404/404 [==============================] - 0s 148us/step - loss: 34.0159\n",
      "Epoch 63/100\n",
      "404/404 [==============================] - 0s 215us/step - loss: 31.5664\n",
      "Epoch 64/100\n",
      "404/404 [==============================] - 0s 168us/step - loss: 31.8723\n",
      "Epoch 65/100\n",
      "404/404 [==============================] - 0s 148us/step - loss: 31.7003\n",
      "Epoch 66/100\n",
      "404/404 [==============================] - 0s 138us/step - loss: 32.6891\n",
      "Epoch 67/100\n",
      "404/404 [==============================] - 0s 348us/step - loss: 32.3388\n",
      "Epoch 68/100\n",
      "404/404 [==============================] - 0s 412us/step - loss: 33.3346\n",
      "Epoch 69/100\n",
      "404/404 [==============================] - 0s 225us/step - loss: 31.5057\n",
      "Epoch 70/100\n",
      "404/404 [==============================] - 0s 205us/step - loss: 32.4074\n",
      "Epoch 71/100\n",
      "404/404 [==============================] - 0s 153us/step - loss: 34.7130\n",
      "Epoch 72/100\n",
      "404/404 [==============================] - 0s 168us/step - loss: 31.8988\n",
      "Epoch 73/100\n",
      "404/404 [==============================] - 0s 205us/step - loss: 32.5100\n",
      "Epoch 74/100\n",
      "404/404 [==============================] - 0s 200us/step - loss: 31.8242\n",
      "Epoch 75/100\n",
      "404/404 [==============================] - 0s 158us/step - loss: 30.4587\n",
      "Epoch 76/100\n",
      "404/404 [==============================] - 0s 143us/step - loss: 31.0412\n",
      "Epoch 77/100\n",
      "404/404 [==============================] - 0s 153us/step - loss: 33.7256\n",
      "Epoch 78/100\n",
      "404/404 [==============================] - 0s 210us/step - loss: 29.3036\n",
      "Epoch 79/100\n",
      "404/404 [==============================] - 0s 249us/step - loss: 32.5507\n",
      "Epoch 80/100\n",
      "404/404 [==============================] - 0s 343us/step - loss: 30.6790\n",
      "Epoch 81/100\n",
      "404/404 [==============================] - 0s 397us/step - loss: 29.5594\n",
      "Epoch 82/100\n",
      "404/404 [==============================] - 0s 467us/step - loss: 29.4966\n",
      "Epoch 83/100\n",
      "404/404 [==============================] - 0s 200us/step - loss: 29.6691\n",
      "Epoch 84/100\n",
      "404/404 [==============================] - 0s 202us/step - loss: 29.7612\n",
      "Epoch 85/100\n",
      "404/404 [==============================] - 0s 249us/step - loss: 29.3641\n",
      "Epoch 86/100\n",
      "404/404 [==============================] - 0s 190us/step - loss: 28.9067\n",
      "Epoch 87/100\n",
      "404/404 [==============================] - 0s 235us/step - loss: 32.7846\n",
      "Epoch 88/100\n",
      "404/404 [==============================] - 0s 143us/step - loss: 28.1284\n",
      "Epoch 89/100\n",
      "404/404 [==============================] - 0s 148us/step - loss: 31.0351\n",
      "Epoch 90/100\n",
      "404/404 [==============================] - 0s 175us/step - loss: 38.4823\n",
      "Epoch 91/100\n",
      "404/404 [==============================] - 0s 121us/step - loss: 33.5564\n",
      "Epoch 92/100\n",
      "404/404 [==============================] - 0s 128us/step - loss: 33.0011\n",
      "Epoch 93/100\n",
      "404/404 [==============================] - 0s 104us/step - loss: 28.2601\n",
      "Epoch 94/100\n",
      "404/404 [==============================] - 0s 101us/step - loss: 28.4127\n",
      "Epoch 95/100\n",
      "404/404 [==============================] - 0s 106us/step - loss: 30.8847\n",
      "Epoch 96/100\n"
     ]
    },
    {
     "name": "stdout",
     "output_type": "stream",
     "text": [
      "404/404 [==============================] - 0s 126us/step - loss: 27.8436\n",
      "Epoch 97/100\n",
      "404/404 [==============================] - 0s 205us/step - loss: 27.1211\n",
      "Epoch 98/100\n",
      "404/404 [==============================] - 0s 128us/step - loss: 27.9814\n",
      "Epoch 99/100\n",
      "404/404 [==============================] - 0s 128us/step - loss: 28.5727\n",
      "Epoch 100/100\n",
      "404/404 [==============================] - 0s 202us/step - loss: 29.5045\n"
     ]
    },
    {
     "data": {
      "text/plain": [
       "<keras.callbacks.callbacks.History at 0x1edc1e41ac8>"
      ]
     },
     "execution_count": 55,
     "metadata": {},
     "output_type": "execute_result"
    }
   ],
   "source": [
    "m.fit(x_train, y_train, epochs=100, batch_size=10)"
   ]
  },
  {
   "cell_type": "code",
   "execution_count": 56,
   "metadata": {},
   "outputs": [
    {
     "data": {
      "text/plain": [
       "array([[22., 36., 17., 20., 26., 27., 28., 18., 22., 19., 28., 12., 25.,\n",
       "        22., 27., 14., 20.,  3., 33., 32., 13., 24., 31., 26., 30., 23.,\n",
       "        20., 21., 14.,  9., 27., 17., 22., 25., 22., 23., 25., 31., 26.,\n",
       "        40., 23., 27., 27., 31., 18., 38., 29., 26., 13., 18., 28., 10.,\n",
       "        25., 17., 32., 36., 19., 25., 17., 28., 20., 24., 24., 23., 33.,\n",
       "        25., 24., 15., 12.,  9., 25., 14., 22.,  9., 27., 23., 19., 19.,\n",
       "        23., 21., 18., 26., 29., 18., 24., 26., 15., 18., 15., 17., 21.,\n",
       "        37., 22., 21., 15., 31., 32., 27., 23., 38., 29., 25.]],\n",
       "      dtype=float32)"
      ]
     },
     "execution_count": 56,
     "metadata": {},
     "output_type": "execute_result"
    }
   ],
   "source": [
    "m.predict(x_test).round().T"
   ]
  },
  {
   "cell_type": "code",
   "execution_count": 57,
   "metadata": {},
   "outputs": [
    {
     "name": "stderr",
     "output_type": "stream",
     "text": [
      "C:\\Users\\james\\Anaconda3\\lib\\site-packages\\ipykernel_launcher.py:1: FutureWarning: Method .as_matrix will be removed in a future version. Use .values instead.\n",
      "  \"\"\"Entry point for launching an IPython kernel.\n"
     ]
    },
    {
     "data": {
      "text/plain": [
       "array([19.4, 46. , 11.5, 21.2, 20.6, 24.4, 20.6, 16.2, 19.7, 13.4, 25. ,\n",
       "       11.9, 23.3, 19.6, 21.9, 15.6, 15.2,  7. , 33.8, 31.7, 11. , 22.9,\n",
       "       33.1, 19.4, 42.8, 21.2, 19.8, 22.2,  8.7, 16.5, 23.8, 13.4, 24.5,\n",
       "       25. , 23.4, 15. , 20.9, 28.4, 22.7, 50. , 20.3, 23.7, 22.6, 24. ,\n",
       "       17.5, 50. , 36.2, 50. ,  7.2, 17.1, 25. , 13.5, 23. , 18.3, 35.4,\n",
       "       37.6, 18.9, 23.9, 23.1, 23.8, 19.9, 24.2, 20.6, 18.2, 30.8, 22. ,\n",
       "       16.2, 12.3, 12.7,  6.3, 25. , 14. , 20.9, 14.4, 24.3, 27.9, 19.4,\n",
       "       14.6, 20.3, 20.1, 17.4, 28.6, 50. , 13.8, 28.1, 27.1, 15.6, 12.1,\n",
       "       11.3, 13.1, 18.8, 50. , 22.2, 19.1, 12.7, 23.6, 32.9, 24.8, 16.8,\n",
       "       50. , 29. , 24.1], dtype=float32)"
      ]
     },
     "execution_count": 57,
     "metadata": {},
     "output_type": "execute_result"
    }
   ],
   "source": [
    "y_test.as_matrix().astype(np.float32)"
   ]
  },
  {
   "cell_type": "code",
   "execution_count": 58,
   "metadata": {},
   "outputs": [
    {
     "name": "stdout",
     "output_type": "stream",
     "text": [
      "102/102 [==============================] - 0s 401us/step\n"
     ]
    },
    {
     "data": {
      "text/plain": [
       "30.46151221032236"
      ]
     },
     "execution_count": 58,
     "metadata": {},
     "output_type": "execute_result"
    }
   ],
   "source": [
    "m.evaluate(x_test, y_test)"
   ]
  },
  {
   "cell_type": "code",
   "execution_count": 59,
   "metadata": {},
   "outputs": [],
   "source": [
    "scaler = pre.StandardScaler()\n",
    "scaler.fit(x_train)\n",
    "x_train_scaled = scaler.transform(x_train)"
   ]
  },
  {
   "cell_type": "code",
   "execution_count": 60,
   "metadata": {},
   "outputs": [],
   "source": [
    "m = kr.models.Sequential()\n",
    "\n",
    "m.add(kr.layers.Dense(20, input_dim=4, activation=\"relu\"))\n",
    "m.add(kr.layers.Dense(1, activation=\"linear\"))\n",
    "\n",
    "m.compile(loss=\"mean_squared_error\", optimizer=\"adam\")"
   ]
  },
  {
   "cell_type": "markdown",
   "metadata": {},
   "source": [
    "### Scaling"
   ]
  },
  {
   "cell_type": "code",
   "execution_count": 61,
   "metadata": {},
   "outputs": [],
   "source": [
    "scaler = pre.StandardScaler()\n",
    "scaler.fit(x_train)\n",
    "x_train_scaled = scaler.transform(x_train)"
   ]
  },
  {
   "cell_type": "code",
   "execution_count": 62,
   "metadata": {},
   "outputs": [],
   "source": [
    "m = kr.models.Sequential()\n",
    "\n",
    "m.add(kr.layers.Dense(20, input_dim=13, activation=\"relu\"))\n",
    "m.add(kr.layers.Dense(1, activation=\"linear\"))\n",
    "\n",
    "m.compile(loss=\"mean_squared_error\", optimizer=\"adam\")"
   ]
  },
  {
   "cell_type": "code",
   "execution_count": 63,
   "metadata": {},
   "outputs": [
    {
     "name": "stdout",
     "output_type": "stream",
     "text": [
      "Epoch 1/100\n",
      "404/404 [==============================] - 0s 867us/step - loss: 552.0906\n",
      "Epoch 2/100\n",
      "404/404 [==============================] - 0s 197us/step - loss: 517.0160\n",
      "Epoch 3/100\n",
      "404/404 [==============================] - 0s 126us/step - loss: 476.5001\n",
      "Epoch 4/100\n",
      "404/404 [==============================] - 0s 141us/step - loss: 427.3421\n",
      "Epoch 5/100\n",
      "404/404 [==============================] - 0s 116us/step - loss: 371.0248\n",
      "Epoch 6/100\n",
      "404/404 [==============================] - 0s 106us/step - loss: 312.7899\n",
      "Epoch 7/100\n",
      "404/404 [==============================] - 0s 114us/step - loss: 255.5865\n",
      "Epoch 8/100\n",
      "404/404 [==============================] - 0s 121us/step - loss: 204.2729\n",
      "Epoch 9/100\n",
      "404/404 [==============================] - 0s 146us/step - loss: 162.6208\n",
      "Epoch 10/100\n",
      "404/404 [==============================] - 0s 116us/step - loss: 129.2492\n",
      "Epoch 11/100\n",
      "404/404 [==============================] - 0s 114us/step - loss: 104.8436\n",
      "Epoch 12/100\n",
      "404/404 [==============================] - 0s 109us/step - loss: 86.4686\n",
      "Epoch 13/100\n",
      "404/404 [==============================] - 0s 109us/step - loss: 73.0336\n",
      "Epoch 14/100\n",
      "404/404 [==============================] - 0s 126us/step - loss: 62.3883\n",
      "Epoch 15/100\n",
      "404/404 [==============================] - 0s 123us/step - loss: 54.2770\n",
      "Epoch 16/100\n",
      "404/404 [==============================] - 0s 146us/step - loss: 47.6770\n",
      "Epoch 17/100\n",
      "404/404 [==============================] - 0s 128us/step - loss: 42.5751\n",
      "Epoch 18/100\n",
      "404/404 [==============================] - 0s 126us/step - loss: 38.4328\n",
      "Epoch 19/100\n",
      "404/404 [==============================] - 0s 126us/step - loss: 35.1411\n",
      "Epoch 20/100\n",
      "404/404 [==============================] - 0s 173us/step - loss: 32.7233\n",
      "Epoch 21/100\n",
      "404/404 [==============================] - 0s 131us/step - loss: 30.7444\n",
      "Epoch 22/100\n",
      "404/404 [==============================] - 0s 121us/step - loss: 29.2167\n",
      "Epoch 23/100\n",
      "404/404 [==============================] - 0s 118us/step - loss: 28.0452\n",
      "Epoch 24/100\n",
      "404/404 [==============================] - 0s 121us/step - loss: 27.0630\n",
      "Epoch 25/100\n",
      "404/404 [==============================] - 0s 212us/step - loss: 26.3565\n",
      "Epoch 26/100\n",
      "404/404 [==============================] - 0s 118us/step - loss: 25.6373\n",
      "Epoch 27/100\n",
      "404/404 [==============================] - 0s 133us/step - loss: 25.0551\n",
      "Epoch 28/100\n",
      "404/404 [==============================] - 0s 146us/step - loss: 24.5977\n",
      "Epoch 29/100\n",
      "404/404 [==============================] - 0s 160us/step - loss: 24.1681\n",
      "Epoch 30/100\n",
      "404/404 [==============================] - 0s 220us/step - loss: 23.7773\n",
      "Epoch 31/100\n",
      "404/404 [==============================] - 0s 197us/step - loss: 23.3917\n",
      "Epoch 32/100\n",
      "404/404 [==============================] - 0s 215us/step - loss: 23.0766\n",
      "Epoch 33/100\n",
      "404/404 [==============================] - 0s 180us/step - loss: 22.7085\n",
      "Epoch 34/100\n",
      "404/404 [==============================] - 0s 207us/step - loss: 22.3969\n",
      "Epoch 35/100\n",
      "404/404 [==============================] - 0s 341us/step - loss: 22.0730\n",
      "Epoch 36/100\n",
      "404/404 [==============================] - 0s 395us/step - loss: 21.8294\n",
      "Epoch 37/100\n",
      "404/404 [==============================] - 0s 239us/step - loss: 21.5291\n",
      "Epoch 38/100\n",
      "404/404 [==============================] - 0s 175us/step - loss: 21.3027\n",
      "Epoch 39/100\n",
      "404/404 [==============================] - 0s 272us/step - loss: 20.9727\n",
      "Epoch 40/100\n",
      "404/404 [==============================] - 0s 215us/step - loss: 20.6948\n",
      "Epoch 41/100\n",
      "404/404 [==============================] - 0s 148us/step - loss: 20.3981\n",
      "Epoch 42/100\n",
      "404/404 [==============================] - 0s 146us/step - loss: 20.1407\n",
      "Epoch 43/100\n",
      "404/404 [==============================] - 0s 175us/step - loss: 19.9744\n",
      "Epoch 44/100\n",
      "404/404 [==============================] - 0s 205us/step - loss: 19.6568\n",
      "Epoch 45/100\n",
      "404/404 [==============================] - 0s 156us/step - loss: 19.4581\n",
      "Epoch 46/100\n",
      "404/404 [==============================] - 0s 151us/step - loss: 19.2414\n",
      "Epoch 47/100\n",
      "404/404 [==============================] - 0s 141us/step - loss: 18.9994\n",
      "Epoch 48/100\n",
      "404/404 [==============================] - 0s 143us/step - loss: 18.7491\n",
      "Epoch 49/100\n",
      "404/404 [==============================] - 0s 183us/step - loss: 18.4907\n",
      "Epoch 50/100\n",
      "404/404 [==============================] - 0s 168us/step - loss: 18.3177\n",
      "Epoch 51/100\n",
      "404/404 [==============================] - 0s 148us/step - loss: 18.0962\n",
      "Epoch 52/100\n",
      "404/404 [==============================] - 0s 116us/step - loss: 17.8898\n",
      "Epoch 53/100\n",
      "404/404 [==============================] - 0s 128us/step - loss: 17.6983\n",
      "Epoch 54/100\n",
      "404/404 [==============================] - 0s 126us/step - loss: 17.4673\n",
      "Epoch 55/100\n",
      "404/404 [==============================] - 0s 111us/step - loss: 17.2868\n",
      "Epoch 56/100\n",
      "404/404 [==============================] - 0s 116us/step - loss: 17.1035\n",
      "Epoch 57/100\n",
      "404/404 [==============================] - 0s 121us/step - loss: 16.9126\n",
      "Epoch 58/100\n",
      "404/404 [==============================] - 0s 101us/step - loss: 16.7391\n",
      "Epoch 59/100\n",
      "404/404 [==============================] - 0s 106us/step - loss: 16.5199\n",
      "Epoch 60/100\n",
      "404/404 [==============================] - 0s 202us/step - loss: 16.3465\n",
      "Epoch 61/100\n",
      "404/404 [==============================] - 0s 158us/step - loss: 16.1693\n",
      "Epoch 62/100\n",
      "404/404 [==============================] - 0s 118us/step - loss: 16.0167\n",
      "Epoch 63/100\n",
      "404/404 [==============================] - 0s 151us/step - loss: 15.8416\n",
      "Epoch 64/100\n",
      "404/404 [==============================] - 0s 141us/step - loss: 15.6881\n",
      "Epoch 65/100\n",
      "404/404 [==============================] - 0s 106us/step - loss: 15.5215\n",
      "Epoch 66/100\n",
      "404/404 [==============================] - 0s 114us/step - loss: 15.3252\n",
      "Epoch 67/100\n",
      "404/404 [==============================] - 0s 118us/step - loss: 15.1926\n",
      "Epoch 68/100\n",
      "404/404 [==============================] - 0s 118us/step - loss: 15.0421\n",
      "Epoch 69/100\n",
      "404/404 [==============================] - 0s 131us/step - loss: 14.8954\n",
      "Epoch 70/100\n",
      "404/404 [==============================] - 0s 114us/step - loss: 14.7388\n",
      "Epoch 71/100\n",
      "404/404 [==============================] - 0s 111us/step - loss: 14.5749\n",
      "Epoch 72/100\n",
      "404/404 [==============================] - 0s 118us/step - loss: 14.4219\n",
      "Epoch 73/100\n",
      "404/404 [==============================] - 0s 138us/step - loss: 14.3130\n",
      "Epoch 74/100\n",
      "404/404 [==============================] - 0s 138us/step - loss: 14.1743\n",
      "Epoch 75/100\n",
      "404/404 [==============================] - 0s 131us/step - loss: 14.0284\n",
      "Epoch 76/100\n",
      "404/404 [==============================] - 0s 141us/step - loss: 13.9267\n",
      "Epoch 77/100\n",
      "404/404 [==============================] - 0s 143us/step - loss: 13.7302\n",
      "Epoch 78/100\n",
      "404/404 [==============================] - 0s 131us/step - loss: 13.6815\n",
      "Epoch 79/100\n",
      "404/404 [==============================] - 0s 126us/step - loss: 13.5338\n",
      "Epoch 80/100\n",
      "404/404 [==============================] - 0s 106us/step - loss: 13.4402\n",
      "Epoch 81/100\n",
      "404/404 [==============================] - 0s 123us/step - loss: 13.2807\n",
      "Epoch 82/100\n",
      "404/404 [==============================] - 0s 116us/step - loss: 13.2015\n",
      "Epoch 83/100\n",
      "404/404 [==============================] - 0s 123us/step - loss: 13.0378\n",
      "Epoch 84/100\n",
      "404/404 [==============================] - ETA: 0s - loss: 13.18 - 0s 207us/step - loss: 12.9208\n",
      "Epoch 85/100\n",
      "404/404 [==============================] - 0s 123us/step - loss: 12.7596\n",
      "Epoch 86/100\n",
      "404/404 [==============================] - 0s 114us/step - loss: 12.6289\n",
      "Epoch 87/100\n",
      "404/404 [==============================] - 0s 104us/step - loss: 12.5199\n",
      "Epoch 88/100\n",
      "404/404 [==============================] - 0s 133us/step - loss: 12.4904\n",
      "Epoch 89/100\n",
      "404/404 [==============================] - 0s 106us/step - loss: 12.3628\n",
      "Epoch 90/100\n",
      "404/404 [==============================] - 0s 114us/step - loss: 12.2219\n",
      "Epoch 91/100\n",
      "404/404 [==============================] - 0s 118us/step - loss: 12.2455\n",
      "Epoch 92/100\n",
      "404/404 [==============================] - 0s 131us/step - loss: 12.0467\n",
      "Epoch 93/100\n",
      "404/404 [==============================] - 0s 121us/step - loss: 11.9353\n",
      "Epoch 94/100\n",
      "404/404 [==============================] - 0s 111us/step - loss: 11.9200\n",
      "Epoch 95/100\n",
      "404/404 [==============================] - 0s 116us/step - loss: 11.8194\n"
     ]
    },
    {
     "name": "stdout",
     "output_type": "stream",
     "text": [
      "Epoch 96/100\n",
      "404/404 [==============================] - 0s 118us/step - loss: 11.6948\n",
      "Epoch 97/100\n",
      "404/404 [==============================] - 0s 106us/step - loss: 11.6289\n",
      "Epoch 98/100\n",
      "404/404 [==============================] - 0s 101us/step - loss: 11.5584\n",
      "Epoch 99/100\n",
      "404/404 [==============================] - 0s 114us/step - loss: 11.4631\n",
      "Epoch 100/100\n",
      "404/404 [==============================] - 0s 99us/step - loss: 11.3663\n"
     ]
    },
    {
     "data": {
      "text/plain": [
       "<keras.callbacks.callbacks.History at 0x1edb88e85c8>"
      ]
     },
     "execution_count": 63,
     "metadata": {},
     "output_type": "execute_result"
    }
   ],
   "source": [
    "m.fit(x_train_scaled, y_train, epochs=100, batch_size=10)"
   ]
  },
  {
   "cell_type": "code",
   "execution_count": 64,
   "metadata": {},
   "outputs": [
    {
     "data": {
      "text/plain": [
       "array([[21., 42., 15., 20., 22., 22., 20., 17., 21., 15., 25., 15., 19.,\n",
       "        16., 24., 14., 16.,  5., 35., 35., 13., 23., 32., 21., 39., 19.,\n",
       "        21., 20.,  8., 14., 24., 13., 19., 24., 25., 18., 23., 26., 26.,\n",
       "        47., 23., 26., 27., 30., 19., 42., 28., 24.,  8., 14., 28., 12.,\n",
       "        21., 17., 37., 43., 17., 25., 17., 24., 18., 26., 20., 17., 29.,\n",
       "        27., 19., 13., 12., 10., 22., 14., 19., 17., 28., 20., 20., 16.,\n",
       "        21., 16., 20., 30., 28., 17., 25., 28., 16., 15., 14., 15., 18.,\n",
       "        45., 21., 17., 14., 33., 32., 23., 18., 46., 28., 26.]],\n",
       "      dtype=float32)"
      ]
     },
     "execution_count": 64,
     "metadata": {},
     "output_type": "execute_result"
    }
   ],
   "source": [
    "x_test_scaled = scaler.transform(x_test)\n",
    "m.predict(x_test_scaled).round().T"
   ]
  },
  {
   "cell_type": "code",
   "execution_count": 65,
   "metadata": {},
   "outputs": [
    {
     "name": "stderr",
     "output_type": "stream",
     "text": [
      "C:\\Users\\james\\Anaconda3\\lib\\site-packages\\ipykernel_launcher.py:1: FutureWarning: Method .as_matrix will be removed in a future version. Use .values instead.\n",
      "  \"\"\"Entry point for launching an IPython kernel.\n"
     ]
    },
    {
     "data": {
      "text/plain": [
       "array([19.4, 46. , 11.5, 21.2, 20.6, 24.4, 20.6, 16.2, 19.7, 13.4, 25. ,\n",
       "       11.9, 23.3, 19.6, 21.9, 15.6, 15.2,  7. , 33.8, 31.7, 11. , 22.9,\n",
       "       33.1, 19.4, 42.8, 21.2, 19.8, 22.2,  8.7, 16.5, 23.8, 13.4, 24.5,\n",
       "       25. , 23.4, 15. , 20.9, 28.4, 22.7, 50. , 20.3, 23.7, 22.6, 24. ,\n",
       "       17.5, 50. , 36.2, 50. ,  7.2, 17.1, 25. , 13.5, 23. , 18.3, 35.4,\n",
       "       37.6, 18.9, 23.9, 23.1, 23.8, 19.9, 24.2, 20.6, 18.2, 30.8, 22. ,\n",
       "       16.2, 12.3, 12.7,  6.3, 25. , 14. , 20.9, 14.4, 24.3, 27.9, 19.4,\n",
       "       14.6, 20.3, 20.1, 17.4, 28.6, 50. , 13.8, 28.1, 27.1, 15.6, 12.1,\n",
       "       11.3, 13.1, 18.8, 50. , 22.2, 19.1, 12.7, 23.6, 32.9, 24.8, 16.8,\n",
       "       50. , 29. , 24.1], dtype=float32)"
      ]
     },
     "execution_count": 65,
     "metadata": {},
     "output_type": "execute_result"
    }
   ],
   "source": [
    "y_test.as_matrix().astype(np.float32)"
   ]
  },
  {
   "cell_type": "code",
   "execution_count": 66,
   "metadata": {},
   "outputs": [
    {
     "name": "stdout",
     "output_type": "stream",
     "text": [
      "102/102 [==============================] - 0s 391us/step\n"
     ]
    },
    {
     "data": {
      "text/plain": [
       "20.173929616516713"
      ]
     },
     "execution_count": 66,
     "metadata": {},
     "output_type": "execute_result"
    }
   ],
   "source": [
    "m.evaluate(x_test_scaled, y_test)"
   ]
  },
  {
   "cell_type": "markdown",
   "metadata": {},
   "source": [
    "### Whitening"
   ]
  },
  {
   "cell_type": "code",
   "execution_count": 67,
   "metadata": {},
   "outputs": [
    {
     "data": {
      "text/html": [
       "<div>\n",
       "<style scoped>\n",
       "    .dataframe tbody tr th:only-of-type {\n",
       "        vertical-align: middle;\n",
       "    }\n",
       "\n",
       "    .dataframe tbody tr th {\n",
       "        vertical-align: top;\n",
       "    }\n",
       "\n",
       "    .dataframe thead th {\n",
       "        text-align: right;\n",
       "    }\n",
       "</style>\n",
       "<table border=\"1\" class=\"dataframe\">\n",
       "  <thead>\n",
       "    <tr style=\"text-align: right;\">\n",
       "      <th></th>\n",
       "      <th>CHAS</th>\n",
       "      <th>CRIM</th>\n",
       "      <th>ZN</th>\n",
       "      <th>INDUS</th>\n",
       "      <th>NOX</th>\n",
       "      <th>RM</th>\n",
       "      <th>AGE</th>\n",
       "      <th>DIS</th>\n",
       "      <th>RAD</th>\n",
       "      <th>TAX</th>\n",
       "      <th>PTRATIO</th>\n",
       "      <th>B</th>\n",
       "      <th>LSTAT</th>\n",
       "    </tr>\n",
       "  </thead>\n",
       "  <tbody>\n",
       "    <tr>\n",
       "      <th>0</th>\n",
       "      <td>-0.612165</td>\n",
       "      <td>-0.126518</td>\n",
       "      <td>2.276225</td>\n",
       "      <td>2.127366</td>\n",
       "      <td>-0.108183</td>\n",
       "      <td>-0.019944</td>\n",
       "      <td>-0.066722</td>\n",
       "      <td>0.757909</td>\n",
       "      <td>0.972455</td>\n",
       "      <td>1.059563</td>\n",
       "      <td>0.649859</td>\n",
       "      <td>0.016259</td>\n",
       "      <td>0.715478</td>\n",
       "    </tr>\n",
       "    <tr>\n",
       "      <th>1</th>\n",
       "      <td>-0.177713</td>\n",
       "      <td>-0.389361</td>\n",
       "      <td>-1.063673</td>\n",
       "      <td>0.650885</td>\n",
       "      <td>-0.510155</td>\n",
       "      <td>-0.643191</td>\n",
       "      <td>-0.359109</td>\n",
       "      <td>1.382717</td>\n",
       "      <td>1.373989</td>\n",
       "      <td>-1.174077</td>\n",
       "      <td>-0.165932</td>\n",
       "      <td>-0.150846</td>\n",
       "      <td>-0.448576</td>\n",
       "    </tr>\n",
       "    <tr>\n",
       "      <th>2</th>\n",
       "      <td>1.651530</td>\n",
       "      <td>0.791476</td>\n",
       "      <td>-0.194871</td>\n",
       "      <td>0.409540</td>\n",
       "      <td>2.049957</td>\n",
       "      <td>-0.498232</td>\n",
       "      <td>0.290882</td>\n",
       "      <td>0.202009</td>\n",
       "      <td>0.219505</td>\n",
       "      <td>0.050331</td>\n",
       "      <td>1.793837</td>\n",
       "      <td>-0.150902</td>\n",
       "      <td>-1.755658</td>\n",
       "    </tr>\n",
       "    <tr>\n",
       "      <th>3</th>\n",
       "      <td>-0.819242</td>\n",
       "      <td>0.104878</td>\n",
       "      <td>-1.027247</td>\n",
       "      <td>1.883784</td>\n",
       "      <td>-0.065088</td>\n",
       "      <td>-1.666251</td>\n",
       "      <td>-0.551335</td>\n",
       "      <td>0.141712</td>\n",
       "      <td>-2.230502</td>\n",
       "      <td>-0.565080</td>\n",
       "      <td>1.121524</td>\n",
       "      <td>-0.823052</td>\n",
       "      <td>0.660511</td>\n",
       "    </tr>\n",
       "    <tr>\n",
       "      <th>4</th>\n",
       "      <td>-0.472376</td>\n",
       "      <td>-0.124256</td>\n",
       "      <td>1.339433</td>\n",
       "      <td>-0.044552</td>\n",
       "      <td>-0.193107</td>\n",
       "      <td>-0.320994</td>\n",
       "      <td>-0.138483</td>\n",
       "      <td>1.964575</td>\n",
       "      <td>1.613685</td>\n",
       "      <td>1.477488</td>\n",
       "      <td>-1.255988</td>\n",
       "      <td>0.347526</td>\n",
       "      <td>1.436341</td>\n",
       "    </tr>\n",
       "    <tr>\n",
       "      <th>...</th>\n",
       "      <td>...</td>\n",
       "      <td>...</td>\n",
       "      <td>...</td>\n",
       "      <td>...</td>\n",
       "      <td>...</td>\n",
       "      <td>...</td>\n",
       "      <td>...</td>\n",
       "      <td>...</td>\n",
       "      <td>...</td>\n",
       "      <td>...</td>\n",
       "      <td>...</td>\n",
       "      <td>...</td>\n",
       "      <td>...</td>\n",
       "    </tr>\n",
       "    <tr>\n",
       "      <th>399</th>\n",
       "      <td>-0.076616</td>\n",
       "      <td>-0.174811</td>\n",
       "      <td>-0.444593</td>\n",
       "      <td>-0.309791</td>\n",
       "      <td>-0.539266</td>\n",
       "      <td>0.065857</td>\n",
       "      <td>0.611961</td>\n",
       "      <td>0.823932</td>\n",
       "      <td>0.266112</td>\n",
       "      <td>0.678590</td>\n",
       "      <td>-0.303769</td>\n",
       "      <td>-0.190005</td>\n",
       "      <td>-2.068550</td>\n",
       "    </tr>\n",
       "    <tr>\n",
       "      <th>400</th>\n",
       "      <td>-1.062582</td>\n",
       "      <td>0.244990</td>\n",
       "      <td>-0.567045</td>\n",
       "      <td>-0.719013</td>\n",
       "      <td>0.228304</td>\n",
       "      <td>-1.162605</td>\n",
       "      <td>-0.649381</td>\n",
       "      <td>0.401912</td>\n",
       "      <td>0.652782</td>\n",
       "      <td>1.287714</td>\n",
       "      <td>0.337658</td>\n",
       "      <td>-0.203079</td>\n",
       "      <td>0.345634</td>\n",
       "    </tr>\n",
       "    <tr>\n",
       "      <th>401</th>\n",
       "      <td>-0.145026</td>\n",
       "      <td>-0.449626</td>\n",
       "      <td>1.533535</td>\n",
       "      <td>0.274548</td>\n",
       "      <td>-0.415902</td>\n",
       "      <td>-0.560979</td>\n",
       "      <td>0.106358</td>\n",
       "      <td>1.353431</td>\n",
       "      <td>-1.300887</td>\n",
       "      <td>-1.047631</td>\n",
       "      <td>-0.523989</td>\n",
       "      <td>-0.144872</td>\n",
       "      <td>-0.866608</td>\n",
       "    </tr>\n",
       "    <tr>\n",
       "      <th>402</th>\n",
       "      <td>1.334731</td>\n",
       "      <td>-1.457254</td>\n",
       "      <td>-0.022849</td>\n",
       "      <td>-0.066258</td>\n",
       "      <td>-0.826490</td>\n",
       "      <td>-0.883482</td>\n",
       "      <td>-0.274519</td>\n",
       "      <td>-1.044126</td>\n",
       "      <td>0.229518</td>\n",
       "      <td>0.919798</td>\n",
       "      <td>0.128338</td>\n",
       "      <td>-0.466403</td>\n",
       "      <td>-2.336512</td>\n",
       "    </tr>\n",
       "    <tr>\n",
       "      <th>403</th>\n",
       "      <td>1.701790</td>\n",
       "      <td>1.175901</td>\n",
       "      <td>-0.170470</td>\n",
       "      <td>0.387306</td>\n",
       "      <td>0.143871</td>\n",
       "      <td>-0.325601</td>\n",
       "      <td>-0.360276</td>\n",
       "      <td>-0.255874</td>\n",
       "      <td>0.104467</td>\n",
       "      <td>-0.375854</td>\n",
       "      <td>-1.434241</td>\n",
       "      <td>-0.225523</td>\n",
       "      <td>-1.578670</td>\n",
       "    </tr>\n",
       "  </tbody>\n",
       "</table>\n",
       "<p>404 rows × 13 columns</p>\n",
       "</div>"
      ],
      "text/plain": [
       "         CHAS      CRIM        ZN     INDUS       NOX        RM       AGE  \\\n",
       "0   -0.612165 -0.126518  2.276225  2.127366 -0.108183 -0.019944 -0.066722   \n",
       "1   -0.177713 -0.389361 -1.063673  0.650885 -0.510155 -0.643191 -0.359109   \n",
       "2    1.651530  0.791476 -0.194871  0.409540  2.049957 -0.498232  0.290882   \n",
       "3   -0.819242  0.104878 -1.027247  1.883784 -0.065088 -1.666251 -0.551335   \n",
       "4   -0.472376 -0.124256  1.339433 -0.044552 -0.193107 -0.320994 -0.138483   \n",
       "..        ...       ...       ...       ...       ...       ...       ...   \n",
       "399 -0.076616 -0.174811 -0.444593 -0.309791 -0.539266  0.065857  0.611961   \n",
       "400 -1.062582  0.244990 -0.567045 -0.719013  0.228304 -1.162605 -0.649381   \n",
       "401 -0.145026 -0.449626  1.533535  0.274548 -0.415902 -0.560979  0.106358   \n",
       "402  1.334731 -1.457254 -0.022849 -0.066258 -0.826490 -0.883482 -0.274519   \n",
       "403  1.701790  1.175901 -0.170470  0.387306  0.143871 -0.325601 -0.360276   \n",
       "\n",
       "          DIS       RAD       TAX   PTRATIO         B     LSTAT  \n",
       "0    0.757909  0.972455  1.059563  0.649859  0.016259  0.715478  \n",
       "1    1.382717  1.373989 -1.174077 -0.165932 -0.150846 -0.448576  \n",
       "2    0.202009  0.219505  0.050331  1.793837 -0.150902 -1.755658  \n",
       "3    0.141712 -2.230502 -0.565080  1.121524 -0.823052  0.660511  \n",
       "4    1.964575  1.613685  1.477488 -1.255988  0.347526  1.436341  \n",
       "..        ...       ...       ...       ...       ...       ...  \n",
       "399  0.823932  0.266112  0.678590 -0.303769 -0.190005 -2.068550  \n",
       "400  0.401912  0.652782  1.287714  0.337658 -0.203079  0.345634  \n",
       "401  1.353431 -1.300887 -1.047631 -0.523989 -0.144872 -0.866608  \n",
       "402 -1.044126  0.229518  0.919798  0.128338 -0.466403 -2.336512  \n",
       "403 -0.255874  0.104467 -0.375854 -1.434241 -0.225523 -1.578670  \n",
       "\n",
       "[404 rows x 13 columns]"
      ]
     },
     "execution_count": 67,
     "metadata": {},
     "output_type": "execute_result"
    }
   ],
   "source": [
    "pca = dec.PCA(n_components=13, whiten=True)\n",
    "pca.fit(x_train)\n",
    "x_train_white = pd.DataFrame(pca.transform(x_train), columns=x.columns)\n",
    "x_train_white"
   ]
  },
  {
   "cell_type": "code",
   "execution_count": 68,
   "metadata": {},
   "outputs": [],
   "source": [
    "m = kr.models.Sequential()\n",
    "\n",
    "m.add(kr.layers.Dense(100, input_dim=13, activation=\"tanh\"))\n",
    "m.add(kr.layers.Dense(1, activation=\"linear\"))\n",
    "\n",
    "m.compile(loss=\"mean_squared_error\", optimizer=\"adam\")"
   ]
  },
  {
   "cell_type": "code",
   "execution_count": 69,
   "metadata": {},
   "outputs": [
    {
     "name": "stdout",
     "output_type": "stream",
     "text": [
      "Epoch 1/100\n",
      "404/404 [==============================] - 0s 807us/step - loss: 570.3548\n",
      "Epoch 2/100\n",
      "404/404 [==============================] - 0s 118us/step - loss: 538.1792\n",
      "Epoch 3/100\n",
      "404/404 [==============================] - 0s 126us/step - loss: 497.3532\n",
      "Epoch 4/100\n",
      "404/404 [==============================] - 0s 123us/step - loss: 442.8866\n",
      "Epoch 5/100\n",
      "404/404 [==============================] - 0s 109us/step - loss: 376.3947\n",
      "Epoch 6/100\n",
      "404/404 [==============================] - 0s 116us/step - loss: 302.7733\n",
      "Epoch 7/100\n",
      "404/404 [==============================] - 0s 143us/step - loss: 230.3519\n",
      "Epoch 8/100\n",
      "404/404 [==============================] - 0s 153us/step - loss: 165.0735\n",
      "Epoch 9/100\n",
      "404/404 [==============================] - 0s 126us/step - loss: 113.1607\n",
      "Epoch 10/100\n",
      "404/404 [==============================] - 0s 121us/step - loss: 76.0712\n",
      "Epoch 11/100\n",
      "404/404 [==============================] - 0s 205us/step - loss: 52.0338\n",
      "Epoch 12/100\n",
      "404/404 [==============================] - 0s 123us/step - loss: 37.5814\n",
      "Epoch 13/100\n",
      "404/404 [==============================] - 0s 121us/step - loss: 30.3617\n",
      "Epoch 14/100\n",
      "404/404 [==============================] - 0s 116us/step - loss: 26.6449\n",
      "Epoch 15/100\n",
      "404/404 [==============================] - 0s 126us/step - loss: 25.0111\n",
      "Epoch 16/100\n",
      "404/404 [==============================] - 0s 114us/step - loss: 24.2271\n",
      "Epoch 17/100\n",
      "404/404 [==============================] - 0s 123us/step - loss: 23.7056\n",
      "Epoch 18/100\n",
      "404/404 [==============================] - 0s 128us/step - loss: 23.4975\n",
      "Epoch 19/100\n",
      "404/404 [==============================] - 0s 160us/step - loss: 23.2506\n",
      "Epoch 20/100\n",
      "404/404 [==============================] - 0s 118us/step - loss: 23.1177\n",
      "Epoch 21/100\n",
      "404/404 [==============================] - 0s 121us/step - loss: 22.8604\n",
      "Epoch 22/100\n",
      "404/404 [==============================] - 0s 118us/step - loss: 22.6515\n",
      "Epoch 23/100\n",
      "404/404 [==============================] - 0s 118us/step - loss: 22.5606\n",
      "Epoch 24/100\n",
      "404/404 [==============================] - 0s 109us/step - loss: 22.3801\n",
      "Epoch 25/100\n",
      "404/404 [==============================] - 0s 109us/step - loss: 22.2043\n",
      "Epoch 26/100\n",
      "404/404 [==============================] - 0s 118us/step - loss: 22.0012\n",
      "Epoch 27/100\n",
      "404/404 [==============================] - 0s 131us/step - loss: 21.9310\n",
      "Epoch 28/100\n",
      "404/404 [==============================] - 0s 220us/step - loss: 21.7988\n",
      "Epoch 29/100\n",
      "404/404 [==============================] - 0s 215us/step - loss: 21.5057\n",
      "Epoch 30/100\n",
      "404/404 [==============================] - 0s 173us/step - loss: 21.2727\n",
      "Epoch 31/100\n",
      "404/404 [==============================] - 0s 131us/step - loss: 21.1343\n",
      "Epoch 32/100\n",
      "404/404 [==============================] - 0s 202us/step - loss: 20.9500\n",
      "Epoch 33/100\n",
      "404/404 [==============================] - 0s 153us/step - loss: 20.7315\n",
      "Epoch 34/100\n",
      "404/404 [==============================] - 0s 126us/step - loss: 20.6413\n",
      "Epoch 35/100\n",
      "404/404 [==============================] - 0s 128us/step - loss: 20.3537\n",
      "Epoch 36/100\n",
      "404/404 [==============================] - 0s 118us/step - loss: 20.0043\n",
      "Epoch 37/100\n",
      "404/404 [==============================] - 0s 116us/step - loss: 19.9251\n",
      "Epoch 38/100\n",
      "404/404 [==============================] - 0s 114us/step - loss: 19.8060\n",
      "Epoch 39/100\n",
      "404/404 [==============================] - 0s 126us/step - loss: 19.6789\n",
      "Epoch 40/100\n",
      "404/404 [==============================] - 0s 128us/step - loss: 19.2680\n",
      "Epoch 41/100\n",
      "404/404 [==============================] - 0s 121us/step - loss: 18.9957\n",
      "Epoch 42/100\n",
      "404/404 [==============================] - 0s 114us/step - loss: 18.8153\n",
      "Epoch 43/100\n",
      "404/404 [==============================] - 0s 121us/step - loss: 18.4991\n",
      "Epoch 44/100\n",
      "404/404 [==============================] - 0s 126us/step - loss: 18.2080\n",
      "Epoch 45/100\n",
      "404/404 [==============================] - 0s 123us/step - loss: 18.1242\n",
      "Epoch 46/100\n",
      "404/404 [==============================] - 0s 118us/step - loss: 17.8622\n",
      "Epoch 47/100\n",
      "404/404 [==============================] - 0s 126us/step - loss: 17.6330\n",
      "Epoch 48/100\n",
      "404/404 [==============================] - 0s 118us/step - loss: 17.3239\n",
      "Epoch 49/100\n",
      "404/404 [==============================] - 0s 123us/step - loss: 17.1597\n",
      "Epoch 50/100\n",
      "404/404 [==============================] - 0s 128us/step - loss: 16.8505\n",
      "Epoch 51/100\n",
      "404/404 [==============================] - 0s 195us/step - loss: 16.7566\n",
      "Epoch 52/100\n",
      "404/404 [==============================] - 0s 138us/step - loss: 16.4033\n",
      "Epoch 53/100\n",
      "404/404 [==============================] - 0s 123us/step - loss: 16.1886\n",
      "Epoch 54/100\n",
      "404/404 [==============================] - 0s 114us/step - loss: 16.0309\n",
      "Epoch 55/100\n",
      "404/404 [==============================] - 0s 109us/step - loss: 15.7615\n",
      "Epoch 56/100\n",
      "404/404 [==============================] - 0s 106us/step - loss: 15.4664\n",
      "Epoch 57/100\n",
      "404/404 [==============================] - 0s 190us/step - loss: 15.3502\n",
      "Epoch 58/100\n",
      "404/404 [==============================] - 0s 109us/step - loss: 15.2558\n",
      "Epoch 59/100\n",
      "404/404 [==============================] - 0s 114us/step - loss: 14.8982\n",
      "Epoch 60/100\n",
      "404/404 [==============================] - 0s 104us/step - loss: 14.6646\n",
      "Epoch 61/100\n",
      "404/404 [==============================] - 0s 104us/step - loss: 14.4026\n",
      "Epoch 62/100\n",
      "404/404 [==============================] - 0s 104us/step - loss: 14.2183\n",
      "Epoch 63/100\n",
      "404/404 [==============================] - 0s 104us/step - loss: 14.0338\n",
      "Epoch 64/100\n",
      "404/404 [==============================] - 0s 111us/step - loss: 13.7262\n",
      "Epoch 65/100\n",
      "404/404 [==============================] - 0s 106us/step - loss: 13.6763\n",
      "Epoch 66/100\n",
      "404/404 [==============================] - 0s 101us/step - loss: 13.4666\n",
      "Epoch 67/100\n",
      "404/404 [==============================] - 0s 106us/step - loss: 13.2095\n",
      "Epoch 68/100\n",
      "404/404 [==============================] - 0s 109us/step - loss: 13.1149\n",
      "Epoch 69/100\n",
      "404/404 [==============================] - 0s 109us/step - loss: 12.8590\n",
      "Epoch 70/100\n",
      "404/404 [==============================] - 0s 104us/step - loss: 12.7604\n",
      "Epoch 71/100\n",
      "404/404 [==============================] - 0s 131us/step - loss: 12.4696\n",
      "Epoch 72/100\n",
      "404/404 [==============================] - 0s 146us/step - loss: 12.5057\n",
      "Epoch 73/100\n",
      "404/404 [==============================] - 0s 118us/step - loss: 12.1664\n",
      "Epoch 74/100\n",
      "404/404 [==============================] - 0s 126us/step - loss: 11.9903\n",
      "Epoch 75/100\n",
      "404/404 [==============================] - 0s 111us/step - loss: 11.9952\n",
      "Epoch 76/100\n",
      "404/404 [==============================] - 0s 111us/step - loss: 11.8732\n",
      "Epoch 77/100\n",
      "404/404 [==============================] - 0s 151us/step - loss: 11.6016\n",
      "Epoch 78/100\n",
      "404/404 [==============================] - 0s 291us/step - loss: 11.3857\n",
      "Epoch 79/100\n",
      "404/404 [==============================] - 0s 274us/step - loss: 11.2669\n",
      "Epoch 80/100\n",
      "404/404 [==============================] - 0s 239us/step - loss: 11.1242\n",
      "Epoch 81/100\n",
      "404/404 [==============================] - 0s 190us/step - loss: 11.0453\n",
      "Epoch 82/100\n",
      "404/404 [==============================] - 0s 267us/step - loss: 10.8441\n",
      "Epoch 83/100\n",
      "404/404 [==============================] - 0s 257us/step - loss: 10.7683\n",
      "Epoch 84/100\n",
      "404/404 [==============================] - 0s 178us/step - loss: 10.6372\n",
      "Epoch 85/100\n",
      "404/404 [==============================] - 0s 259us/step - loss: 10.5514\n",
      "Epoch 86/100\n",
      "404/404 [==============================] - 0s 294us/step - loss: 10.4787\n",
      "Epoch 87/100\n",
      "404/404 [==============================] - 0s 207us/step - loss: 10.2525\n",
      "Epoch 88/100\n",
      "404/404 [==============================] - 0s 239us/step - loss: 10.2054\n",
      "Epoch 89/100\n",
      "404/404 [==============================] - 0s 237us/step - loss: 10.0869\n",
      "Epoch 90/100\n",
      "404/404 [==============================] - 0s 202us/step - loss: 9.8604\n",
      "Epoch 91/100\n",
      "404/404 [==============================] - 0s 173us/step - loss: 9.7911\n",
      "Epoch 92/100\n",
      "404/404 [==============================] - 0s 225us/step - loss: 9.8070\n",
      "Epoch 93/100\n",
      "404/404 [==============================] - 0s 188us/step - loss: 9.6255\n",
      "Epoch 94/100\n",
      "404/404 [==============================] - 0s 128us/step - loss: 9.5036\n",
      "Epoch 95/100\n",
      "404/404 [==============================] - 0s 242us/step - loss: 9.4248\n",
      "Epoch 96/100\n"
     ]
    },
    {
     "name": "stdout",
     "output_type": "stream",
     "text": [
      "404/404 [==============================] - 0s 121us/step - loss: 9.3007\n",
      "Epoch 97/100\n",
      "404/404 [==============================] - 0s 128us/step - loss: 9.3031\n",
      "Epoch 98/100\n",
      "404/404 [==============================] - 0s 116us/step - loss: 9.1275\n",
      "Epoch 99/100\n",
      "404/404 [==============================] - 0s 116us/step - loss: 9.0320\n",
      "Epoch 100/100\n",
      "404/404 [==============================] - 0s 114us/step - loss: 8.9619\n"
     ]
    },
    {
     "data": {
      "text/plain": [
       "<keras.callbacks.callbacks.History at 0x1edc3669288>"
      ]
     },
     "execution_count": 69,
     "metadata": {},
     "output_type": "execute_result"
    }
   ],
   "source": [
    "m.fit(x_train_white, y_train, epochs=100, batch_size=10)"
   ]
  },
  {
   "cell_type": "code",
   "execution_count": 70,
   "metadata": {},
   "outputs": [
    {
     "data": {
      "text/plain": [
       "array([[31.,  8., 21., 28., 25., 20., 36., 30., 34.,  0., 12., 22., 21.,\n",
       "        27., 28., 25., 12., 10., 30., 23.,  6., 19., 27., 34.,  9., 31.,\n",
       "        28., 26.,  4., 32., 25.,  9., 30., 30., 24., 10., 30., 30.,  1.,\n",
       "        27., 35., 28., 32., 35., 23.,  7., 35., 19.,  4., 14., 27., 23.,\n",
       "        18., 33., 30., 20., 35., 28., 31., 29., 19., 24., 20., 25., 25.,\n",
       "        28., 35., 20., 27., 16., 18., 26., 27., 31., 37., 20., 34., 18.,\n",
       "        30., 21., 34., 29., 25., 22., 28., 31., 21., 16., 20., 19., 34.,\n",
       "         4., 30., 18.,  4., 27., 21., 19., 31., 27.,  7., 26.]],\n",
       "      dtype=float32)"
      ]
     },
     "execution_count": 70,
     "metadata": {},
     "output_type": "execute_result"
    }
   ],
   "source": [
    "x_test_white = scaler.transform(x_test)\n",
    "m.predict(x_test_white).round().T"
   ]
  },
  {
   "cell_type": "code",
   "execution_count": 71,
   "metadata": {},
   "outputs": [
    {
     "name": "stderr",
     "output_type": "stream",
     "text": [
      "C:\\Users\\james\\Anaconda3\\lib\\site-packages\\ipykernel_launcher.py:1: FutureWarning: Method .as_matrix will be removed in a future version. Use .values instead.\n",
      "  \"\"\"Entry point for launching an IPython kernel.\n"
     ]
    },
    {
     "data": {
      "text/plain": [
       "array([19.4, 46. , 11.5, 21.2, 20.6, 24.4, 20.6, 16.2, 19.7, 13.4, 25. ,\n",
       "       11.9, 23.3, 19.6, 21.9, 15.6, 15.2,  7. , 33.8, 31.7, 11. , 22.9,\n",
       "       33.1, 19.4, 42.8, 21.2, 19.8, 22.2,  8.7, 16.5, 23.8, 13.4, 24.5,\n",
       "       25. , 23.4, 15. , 20.9, 28.4, 22.7, 50. , 20.3, 23.7, 22.6, 24. ,\n",
       "       17.5, 50. , 36.2, 50. ,  7.2, 17.1, 25. , 13.5, 23. , 18.3, 35.4,\n",
       "       37.6, 18.9, 23.9, 23.1, 23.8, 19.9, 24.2, 20.6, 18.2, 30.8, 22. ,\n",
       "       16.2, 12.3, 12.7,  6.3, 25. , 14. , 20.9, 14.4, 24.3, 27.9, 19.4,\n",
       "       14.6, 20.3, 20.1, 17.4, 28.6, 50. , 13.8, 28.1, 27.1, 15.6, 12.1,\n",
       "       11.3, 13.1, 18.8, 50. , 22.2, 19.1, 12.7, 23.6, 32.9, 24.8, 16.8,\n",
       "       50. , 29. , 24.1], dtype=float32)"
      ]
     },
     "execution_count": 71,
     "metadata": {},
     "output_type": "execute_result"
    }
   ],
   "source": [
    "y_test.as_matrix().astype(np.float32)"
   ]
  },
  {
   "cell_type": "code",
   "execution_count": 72,
   "metadata": {},
   "outputs": [
    {
     "name": "stdout",
     "output_type": "stream",
     "text": [
      "102/102 [==============================] - 0s 362us/step\n"
     ]
    },
    {
     "data": {
      "text/plain": [
       "170.21050397087546"
      ]
     },
     "execution_count": 72,
     "metadata": {},
     "output_type": "execute_result"
    }
   ],
   "source": [
    "m.evaluate(x_test_white, y_test)"
   ]
  },
  {
   "cell_type": "code",
   "execution_count": null,
   "metadata": {},
   "outputs": [],
   "source": []
  }
 ],
 "metadata": {
  "kernelspec": {
   "display_name": "Python 3",
   "language": "python",
   "name": "python3"
  },
  "language_info": {
   "codemirror_mode": {
    "name": "ipython",
    "version": 3
   },
   "file_extension": ".py",
   "mimetype": "text/x-python",
   "name": "python",
   "nbconvert_exporter": "python",
   "pygments_lexer": "ipython3",
   "version": "3.7.5"
  }
 },
 "nbformat": 4,
 "nbformat_minor": 4
}
